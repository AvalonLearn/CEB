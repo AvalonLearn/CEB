{
 "cells": [
  {
   "cell_type": "code",
   "execution_count": 186,
   "id": "engaged-government",
   "metadata": {},
   "outputs": [
    {
     "name": "stdout",
     "output_type": "stream",
     "text": [
      "The autoreload extension is already loaded. To reload it, use:\n",
      "  %reload_ext autoreload\n"
     ]
    }
   ],
   "source": [
    "%load_ext autoreload\n",
    "%autoreload 2\n",
    "\n",
    "import numpy as np\n",
    "import pandas as pd\n",
    "\n",
    "from cardinality_estimation.featurizer import Featurizer\n",
    "from query_representation.query import load_qrep\n",
    "from cardinality_estimation.dataset import *\n",
    "from torch.utils import data\n",
    "\n",
    "import glob\n",
    "import random\n",
    "import os\n",
    "import json\n",
    "import time\n",
    "import matplotlib.pyplot as plt"
   ]
  },
  {
   "cell_type": "markdown",
   "id": "selected-separate",
   "metadata": {},
   "source": [
    "# Setup file paths / Download query data"
   ]
  },
  {
   "cell_type": "code",
   "execution_count": 187,
   "id": "perfect-surgery",
   "metadata": {},
   "outputs": [],
   "source": [
    "import errno\n",
    "def make_dir(directory):\n",
    "    try:\n",
    "        os.makedirs(directory)\n",
    "    except OSError as e:\n",
    "        if e.errno != errno.EEXIST:\n",
    "            raise"
   ]
  },
  {
   "cell_type": "code",
   "execution_count": 3,
   "id": "hidden-somalia",
   "metadata": {},
   "outputs": [],
   "source": [
    "# TODO\n",
    "# TRAINDIR = os.path.join(os.path.join(\"\", \"queries\"), \"mlsys1-train\")\n",
    "# VALDIR = os.path.join(os.path.join(\"\", \"queries\"), \"mlsys1-val\")\n",
    "# TESTDIR = os.path.join(os.path.join(\"\", \"queries\"), \"mlsys1-test\")\n",
    "\n",
    "TRAINDIR = os.path.join(os.path.join(\"\", \"queries\"), \"imdb\")\n",
    "TESTDIR = os.path.join(os.path.join(\"\", \"queries\"), \"imdb\")\n",
    "\n",
    "RESULTDIR = os.path.join(\"\", \"results\")\n",
    "make_dir(RESULTDIR)"
   ]
  },
  {
   "cell_type": "markdown",
   "id": "opposite-collaboration",
   "metadata": {},
   "source": [
    "# Query loading helper functions"
   ]
  },
  {
   "cell_type": "code",
   "execution_count": 155,
   "id": "hollywood-flood",
   "metadata": {},
   "outputs": [],
   "source": [
    "\n",
    "def load_qdata(fns):\n",
    "    qreps = []\n",
    "    for qfn in fns:\n",
    "        qrep = load_qrep(qfn)\n",
    "        # TODO: can do checks like no queries with zero cardinalities etc.\n",
    "        qreps.append(qrep)\n",
    "        template_name = os.path.basename(os.path.dirname(qfn))\n",
    "        qrep[\"name\"] = os.path.basename(qfn)\n",
    "        qrep[\"template_name\"] = template_name\n",
    "    return qreps\n",
    "\n",
    "def get_query_fns(basedir, template_fraction=1.0, sel_templates=None):\n",
    "    fns = []\n",
    "    tmpnames = list(glob.glob(os.path.join(basedir, \"*\")))\n",
    "    assert template_fraction <= 1.0\n",
    "    \n",
    "    for qi,qdir in enumerate(tmpnames):\n",
    "        if os.path.isfile(qdir):\n",
    "            continue\n",
    "        template_name = os.path.basename(qdir)\n",
    "        if sel_templates is not None and template_name not in sel_templates:\n",
    "            continue\n",
    "        \n",
    "        # let's first select all the qfns we are going to load\n",
    "        qfns = list(glob.glob(os.path.join(qdir, \"*.pkl\")))\n",
    "        qfns.sort()\n",
    "        num_samples = max(int(len(qfns)*template_fraction), 1)\n",
    "        random.seed(1234)\n",
    "        qfns = random.sample(qfns, num_samples)\n",
    "        fns += qfns\n",
    "    return fns"
   ]
  },
  {
   "cell_type": "markdown",
   "id": "arranged-waterproof",
   "metadata": {},
   "source": [
    "# Evaluation helper functions"
   ]
  },
  {
   "cell_type": "code",
   "execution_count": 156,
   "id": "mineral-accounting",
   "metadata": {},
   "outputs": [],
   "source": [
    "def get_preds(alg, qreps):\n",
    "    if isinstance(qreps[0], str):\n",
    "        # only file paths sent\n",
    "        qreps = load_qdata(qreps)\n",
    "    \n",
    "    ests = alg.test(qreps)\n",
    "    return ests\n",
    "\n",
    "def eval_alg(alg, eval_funcs, qreps, samples_type, result_dir=\"./results/\"):\n",
    "    '''\n",
    "    '''\n",
    "    np.set_printoptions(formatter={'float': lambda x: \"{0:0.3f}\".format(x)})\n",
    "\n",
    "    alg_name = alg.__str__()\n",
    "    exp_name = alg.get_exp_name()\n",
    "    \n",
    "    if isinstance(qreps[0], str):\n",
    "        # only file paths sent\n",
    "        qreps = load_qdata(qreps)\n",
    "    \n",
    "    ests = alg.test(qreps)\n",
    "\n",
    "    for efunc in eval_funcs:\n",
    "        rdir = None\n",
    "        if result_dir is not None:\n",
    "            rdir = os.path.join(result_dir, exp_name)\n",
    "            make_dir(rdir)\n",
    "\n",
    "        errors = efunc.eval(qreps, ests, samples_type=samples_type,\n",
    "                result_dir=rdir,\n",
    "                num_processes = -1,\n",
    "                alg_name = alg_name,\n",
    "                use_wandb=0)\n",
    "\n",
    "        print(\"{}, {}, #samples: {}, {}: mean: {}, median: {}, 99p: {}\"\\\n",
    "                .format(samples_type, alg, len(errors),\n",
    "                    efunc.__str__(),\n",
    "                    np.round(np.mean(errors),3),\n",
    "                    np.round(np.median(errors),3),\n",
    "                    np.round(np.percentile(errors,99),3)))"
   ]
  },
  {
   "cell_type": "markdown",
   "id": "lucky-omaha",
   "metadata": {},
   "source": [
    "# Load queries"
   ]
  },
  {
   "cell_type": "code",
   "execution_count": 157,
   "id": "sacred-arena",
   "metadata": {},
   "outputs": [
    {
     "name": "stdout",
     "output_type": "stream",
     "text": [
      "Selected 400 training queries, 0 validation queries, 888 test queries\n"
     ]
    }
   ],
   "source": [
    "# set template_fraction <= 1.0 to test quickly w/ smaller datasets\n",
    "# train_qfns = get_query_fns(TRAINDIR, template_fraction = 0.001)\n",
    "# val_qfns = get_query_fns(VALDIR, template_fraction = 1.0)\n",
    "# test_qfns = get_query_fns(TESTDIR, template_fraction = 1.0)\n",
    "\n",
    "train_qfns = get_query_fns(TRAINDIR, template_fraction = 0.8, sel_templates=[\"2b\"])\n",
    "val_qfns = []\n",
    "test_qfns = get_query_fns(TESTDIR, template_fraction = 1.0, sel_templates=[\"2a\"])\n",
    "\n",
    "print(\"Selected {} training queries, {} validation queries, {} test queries\".\\\n",
    "      format(len(train_qfns), len(val_qfns), len(test_qfns)))"
   ]
  },
  {
   "cell_type": "code",
   "execution_count": 158,
   "id": "informational-ultimate",
   "metadata": {},
   "outputs": [],
   "source": [
    "from evaluation.eval_fns import QError, SimplePlanCost\n",
    "EVAL_FNS = []\n",
    "EVAL_FNS.append(QError())\n",
    "EVAL_FNS.append(SimplePlanCost())"
   ]
  },
  {
   "cell_type": "code",
   "execution_count": 159,
   "id": "numeric-indianapolis",
   "metadata": {},
   "outputs": [],
   "source": [
    "def init_featurizer(featurization_type):\n",
    "    # Load database specific data, e.g., information about columns, tables etc.\n",
    "    dbdata_fn = os.path.join(TRAINDIR, \"dbdata.json\")\n",
    "    featurizer = Featurizer(None, None, None, None, None)\n",
    "    with open(dbdata_fn, \"r\") as f:\n",
    "        dbdata = json.load(f)\n",
    "    featurizer.update_using_saved_stats(dbdata)\n",
    "\n",
    "    featurizer.setup(ynormalization=\"log\",\n",
    "        feat_separate_alias = 0,\n",
    "        onehot_dropout = onehot_dropout,\n",
    "        feat_mcvs = 0,\n",
    "        heuristic_features = 1,\n",
    "        featurization_type=featurization_type,\n",
    "        table_features=1,\n",
    "        flow_features = 0,\n",
    "        join_features= \"onehot\",\n",
    "        set_column_feature= \"onehot\",\n",
    "        max_discrete_featurizing_buckets=10,\n",
    "        max_like_featurizing_buckets=10,\n",
    "        embedding_fn = \"none\",\n",
    "        embedding_pooling = None,\n",
    "        implied_pred_features = 0,\n",
    "        feat_onlyseen_preds = 1)\n",
    "    featurizer.update_ystats(trainqs)\n",
    "    \n",
    "    featurizer.update_workload_stats(trainqs)\n",
    "    featurizer.init_feature_mapping()\n",
    "    featurizer.update_ystats(trainqs)\n",
    "\n",
    "    # if feat_onlyseen_preds:\n",
    "    # just do it always\n",
    "    featurizer.update_seen_preds(trainqs)\n",
    "    \n",
    "    return featurizer"
   ]
  },
  {
   "cell_type": "code",
   "execution_count": 160,
   "id": "734edcff",
   "metadata": {},
   "outputs": [],
   "source": [
    "# going to start training the models\n",
    "trainqs = load_qdata(train_qfns)"
   ]
  },
  {
   "cell_type": "code",
   "execution_count": 161,
   "id": "f730aec5",
   "metadata": {},
   "outputs": [],
   "source": [
    "testqs = load_qdata(test_qfns)"
   ]
  },
  {
   "cell_type": "code",
   "execution_count": 188,
   "id": "37a69fb2",
   "metadata": {},
   "outputs": [],
   "source": [
    "max_epochs = 30\n",
    "lr=0.0001\n",
    "training_opt = \"none\"\n",
    "opt_lr = 0.1\n",
    "swa_start = 5\n",
    "mask_unseen_subplans = 0\n",
    "subplan_level_outputs=0\n",
    "normalize_flow_loss = 1\n",
    "heuristic_unseen_preds = 0\n",
    "cost_model = \"C\"\n",
    "use_wandb = 0\n",
    "eval_fns = \"qerr,plancost\"\n",
    "load_padded_mscn_feats = 1\n",
    "mb_size = 1024\n",
    "weight_decay = 0.0\n",
    "load_query_together = 0\n",
    "result_dir = \"./results\"\n",
    "\n",
    "onehot_dropout=0\n",
    "onehot_mask_truep=0.8\n",
    "onehot_reg=0\n",
    "onehot_reg_decay=0.1\n",
    "eval_epoch = 200\n",
    "optimizer_name=\"adamw\"\n",
    "clip_gradient=20.0\n",
    "loss_func_name = \"mse\"\n",
    "hidden_layer_size = 128\n",
    "num_hidden_layers = 2"
   ]
  },
  {
   "cell_type": "code",
   "execution_count": 189,
   "id": "faced-variable",
   "metadata": {},
   "outputs": [],
   "source": [
    "# from cardinality_estimation.fcnn import FCNN\n",
    "# featurizer = init_featurizer(\"combined\")\n",
    "# #featurizer = init_featurizer(\"set\")\n",
    "\n",
    "# fcnn = FCNN(max_epochs = max_epochs, lr=lr,\n",
    "#                 training_opt = training_opt,\n",
    "#                 opt_lr = opt_lr,\n",
    "#                 swa_start = swa_start,\n",
    "#                 mask_unseen_subplans = mask_unseen_subplans,\n",
    "#                 subplan_level_outputs=subplan_level_outputs,\n",
    "#                 normalize_flow_loss = normalize_flow_loss,\n",
    "#                 heuristic_unseen_preds = heuristic_unseen_preds,\n",
    "#                 onehot_dropout=onehot_dropout,\n",
    "#                 onehot_reg=onehot_reg,\n",
    "#                 onehot_reg_decay=onehot_reg_decay,\n",
    "#                 cost_model = cost_model,\n",
    "#                 eval_fns = eval_fns,\n",
    "#                 use_wandb = use_wandb,\n",
    "#                 mb_size = mb_size,\n",
    "#                 weight_decay = weight_decay,\n",
    "#                 load_query_together = load_query_together,\n",
    "#                 result_dir = result_dir,\n",
    "#                 num_hidden_layers=num_hidden_layers,\n",
    "#                 eval_epoch = eval_epoch,\n",
    "#                 optimizer_name=optimizer_name,\n",
    "#                 clip_gradient=clip_gradient,\n",
    "#                 loss_func_name = loss_func_name,\n",
    "#                 hidden_layer_size = hidden_layer_size)\n",
    "\n",
    "# fcnn.train(trainqs, valqs=None, testqs=None,\n",
    "#     featurizer=featurizer, result_dir=RESULTDIR)"
   ]
  },
  {
   "cell_type": "code",
   "execution_count": 190,
   "id": "sweet-pacific",
   "metadata": {},
   "outputs": [],
   "source": [
    "# # # evaluate model\n",
    "# eval_alg(fcnn, EVAL_FNS, trainqs, \"train\")\n",
    "# # eval_alg(fcnn, EVAL_FNS, valqs, \"val\")\n",
    "\n",
    "# # # TODO: test set prdictions; should submit these for the leaderboard?\n",
    "# # #preds = fcnn.test(testqs)"
   ]
  },
  {
   "cell_type": "code",
   "execution_count": 191,
   "id": "dominican-punishment",
   "metadata": {},
   "outputs": [
    {
     "name": "stdout",
     "output_type": "stream",
     "text": [
      "Updated stats to remove alias based columns\n",
      "max pred vals: 58\n",
      "init net\n"
     ]
    }
   ],
   "source": [
    "from cardinality_estimation.mscn import MSCN as MSCN2\n",
    "\n",
    "featurizer = init_featurizer(\"set\")\n",
    "mscn = MSCN2(max_epochs = max_epochs, lr=lr,\n",
    "                training_opt = training_opt,\n",
    "                inp_dropout = 0.0,\n",
    "                hl_dropout = 0.0,\n",
    "                comb_dropout = 0.0,\n",
    "                opt_lr = opt_lr,\n",
    "                swa_start = swa_start,\n",
    "                mask_unseen_subplans = mask_unseen_subplans,\n",
    "                subplan_level_outputs=subplan_level_outputs,\n",
    "                normalize_flow_loss = normalize_flow_loss,\n",
    "                heuristic_unseen_preds = heuristic_unseen_preds,\n",
    "                cost_model = cost_model,\n",
    "                use_wandb = use_wandb,\n",
    "                eval_fns = eval_fns,\n",
    "                load_padded_mscn_feats = load_padded_mscn_feats,\n",
    "                mb_size = mb_size,\n",
    "                weight_decay = weight_decay,\n",
    "                load_query_together = load_query_together,\n",
    "                result_dir = result_dir,\n",
    "                onehot_dropout=onehot_dropout,\n",
    "                onehot_mask_truep=onehot_mask_truep,\n",
    "                onehot_reg=onehot_reg,\n",
    "                onehot_reg_decay=onehot_reg_decay,\n",
    "                # num_hidden_layers=num_hidden_layers,\n",
    "                eval_epoch = eval_epoch,\n",
    "                optimizer_name=optimizer_name,\n",
    "                clip_gradient=clip_gradient,\n",
    "                loss_func_name = loss_func_name,\n",
    "                hidden_layer_size = hidden_layer_size)"
   ]
  },
  {
   "cell_type": "code",
   "execution_count": 192,
   "id": "c803d67b",
   "metadata": {},
   "outputs": [
    {
     "name": "stdout",
     "output_type": "stream",
     "text": [
      "Extracting features took:  62.955371379852295\n",
      "SetConv(\n",
      "  (inp_drop_layer): Dropout(p=0.0, inplace=False)\n",
      "  (hl_drop_layer): Dropout(p=0.0, inplace=False)\n",
      "  (combined_drop_layer): Dropout(p=0.0, inplace=False)\n",
      "  (sample_mlp1): Linear(in_features=9, out_features=128, bias=True)\n",
      "  (sample_mlp2): Linear(in_features=128, out_features=128, bias=True)\n",
      "  (predicate_mlp1): Linear(in_features=46, out_features=128, bias=True)\n",
      "  (predicate_mlp2): Linear(in_features=128, out_features=128, bias=True)\n",
      "  (join_mlp1): Linear(in_features=9, out_features=128, bias=True)\n",
      "  (join_mlp2): Linear(in_features=128, out_features=128, bias=True)\n",
      "  (out_mlp1): Linear(in_features=384, out_features=128, bias=True)\n",
      "  (out_mlp2): Linear(in_features=128, out_features=1, bias=True)\n",
      ")\n",
      "Training samples: 116000, Model size: 0.430084\n",
      "going to save model at: \n",
      "Experiment name will be:  MSCN1337814871\n",
      "./results/MSCN1337814871\n",
      "Epoch 0 took 2.82, Avg Loss: 0.036369\n",
      "going to save model at: \n",
      "./results/MSCN1337814871\n",
      "Epoch 1 took 2.79, Avg Loss: 0.017865\n",
      "going to save model at: \n",
      "./results/MSCN1337814871\n",
      "Epoch 2 took 2.81, Avg Loss: 0.011983\n",
      "going to save model at: \n",
      "./results/MSCN1337814871\n",
      "Epoch 3 took 2.79, Avg Loss: 0.010783\n",
      "going to save model at: \n",
      "./results/MSCN1337814871\n",
      "Epoch 4 took 2.8, Avg Loss: 0.0101\n",
      "going to save model at: \n",
      "./results/MSCN1337814871\n",
      "Epoch 5 took 2.82, Avg Loss: 0.00959\n",
      "going to save model at: \n",
      "./results/MSCN1337814871\n",
      "Epoch 6 took 2.79, Avg Loss: 0.009189\n",
      "going to save model at: \n",
      "./results/MSCN1337814871\n",
      "Epoch 7 took 2.79, Avg Loss: 0.008832\n",
      "going to save model at: \n",
      "./results/MSCN1337814871\n",
      "Epoch 8 took 3.98, Avg Loss: 0.008574\n",
      "going to save model at: \n",
      "./results/MSCN1337814871\n",
      "Epoch 9 took 2.8, Avg Loss: 0.008338\n",
      "going to save model at: \n",
      "./results/MSCN1337814871\n",
      "Epoch 10 took 2.81, Avg Loss: 0.00811\n",
      "going to save model at: \n",
      "./results/MSCN1337814871\n",
      "Epoch 11 took 2.8, Avg Loss: 0.007944\n",
      "going to save model at: \n",
      "./results/MSCN1337814871\n",
      "Epoch 12 took 2.85, Avg Loss: 0.007789\n",
      "going to save model at: \n",
      "./results/MSCN1337814871\n",
      "Epoch 13 took 2.8, Avg Loss: 0.007671\n",
      "going to save model at: \n",
      "./results/MSCN1337814871\n",
      "Epoch 14 took 2.8, Avg Loss: 0.007549\n",
      "going to save model at: \n",
      "./results/MSCN1337814871\n",
      "Epoch 15 took 2.83, Avg Loss: 0.007474\n",
      "going to save model at: \n",
      "./results/MSCN1337814871\n",
      "Epoch 16 took 2.86, Avg Loss: 0.007405\n",
      "going to save model at: \n",
      "./results/MSCN1337814871\n",
      "Epoch 17 took 2.81, Avg Loss: 0.007303\n",
      "going to save model at: \n",
      "./results/MSCN1337814871\n",
      "Epoch 18 took 2.78, Avg Loss: 0.007222\n",
      "going to save model at: \n",
      "./results/MSCN1337814871\n",
      "Epoch 19 took 2.78, Avg Loss: 0.00715\n",
      "going to save model at: \n",
      "./results/MSCN1337814871\n",
      "Epoch 20 took 2.78, Avg Loss: 0.007069\n",
      "going to save model at: \n",
      "./results/MSCN1337814871\n",
      "Epoch 21 took 2.78, Avg Loss: 0.006998\n",
      "going to save model at: \n",
      "./results/MSCN1337814871\n",
      "Epoch 22 took 2.79, Avg Loss: 0.006914\n",
      "going to save model at: \n",
      "./results/MSCN1337814871\n",
      "Epoch 23 took 2.79, Avg Loss: 0.006821\n",
      "going to save model at: \n",
      "./results/MSCN1337814871\n",
      "Epoch 24 took 2.82, Avg Loss: 0.006761\n",
      "going to save model at: \n",
      "./results/MSCN1337814871\n",
      "Epoch 25 took 2.81, Avg Loss: 0.006671\n",
      "going to save model at: \n",
      "./results/MSCN1337814871\n",
      "Epoch 26 took 2.82, Avg Loss: 0.006594\n",
      "going to save model at: \n",
      "./results/MSCN1337814871\n",
      "Epoch 27 took 2.77, Avg Loss: 0.006528\n",
      "going to save model at: \n",
      "./results/MSCN1337814871\n",
      "Epoch 28 took 2.84, Avg Loss: 0.006468\n",
      "going to save model at: \n",
      "./results/MSCN1337814871\n",
      "Epoch 29 took 2.8, Avg Loss: 0.006405\n"
     ]
    }
   ],
   "source": [
    "mscn.train(trainqs, valqs=None, testqs=None,\n",
    "    featurizer=featurizer, result_dir=RESULTDIR)"
   ]
  },
  {
   "cell_type": "code",
   "execution_count": 193,
   "id": "random-share",
   "metadata": {},
   "outputs": [],
   "source": [
    "# evaluate model\n",
    "#eval_alg(mscn, EVAL_FNS, trainqs, \"train\")\n",
    "\n",
    "#eval_alg(mscn, EVAL_FNS, valqs, \"val\")\n",
    "# TODO: test set prdictions; should submit these for the leaderboard?\n",
    "#preds = mscn.test(testqs)"
   ]
  },
  {
   "cell_type": "code",
   "execution_count": 194,
   "id": "929d80e7",
   "metadata": {},
   "outputs": [],
   "source": [
    "#eval_alg(mscn, EVAL_FNS, testqs, \"test\")"
   ]
  },
  {
   "cell_type": "code",
   "execution_count": 195,
   "id": "62089a56",
   "metadata": {},
   "outputs": [
    {
     "name": "stdout",
     "output_type": "stream",
     "text": [
      "results/MSCN1337814871/\n"
     ]
    }
   ],
   "source": [
    "models_path = \"results/\" + mscn.get_exp_name() + \"/\"\n",
    "print(models_path)"
   ]
  },
  {
   "cell_type": "code",
   "execution_count": 196,
   "id": "desperate-harvard",
   "metadata": {},
   "outputs": [],
   "source": [
    "# imports from captum library\n",
    "from captum.attr import LayerConductance, LayerActivation, LayerIntegratedGradients\n",
    "from captum.attr import IntegratedGradients, DeepLift, GradientShap, NoiseTunnel, FeatureAblation, Lime"
   ]
  },
  {
   "cell_type": "code",
   "execution_count": 197,
   "id": "e95f83d3",
   "metadata": {},
   "outputs": [
    {
     "name": "stdout",
     "output_type": "stream",
     "text": [
      "Extracting features took:  1.832873821258545\n",
      "Extracting features took:  0.4514479637145996\n"
     ]
    }
   ],
   "source": [
    "#featurizer = init_featurizer(\"set\")\n",
    "ds = QueryDataset(trainqs[0:10], featurizer,\n",
    "        True,\n",
    "        load_padded_mscn_feats=True)\n",
    "loader = data.DataLoader(ds,\n",
    "        batch_size=1, shuffle=False,\n",
    "        collate_fn=mscn_collate_fn_together,\n",
    "        )\n",
    "\n",
    "testds = QueryDataset(testqs[0:3], featurizer,\n",
    "        True,\n",
    "        load_padded_mscn_feats=True)\n",
    "testloader = data.DataLoader(testds,\n",
    "        batch_size=1, shuffle=False,\n",
    "        collate_fn=mscn_collate_fn_together,\n",
    "        )"
   ]
  },
  {
   "cell_type": "code",
   "execution_count": 198,
   "id": "9893dc19",
   "metadata": {},
   "outputs": [],
   "source": [
    "iloader = iter(testloader)"
   ]
  },
  {
   "cell_type": "code",
   "execution_count": 199,
   "id": "1deffab5",
   "metadata": {},
   "outputs": [
    {
     "name": "stdout",
     "output_type": "stream",
     "text": [
      "tensor(135.9713)\n",
      "tensor(483.6691)\n"
     ]
    }
   ],
   "source": [
    "xbatch,y,info = next(iloader)\n",
    "print(torch.sum(xbatch[\"pred\"][:,:,20]))\n",
    "print(torch.sum(xbatch[\"pred\"][:,:,21]))"
   ]
  },
  {
   "cell_type": "code",
   "execution_count": 200,
   "id": "1c518b2e",
   "metadata": {},
   "outputs": [
    {
     "name": "stdout",
     "output_type": "stream",
     "text": [
      "SELECT COUNT(*)\n",
      "FROM title AS t,\n",
      "     kind_type AS kt,\n",
      "     info_type AS it1,\n",
      "     movie_info AS mi1,\n",
      "     movie_info AS mi2,\n",
      "     info_type AS it2,\n",
      "     cast_info AS ci,\n",
      "     role_type AS rt,\n",
      "     name AS n,\n",
      "     movie_keyword AS mk,\n",
      "     keyword AS k\n",
      "WHERE t.id = ci.movie_id\n",
      "  AND t.id = mi1.movie_id\n",
      "  AND t.id = mi2.movie_id\n",
      "  AND t.id = mk.movie_id\n",
      "  AND k.id = mk.keyword_id\n",
      "  AND mi1.movie_id = mi2.movie_id\n",
      "  AND mi1.info_type_id = it1.id\n",
      "  AND mi2.info_type_id = it2.id\n",
      "  AND (it1.id in ('5'))\n",
      "  AND (it2.id in ('2'))\n",
      "  AND t.kind_id = kt.id\n",
      "  AND ci.person_id = n.id\n",
      "  AND ci.role_id = rt.id\n",
      "  AND (mi1.info in ('Finland:K-18',\n",
      "                    'Germany:18',\n",
      "                    'Singapore:PG',\n",
      "                    'UK:PG',\n",
      "                    'USA:G',\n",
      "                    'USA:TV-MA',\n",
      "                    'USA:Unrated',\n",
      "                    'West Germany:12'))\n",
      "  AND (mi2.info in ('Black and White',\n",
      "                    'Color'))\n",
      "  AND (kt.kind in ('tv movie'))\n",
      "  AND (rt.role in ('cinematographer'))\n",
      "  AND (n.gender in ('f'))\n",
      "  AND (t.production_year <= 2015)\n",
      "  AND (t.production_year >= 1925)\n"
     ]
    }
   ],
   "source": [
    "import sqlparse\n",
    "sql = testqs[2][\"sql\"]\n",
    "print(sqlparse.format(sql, reindent=True, keyword_case='upper'))"
   ]
  },
  {
   "cell_type": "code",
   "execution_count": 201,
   "id": "b3335996",
   "metadata": {},
   "outputs": [
    {
     "name": "stdout",
     "output_type": "stream",
     "text": [
      "(2, 18)\n",
      "{'ci.note': 0, 'cn.country_code': 1, 'cn.name': 2, 'ct.kind': 3, 'it.id': 4, 'k.keyword': 5, 'kt.kind': 6, 'mi.info': 7, 'mii.info': 8, 'n.gender': 9, 'n.name': 10, 'n.name_pcode_cf': 11, 'n.name_pcode_nf': 12, 'n.surname_pcode': 13, 'pi.info': 14, 'rt.role': 15, 't.production_year': 16, 't.title': 17}\n"
     ]
    }
   ],
   "source": [
    "print(featurizer.featurizer_type_idxs[\"col_onehot\"])\n",
    "print(featurizer.columns_onehot_idx)\n",
    "# mii.info\n",
    "# n.name\n",
    "# n.name_pcode_cf\n",
    "# n.surname_pcode\n",
    "#[0  1  6  8  9 11 17 18 20 21 34 37 38 39 40 41 42 43 44 45]"
   ]
  },
  {
   "cell_type": "code",
   "execution_count": 202,
   "id": "8b090526",
   "metadata": {},
   "outputs": [
    {
     "name": "stdout",
     "output_type": "stream",
     "text": [
      "(290, 11, 46)\n",
      "(46,)\n",
      "[1029.       540.         0.         0.         0.         0.\n",
      "  188.         0.       136.       372.         0.       222.\n",
      "    0.         0.         0.         0.         0.       111.\n",
      "  540.         0.       135.97124  483.66898    0.         0.\n",
      "    0.         0.         0.         0.         0.         0.\n",
      "    0.         0.         0.         0.       111.         0.\n",
      "    0.       508.       186.       297.       416.       297.\n",
      "  416.       111.       679.70807  692.6605 ]\n"
     ]
    }
   ],
   "source": [
    "curx = xbatch[\"pred\"].detach().numpy()\n",
    "print(curx.shape)\n",
    "xsum = curx.sum(axis=0).sum(axis=0)\n",
    "\n",
    "print(xsum.shape)\n",
    "print(xsum)"
   ]
  },
  {
   "cell_type": "code",
   "execution_count": 203,
   "id": "7dbb73a4",
   "metadata": {},
   "outputs": [],
   "source": [
    "def get_attr_vecs(curx, curattrs):\n",
    "    #idxs = 0\n",
    "    xsum = curx.sum(axis=0).sum(axis=0)\n",
    "    zero_idxs = xsum == 0\n",
    "    curattrs = curattrs[:,:,~zero_idxs]\n",
    "    idxs = np.array(range(len(xsum)))[~zero_idxs]\n",
    "    \n",
    "    #print(curx)\n",
    "    #print(zero_idxs)\n",
    "    #print(idxs)\n",
    "    \n",
    "    curx = curx[:,:,~zero_idxs]\n",
    "    \n",
    "    assert curx.shape == curattrs.shape\n",
    "    \n",
    "    # TODO: avg based on non-zero elements\n",
    "    \n",
    "    #print(\"attr sum: \", np.sum(curattrs))\n",
    "    curattrs = np.abs(curattrs)\n",
    "    #print(\"attr sum after abs: \", np.sum(curattrs))\n",
    "    \n",
    "    attr_sum = curattrs.sum(axis=0).sum(axis=0)\n",
    "    \n",
    "    assert attr_sum.shape[0] == curx.shape[-1]\n",
    "    \n",
    "    # TODO: do we need this?\n",
    "    #attr_sum = attr_sum / np.linalg.norm(attr_sum, ord=1)\n",
    "    \n",
    "    # TODO: do this or no?\n",
    "    curx_nonz = curx != 0\n",
    "    \n",
    "    xnonzero_sums = curx_nonz.sum(axis=0).sum(axis=0)\n",
    "    \n",
    "    #TODO?\n",
    "    attr_sum = attr_sum / xnonzero_sums\n",
    "    \n",
    "    return idxs, attr_sum\n",
    "\n",
    "def get_mscn_attrs(xbatch, attrs, featurizer, normalize=True):\n",
    "    '''\n",
    "    returns a vector with x-axis names and attribution values;\n",
    "    '''\n",
    "    batchsize = xbatch[\"table\"].shape[0]\n",
    "    assert batchsize == attrs[0].shape[0]\n",
    "    tabidxs, tabattrs = get_attr_vecs(xbatch[\"table\"].detach().numpy(), attrs[0].detach().numpy())\n",
    "    predidxs, predattrs = get_attr_vecs(xbatch[\"pred\"].detach().numpy(), attrs[1].detach().numpy())\n",
    "    print(predidxs)\n",
    "    joinidxs, joinattrs = get_attr_vecs(xbatch[\"join\"].detach().numpy(), attrs[2].detach().numpy())\n",
    "    \n",
    "    # TODO: need to do sample_bitmaps\n",
    "    tablabels = []\n",
    "    for curtabidx in tabidxs:\n",
    "        for tab,tidx in featurizer.table_featurizer.items():\n",
    "            if tidx == curtabidx:\n",
    "                tablabels.append(tab)\n",
    "                break\n",
    "    joinlabels = []\n",
    "    for curjidx in joinidxs:\n",
    "        for join,jidx in featurizer.join_featurizer.items():\n",
    "            found = False\n",
    "            if curjidx == jidx:\n",
    "                joinlabels.append(join)\n",
    "                found = True\n",
    "                break\n",
    "        if not found:\n",
    "            joinlabels.append(\"unknown\")\n",
    "    # TODO: join-stats\n",
    "    \n",
    "    predlabels = []\n",
    "    colstart,collen = featurizer.featurizer_type_idxs[\"col_onehot\"]\n",
    "    # TODO: if stats used\n",
    "    #colstatsstart,colstatsend = self.featurizer_type_idxs[\"col_stats\"]\n",
    "    cmp_start,cmplen = featurizer.featurizer_type_idxs[\"cmp_op\"]\n",
    "    cstart,clen = featurizer.featurizer_type_idxs[\"constant_continuous\"]\n",
    "    lstart,llen = featurizer.featurizer_type_idxs[\"constant_like\"]\n",
    "    dstart,dlen = featurizer.featurizer_type_idxs[\"constant_discrete\"]\n",
    "    hstart,hlen = featurizer.featurizer_type_idxs[\"heuristic_ests\"]\n",
    "    \n",
    "    #print(hstart, hlen)\n",
    "    for pi in predidxs:\n",
    "        if pi >= colstart and pi < colstart+collen:\n",
    "            found = False\n",
    "            for col,colidx in featurizer.columns_onehot_idx.items():\n",
    "                if colidx == pi-colstart:\n",
    "                #if colidx == pi:\n",
    "                    print(col)\n",
    "                    predlabels.append(col)\n",
    "                    found = True\n",
    "                    break     \n",
    "            if not found:\n",
    "                print(pi)\n",
    "                predlabels.append(\"col-unknown\")\n",
    "        elif pi >= cmp_start and pi < cmp_start+cmplen:\n",
    "            predlabels.append(\"cmp\")\n",
    "        elif pi == cstart:\n",
    "            #predlabels.append(\"<\")\n",
    "            predlabels.append(\"range-filter\")\n",
    "        elif pi == cstart+1:\n",
    "            predlabels.append(\"range-filter\")\n",
    "        elif pi >= lstart and pi < lstart+llen:\n",
    "            #predlabels.append(\"Like-Hash-\" + str(pi))\n",
    "            predlabels.append(\"Like-Hashes\")\n",
    "        elif pi >= dstart and pi < dstart+dlen:\n",
    "            #predlabels.append(\"Constant-Hash-\" + str(pi))\n",
    "            predlabels.append(\"Constant-Hashes\")\n",
    "        elif pi == hstart:\n",
    "            predlabels.append(\"PostgreSQL Est (Table)\")\n",
    "        elif pi == hstart+1:\n",
    "            predlabels.append(\"PostgreSQL Est (Subplan)\")\n",
    "    \n",
    "    assert len(predidxs) == len(predlabels)\n",
    "#     print(len(predidxs), len(predlabels))\n",
    "#     print(predidxs)\n",
    "#     print(predlabels)\n",
    "    attrs = np.concatenate([tabattrs, joinattrs, predattrs])\n",
    "    xlabels = tablabels + joinlabels + predlabels\n",
    "    \n",
    "    if normalize:\n",
    "        attrs = attrs / np.linalg.norm(attrs, ord=1)\n",
    "    \n",
    "    return xlabels,attrs"
   ]
  },
  {
   "cell_type": "code",
   "execution_count": 204,
   "id": "a63fe157",
   "metadata": {},
   "outputs": [],
   "source": [
    "from cardinality_estimation.nets import *\n",
    "\n",
    "def get_model_attrs(mscn_model, weights, xbatch):\n",
    "    n_out = 1\n",
    "    sfeats = mscn_model.sample_mlp1.in_features\n",
    "    pfeats = mscn_model.predicate_mlp1.in_features\n",
    "    jfeats = mscn_model.join_mlp1.in_features\n",
    "\n",
    "    net = SetConvNoFlow(sfeats,\n",
    "        pfeats, jfeats,\n",
    "        128,\n",
    "        n_out=n_out,\n",
    "        dropouts=[0.0, 0.0, 0.0])\n",
    "    #print(net)\n",
    "    #print(mscn_model)\n",
    "    net.load_state_dict(weights)\n",
    "    \n",
    "    model = net\n",
    "    model.eval()\n",
    "    ig = IntegratedGradients(model)\n",
    "    ig_nt = NoiseTunnel(ig)\n",
    "    dl = DeepLift(model)\n",
    "    gs = GradientShap(model)\n",
    "    fa = FeatureAblation(model)\n",
    "    limea = Lime(model)\n",
    "    \n",
    "    ig_attr_test = ig.attribute(tuple([xbatch[\"table\"], xbatch[\"pred\"],\n",
    "                            xbatch[\"join\"], \n",
    "                            xbatch[\"tmask\"], xbatch[\"pmask\"], \n",
    "                                   xbatch[\"jmask\"]]), n_steps=50)\n",
    "    #print(\"ig done\")\n",
    "    \n",
    "    xlabels, igattrs = get_mscn_attrs(xbatch, ig_attr_test, featurizer, normalize=False)\n",
    "    #xlabels, fattrs = get_mscn_attrs(xbatch, fa_attr_test, featurizer, normalize=False)\n",
    "    #print(xlabels, igattrs)\n",
    "    return xlabels, igattrs"
   ]
  },
  {
   "cell_type": "code",
   "execution_count": 205,
   "id": "c0e29c10",
   "metadata": {},
   "outputs": [
    {
     "name": "stdout",
     "output_type": "stream",
     "text": [
      "[ 0  1  6  8  9 11 17 18 20 21 34 37 38 39 40 41 42 43 44 45]\n",
      "it.id\n",
      "kt.kind\n",
      "mi.info\n",
      "n.gender\n",
      "rt.role\n",
      "t.production_year\n"
     ]
    }
   ],
   "source": [
    "weights = mscn.net.state_dict()\n",
    "xlabels,attrs = get_model_attrs(mscn.net, weights, xbatch)"
   ]
  },
  {
   "cell_type": "code",
   "execution_count": 206,
   "id": "9c943b66",
   "metadata": {},
   "outputs": [],
   "source": [
    "import seaborn as sns\n",
    "\n",
    "def plot_attrs(xlabels, attrs, ax=None):\n",
    "    if ax is None:\n",
    "        plt.figure(figsize=(20, 20))\n",
    "        ax = plt.axes()\n",
    "\n",
    "    #plt.yticks(fontsize=20)\n",
    "    sns.barplot(x=attrs, y=xlabels, color='#4260f5', orient=\"horizontal\", ax=ax, ci=None)"
   ]
  },
  {
   "cell_type": "code",
   "execution_count": 211,
   "id": "f7f3df21",
   "metadata": {},
   "outputs": [],
   "source": [
    "import pickle\n",
    "\n",
    "if onehot_dropout:\n",
    "    with open(\"dropout-attrs.pkl\", \"wb\") as f:\n",
    "        pickle.dump([xlabels, attrs], f)\n",
    "else:\n",
    "    with open(\"default-attrs.pkl\", \"wb\") as f:\n",
    "        pickle.dump([xlabels, attrs], f)"
   ]
  },
  {
   "cell_type": "code",
   "execution_count": 208,
   "id": "61efec13",
   "metadata": {},
   "outputs": [],
   "source": [
    "# with open(\"dropout-attrs.pkl\", \"rb\") as f:\n",
    "#     xlabels,attrs = pickle.load(f)"
   ]
  },
  {
   "cell_type": "code",
   "execution_count": 209,
   "id": "4641e2bd",
   "metadata": {},
   "outputs": [
    {
     "data": {
      "image/png": "[encoded data removed]",
      "text/plain": [
       "<Figure size 1440x1440 with 1 Axes>"
      ]
     },
     "metadata": {
      "needs_background": "light"
     },
     "output_type": "display_data"
    }
   ],
   "source": [
    "plot_attrs(xlabels, attrs)\n",
    "plt.yticks(fontsize=20)\n",
    "#plt.show()\n",
    "plt.savefig(\"attribution-dropout.png\")"
   ]
  },
  {
   "cell_type": "code",
   "execution_count": 212,
   "id": "207b9fa7",
   "metadata": {},
   "outputs": [
    {
     "name": "stdout",
     "output_type": "stream",
     "text": [
      "[ 0  1  6  8  9 11 17 18 20 21 34 37 38 39 40 41 42 43 44 45]\n",
      "it.id\n",
      "kt.kind\n",
      "mi.info\n",
      "n.gender\n",
      "rt.role\n",
      "t.production_year\n",
      "[ 0  1  6  8  9 11 17 18 20 21 34 37 38 39 40 41 42 43 44 45]\n",
      "it.id\n",
      "kt.kind\n",
      "mi.info\n",
      "n.gender\n",
      "rt.role\n",
      "t.production_year\n",
      "[ 0  1  6  8  9 11 17 18 20 21 34 37 38 39 40 41 42 43 44 45]\n",
      "it.id\n",
      "kt.kind\n",
      "mi.info\n",
      "n.gender\n",
      "rt.role\n",
      "t.production_year\n",
      "[ 0  1  6  8  9 11 17 18 20 21 34 37 38 39 40 41 42 43 44 45]\n",
      "it.id\n",
      "kt.kind\n",
      "mi.info\n",
      "n.gender\n",
      "rt.role\n",
      "t.production_year\n",
      "[ 0  1  6  8  9 11 17 18 20 21 34 37 38 39 40 41 42 43 44 45]\n",
      "it.id\n",
      "kt.kind\n",
      "mi.info\n",
      "n.gender\n",
      "rt.role\n",
      "t.production_year\n",
      "[ 0  1  6  8  9 11 17 18 20 21 34 37 38 39 40 41 42 43 44 45]\n",
      "it.id\n",
      "kt.kind\n",
      "mi.info\n",
      "n.gender\n",
      "rt.role\n",
      "t.production_year\n",
      "[ 0  1  6  8  9 11 17 18 20 21 34 37 38 39 40 41 42 43 44 45]\n",
      "it.id\n",
      "kt.kind\n",
      "mi.info\n",
      "n.gender\n",
      "rt.role\n",
      "t.production_year\n",
      "[ 0  1  6  8  9 11 17 18 20 21 34 37 38 39 40 41 42 43 44 45]\n",
      "it.id\n",
      "kt.kind\n",
      "mi.info\n",
      "n.gender\n",
      "rt.role\n",
      "t.production_year\n",
      "[ 0  1  6  8  9 11 17 18 20 21 34 37 38 39 40 41 42 43 44 45]\n",
      "it.id\n",
      "kt.kind\n",
      "mi.info\n",
      "n.gender\n",
      "rt.role\n",
      "t.production_year\n",
      "[ 0  1  6  8  9 11 17 18 20 21 34 37 38 39 40 41 42 43 44 45]\n",
      "it.id\n",
      "kt.kind\n",
      "mi.info\n",
      "n.gender\n",
      "rt.role\n",
      "t.production_year\n",
      "[ 0  1  6  8  9 11 17 18 20 21 34 37 38 39 40 41 42 43 44 45]\n",
      "it.id\n",
      "kt.kind\n",
      "mi.info\n",
      "n.gender\n",
      "rt.role\n",
      "t.production_year\n",
      "[ 0  1  6  8  9 11 17 18 20 21 34 37 38 39 40 41 42 43 44 45]\n",
      "it.id\n",
      "kt.kind\n",
      "mi.info\n",
      "n.gender\n",
      "rt.role\n",
      "t.production_year\n"
     ]
    },
    {
     "data": {
      "image/png": "[encoded data removed]",
      "text/plain": [
       "<Figure size 2880x1440 with 12 Axes>"
      ]
     },
     "metadata": {
      "needs_background": "light"
     },
     "output_type": "display_data"
    }
   ],
   "source": [
    "\n",
    "def sfunc(x):\n",
    "    x = x[x.find(\"-\")+1:x.find(\".ckpt\")]\n",
    "    return int(x)\n",
    "\n",
    "model_fns = glob.glob(models_path + \"*.ckpt\")\n",
    "model_fns.sort(key=sfunc)\n",
    "model_fns\n",
    "\n",
    "NCOLS = 4\n",
    "fig, axs = plt.subplots(nrows=3,ncols=NCOLS, figsize=(40,20))\n",
    "\n",
    "for fi, fn in enumerate(model_fns):\n",
    "    if fi >= 12:\n",
    "        continue\n",
    "    weights = torch.load(fn)\n",
    "    #print(fn)\n",
    "    xlabels,attrs = get_model_attrs(mscn.net, weights, xbatch)\n",
    "    row = int(fi / NCOLS)\n",
    "    col = fi % NCOLS\n",
    "    #print(fi, row, col)\n",
    "    ax = axs[row,col]\n",
    "    plot_attrs(xlabels, attrs, ax=ax)\n",
    "    ax.set_title(str(fi))\n",
    "    \n",
    "    if col != 0:\n",
    "        #ax.set_ylabel(\"\")\n",
    "        ax.get_yaxis().set_visible(False)"
   ]
  },
  {
   "cell_type": "code",
   "execution_count": 23,
   "id": "904e0bcd",
   "metadata": {},
   "outputs": [
    {
     "data": {
      "text/plain": [
       "{'join_onehot': (0, 9),\n",
       " 'cmp_op': (0, 2),\n",
       " 'col_onehot': (2, 18),\n",
       " 'constant_continuous': (20, 2),\n",
       " 'constant_like': (22, 12),\n",
       " 'constant_discrete': (34, 10),\n",
       " 'heuristic_ests': (44, 2)}"
      ]
     },
     "execution_count": 23,
     "metadata": {},
     "output_type": "execute_result"
    }
   ],
   "source": [
    "featurizer.featurizer_type_idxs"
   ]
  },
  {
   "cell_type": "code",
   "execution_count": 107,
   "id": "c547b539",
   "metadata": {},
   "outputs": [
    {
     "name": "stdout",
     "output_type": "stream",
     "text": [
      "tensor([220., 188.,  92., 136., 372., 182., 111., 111., 270.])\n",
      "tensor([1010.0000,  540.0000,    0.0000,    0.0000,    0.0000,    0.0000,\n",
      "         188.0000,   92.0000,  136.0000,  372.0000,    0.0000,  111.0000,\n",
      "           0.0000,    0.0000,    0.0000,    0.0000,    0.0000,  111.0000,\n",
      "         540.0000,    0.0000,    0.0000,  524.4604,    0.0000,    0.0000,\n",
      "           0.0000,    0.0000,    0.0000,    0.0000,    0.0000,    0.0000,\n",
      "           0.0000,    0.0000,    0.0000,    0.0000,  203.0000,    0.0000,\n",
      "         186.0000,  186.0000,  322.0000,  203.0000,  230.0000,    0.0000,\n",
      "         414.0000,  389.0000,  658.0579,  540.9561])\n",
      "tensor([216., 110., 110., 186.,  91., 135., 124., 360., 180.])\n",
      "torch.Size([290, 11, 9])\n",
      "torch.Size([290, 11, 46])\n",
      "torch.Size([290, 11, 9])\n"
     ]
    }
   ],
   "source": [
    "print(xbatch[\"table\"].sum(axis=[0,1]))\n",
    "print(xbatch[\"pred\"].sum(axis=[0,1]))\n",
    "print(xbatch[\"join\"].sum(axis=[0,1]))\n",
    "\n",
    "print(xbatch[\"table\"].shape)\n",
    "print(xbatch[\"pred\"].shape)\n",
    "print(xbatch[\"join\"].shape)"
   ]
  },
  {
   "cell_type": "code",
   "execution_count": 46,
   "id": "081895db",
   "metadata": {},
   "outputs": [],
   "source": [
    "# import torch\n",
    "# print(torch.max(ig_attr_test[1]), torch.argmax(ig_attr_test[1]))\n",
    "# print(torch.max(fa_attr_test[1]), torch.argmax(fa_attr_test[1]))\n",
    "#len(ig_attr_test)\n",
    "\n",
    "# np.linalg.norm(ig_attr_test[1].detach().numpy(), ord=0)"
   ]
  },
  {
   "cell_type": "code",
   "execution_count": 95,
   "id": "481a1b98",
   "metadata": {},
   "outputs": [
    {
     "data": {
      "text/plain": [
       "torch.Size([587, 18, 48])"
      ]
     },
     "execution_count": 95,
     "metadata": {},
     "output_type": "execute_result"
    }
   ],
   "source": [
    "ig_attr_test[1].shape"
   ]
  },
  {
   "cell_type": "code",
   "execution_count": 98,
   "id": "7bcadbb1",
   "metadata": {},
   "outputs": [
    {
     "data": {
      "text/plain": [
       "tensor(8.3609, dtype=torch.float64)"
      ]
     },
     "execution_count": 98,
     "metadata": {},
     "output_type": "execute_result"
    }
   ],
   "source": [
    "torch.sum(ig_attr_test[1][:,:,idx])"
   ]
  },
  {
   "cell_type": "code",
   "execution_count": 90,
   "id": "2b5066bf",
   "metadata": {},
   "outputs": [
    {
     "name": "stdout",
     "output_type": "stream",
     "text": [
      "0 tensor(0., dtype=torch.float64)\n",
      "1 tensor(-1.4279, dtype=torch.float64)\n",
      "2 tensor(0.3491, dtype=torch.float64)\n",
      "3 tensor(-0.6830, dtype=torch.float64)\n",
      "4 tensor(0., dtype=torch.float64)\n",
      "5 tensor(0., dtype=torch.float64)\n",
      "6 tensor(0., dtype=torch.float64)\n",
      "7 tensor(0., dtype=torch.float64)\n",
      "8 tensor(-1.0535, dtype=torch.float64)\n",
      "9 tensor(0., dtype=torch.float64)\n",
      "10 tensor(0.1581, dtype=torch.float64)\n",
      "11 tensor(-0.1236, dtype=torch.float64)\n",
      "12 tensor(0., dtype=torch.float64)\n",
      "13 tensor(0., dtype=torch.float64)\n",
      "14 tensor(0., dtype=torch.float64)\n",
      "15 tensor(0., dtype=torch.float64)\n",
      "16 tensor(0., dtype=torch.float64)\n",
      "17 tensor(0., dtype=torch.float64)\n",
      "18 tensor(-0.0802, dtype=torch.float64)\n",
      "19 tensor(0.3326, dtype=torch.float64)\n",
      "20 tensor(1.4211, dtype=torch.float64)\n",
      "21 tensor(0., dtype=torch.float64)\n",
      "22 tensor(0., dtype=torch.float64)\n",
      "23 tensor(0.8621, dtype=torch.float64)\n",
      "24 tensor(0., dtype=torch.float64)\n",
      "25 tensor(-0.0369, dtype=torch.float64)\n",
      "26 tensor(0., dtype=torch.float64)\n",
      "27 tensor(0.6970, dtype=torch.float64)\n",
      "28 tensor(0., dtype=torch.float64)\n",
      "29 tensor(0., dtype=torch.float64)\n",
      "30 tensor(0., dtype=torch.float64)\n",
      "31 tensor(0., dtype=torch.float64)\n",
      "32 tensor(0., dtype=torch.float64)\n",
      "33 tensor(0., dtype=torch.float64)\n",
      "34 tensor(0.7748, dtype=torch.float64)\n",
      "35 tensor(0., dtype=torch.float64)\n",
      "36 tensor(0., dtype=torch.float64)\n",
      "37 tensor(-0.4189, dtype=torch.float64)\n",
      "38 tensor(0., dtype=torch.float64)\n",
      "39 tensor(-0.6891, dtype=torch.float64)\n",
      "40 tensor(0.2141, dtype=torch.float64)\n",
      "41 tensor(-0.1573, dtype=torch.float64)\n",
      "42 tensor(-0.2067, dtype=torch.float64)\n",
      "43 tensor(-2.0876, dtype=torch.float64)\n",
      "44 tensor(-0.5928, dtype=torch.float64)\n",
      "45 tensor(-1.2917, dtype=torch.float64)\n",
      "46 tensor(1.1308, dtype=torch.float64)\n",
      "47 tensor(8.3609, dtype=torch.float64)\n"
     ]
    }
   ],
   "source": [
    "for idx in range(ig_attr_test[1].shape[2]):\n",
    "    print(idx, torch.sum(ig_attr_test[1][:,:,idx]))"
   ]
  },
  {
   "cell_type": "code",
   "execution_count": 26,
   "id": "17bd50e2",
   "metadata": {},
   "outputs": [
    {
     "name": "stdout",
     "output_type": "stream",
     "text": [
      "Updated stats to remove alias based columns\n",
      "max pred vals: 47\n",
      "Extracting features took:  0.8985092639923096\n"
     ]
    }
   ],
   "source": [
    "featurizer = init_featurizer(\"combined\")\n",
    "ds = QueryDataset(trainqs, featurizer,\n",
    "        False,\n",
    "        load_padded_mscn_feats=False)\n",
    "\n",
    "# featurizer = init_featurizer(\"set\")\n",
    "# ds = QueryDataset(trainqs, featurizer,\n",
    "#         False,\n",
    "#         load_padded_mscn_feats=True)\n",
    "model = fcnn.net\n",
    "\n",
    "ig = IntegratedGradients(model)\n",
    "ig_nt = NoiseTunnel(ig)\n",
    "dl = DeepLift(model)\n",
    "gs = GradientShap(model)\n",
    "fa = FeatureAblation(model)"
   ]
  },
  {
   "cell_type": "code",
   "execution_count": 29,
   "id": "f2e5a2d4",
   "metadata": {},
   "outputs": [
    {
     "name": "stdout",
     "output_type": "stream",
     "text": [
      "ig done\n",
      "dl done\n",
      "gs done\n"
     ]
    }
   ],
   "source": [
    "X_test = ds.X[32:35]\n",
    "X_train = ds.X[32:35]\n",
    "\n",
    "ig_attr_test = ig.attribute(X_test, n_steps=50)\n",
    "print(\"ig done\")\n",
    "ig_nt_attr_test = ig_nt.attribute(X_test)\n",
    "dl_attr_test = dl.attribute(X_test)\n",
    "print(\"dl done\")\n",
    "gs_attr_test = gs.attribute(X_test, X_train)\n",
    "print(\"gs done\")\n",
    "fa_attr_test = fa.attribute(X_test)"
   ]
  },
  {
   "cell_type": "code",
   "execution_count": 30,
   "id": "01e92ebb",
   "metadata": {},
   "outputs": [
    {
     "data": {
      "text/plain": [
       "tensor([[ 0.0052,  0.0004, -0.0084,  ..., -0.0000, -0.0000,  0.0000],\n",
       "        [ 0.0059, -0.0002, -0.0072,  ..., -0.0000,  0.0000,  0.0000],\n",
       "        [ 0.0064,  0.0005, -0.0060,  ..., -0.0000,  0.0000,  0.0000]],\n",
       "       dtype=torch.float64)"
      ]
     },
     "execution_count": 30,
     "metadata": {},
     "output_type": "execute_result"
    }
   ],
   "source": [
    "ig_attr_test"
   ]
  },
  {
   "cell_type": "code",
   "execution_count": 31,
   "id": "0e7d2609",
   "metadata": {},
   "outputs": [
    {
     "data": {
      "text/plain": [
       "torch.Size([3, 421])"
      ]
     },
     "execution_count": 31,
     "metadata": {},
     "output_type": "execute_result"
    }
   ],
   "source": [
    "X_test.shape"
   ]
  },
  {
   "cell_type": "code",
   "execution_count": 32,
   "id": "5107ae0f",
   "metadata": {},
   "outputs": [],
   "source": [
    "# lets find all the zeros in X_test\n",
    "combined_vec = X_test.sum(axis=0)\n",
    "zero_idxs = combined_vec == 0\n",
    "X_test_nonzero = X_test[:,~zero_idxs]\n",
    "ig_attr_test = ig_attr_test[:,~zero_idxs]\n",
    "ig_nt_attr_test = ig_nt_attr_test[:,~zero_idxs]\n",
    "dl_attr_test = dl_attr_test[:,~zero_idxs]\n",
    "gs_attr_test = gs_attr_test[:,~zero_idxs]\n",
    "fa_attr_test = fa_attr_test[:,~zero_idxs]"
   ]
  },
  {
   "cell_type": "code",
   "execution_count": 33,
   "id": "8a97acc7",
   "metadata": {},
   "outputs": [],
   "source": [
    "model = fcnn.net"
   ]
  },
  {
   "cell_type": "code",
   "execution_count": 34,
   "id": "03d2da49",
   "metadata": {},
   "outputs": [
    {
     "data": {
      "image/png": "[encoded data removed]",
      "text/plain": [
       "<Figure size 2160x720 with 1 Axes>"
      ]
     },
     "metadata": {
      "needs_background": "light"
     },
     "output_type": "display_data"
    }
   ],
   "source": [
    "x_axis_data = np.arange(X_test_nonzero.shape[1])\n",
    "x_axis_data_labels = list(map(lambda idx: idx, x_axis_data))\n",
    "\n",
    "ig_attr_test_sum = ig_attr_test.detach().numpy().sum(0)\n",
    "ig_attr_test_norm_sum = ig_attr_test_sum / np.linalg.norm(ig_attr_test_sum, ord=1)\n",
    "\n",
    "ig_nt_attr_test_sum = ig_nt_attr_test.detach().numpy().sum(0)\n",
    "ig_nt_attr_test_norm_sum = ig_nt_attr_test_sum / np.linalg.norm(ig_nt_attr_test_sum, ord=1)\n",
    "\n",
    "dl_attr_test_sum = dl_attr_test.detach().numpy().sum(0)\n",
    "dl_attr_test_norm_sum = dl_attr_test_sum / np.linalg.norm(dl_attr_test_sum, ord=1)\n",
    "\n",
    "gs_attr_test_sum = gs_attr_test.detach().numpy().sum(0)\n",
    "gs_attr_test_norm_sum = gs_attr_test_sum / np.linalg.norm(gs_attr_test_sum, ord=1)\n",
    "\n",
    "fa_attr_test_sum = fa_attr_test.detach().numpy().sum(0)\n",
    "fa_attr_test_norm_sum = fa_attr_test_sum / np.linalg.norm(fa_attr_test_sum, ord=1)\n",
    "\n",
    "lin_weight = model.layers[0][0].weight.detach().numpy()\n",
    "y_axis_lin_weight = lin_weight / np.linalg.norm(lin_weight, ord=1)\n",
    "\n",
    "width = 0.14\n",
    "legends = ['Int Grads', 'Int Grads w/SmoothGrad','DeepLift', 'GradientSHAP', 'Feature Ablation', 'Weights']\n",
    "\n",
    "plt.figure(figsize=(30, 10))\n",
    "\n",
    "ax = plt.subplot()\n",
    "ax.set_title('Comparing input feature importances across multiple algorithms and learned weights')\n",
    "ax.set_ylabel('Attributions')\n",
    "\n",
    "FONT_SIZE = 16\n",
    "plt.rc('font', size=FONT_SIZE)            # fontsize of the text sizes\n",
    "plt.rc('axes', titlesize=FONT_SIZE)       # fontsize of the axes title\n",
    "plt.rc('axes', labelsize=FONT_SIZE)       # fontsize of the x and y labels\n",
    "plt.rc('legend', fontsize=FONT_SIZE - 4)  # fontsize of the legend\n",
    "\n",
    "ax.bar(x_axis_data, ig_attr_test_norm_sum, width, align='center', alpha=0.8, color='#eb5e7c')\n",
    "ax.bar(x_axis_data + width, ig_nt_attr_test_norm_sum, width, align='center', alpha=0.7, color='#A90000')\n",
    "ax.bar(x_axis_data + 2 * width, dl_attr_test_norm_sum, width, align='center', alpha=0.6, color='#34b8e0')\n",
    "ax.bar(x_axis_data + 3 * width, gs_attr_test_norm_sum, width, align='center',  alpha=0.8, color='#4260f5')\n",
    "ax.bar(x_axis_data + 4 * width, fa_attr_test_norm_sum, width, align='center', alpha=1.0, color='#49ba81')\n",
    "\n",
    "#ax.bar(x_axis_data + 5 * width, y_axis_lin_weight, width, align='center', alpha=1.0, color='grey')\n",
    "ax.autoscale_view()\n",
    "plt.tight_layout()\n",
    "\n",
    "ax.set_xticks(x_axis_data + 0.5)\n",
    "ax.set_xticklabels(x_axis_data_labels)\n",
    "\n",
    "plt.legend(legends, loc=3)\n",
    "plt.show()"
   ]
  },
  {
   "cell_type": "code",
   "execution_count": 35,
   "id": "3a7443c1",
   "metadata": {},
   "outputs": [
    {
     "data": {
      "text/plain": [
       "0.506443"
      ]
     },
     "execution_count": 35,
     "metadata": {},
     "output_type": "execute_result"
    }
   ],
   "source": [
    "np.linalg.norm(dl_attr_test_sum, ord=1)"
   ]
  },
  {
   "cell_type": "code",
   "execution_count": 36,
   "id": "1fe1c6cb",
   "metadata": {},
   "outputs": [
    {
     "data": {
      "text/plain": [
       "array([ 1.78577974e-02,  7.52312480e-04, -2.15418749e-02,  1.60384004e-03,\n",
       "        3.93935945e-03,  2.10877899e-02,  5.00810985e-03, -4.73901583e-03,\n",
       "        9.00274515e-03, -3.54326069e-02, -4.15623412e-02, -4.89440188e-02,\n",
       "       -2.96287537e-02, -3.48007679e-02, -1.88754369e-02, -3.20775202e-03,\n",
       "        4.94512729e-03,  5.79412980e-03,  2.06019240e-03,  3.83375585e-03,\n",
       "       -1.43896366e-04,  5.30758593e-03,  4.92963661e-03, -3.56053235e-04,\n",
       "       -5.43375639e-03,  8.57877079e-03, -2.99923914e-03, -7.88905072e-06,\n",
       "        1.75159983e-02,  1.79213695e-02,  7.95027241e-03,  4.83776862e-03,\n",
       "       -7.29555869e-03,  4.20464342e-03,  1.29278135e-02,  1.96822360e-03,\n",
       "        8.37280473e-04, -3.36124818e-03, -1.34830289e-02,  7.66214449e-03,\n",
       "        1.45313442e-02,  8.65940098e-03,  5.48160682e-03,  2.26582885e-02,\n",
       "       -1.19667305e-02, -8.05790187e-04], dtype=float32)"
      ]
     },
     "execution_count": 36,
     "metadata": {},
     "output_type": "execute_result"
    }
   ],
   "source": [
    "dl_attr_test_sum"
   ]
  },
  {
   "cell_type": "code",
   "execution_count": 38,
   "id": "6309fd7a",
   "metadata": {},
   "outputs": [
    {
     "data": {
      "text/plain": [
       "tensor([ 1.7858e-02,  7.5231e-04, -2.1542e-02,  1.6038e-03,  3.9394e-03,\n",
       "         2.1088e-02,  5.0081e-03, -4.7390e-03,  9.0027e-03, -3.5433e-02,\n",
       "        -4.1562e-02, -4.8944e-02, -2.9629e-02, -3.4801e-02, -1.8875e-02,\n",
       "        -3.2078e-03,  4.9451e-03,  5.7941e-03,  2.0602e-03,  3.8338e-03,\n",
       "        -1.4390e-04,  5.3076e-03,  4.9296e-03, -3.5605e-04, -5.4338e-03,\n",
       "         8.5788e-03, -2.9992e-03, -7.8891e-06,  1.7516e-02,  1.7921e-02,\n",
       "         7.9503e-03,  4.8378e-03, -7.2956e-03,  4.2046e-03,  1.2928e-02,\n",
       "         1.9682e-03,  8.3728e-04, -3.3612e-03, -1.3483e-02,  7.6621e-03,\n",
       "         1.4531e-02,  8.6594e-03,  5.4816e-03,  2.2658e-02, -1.1967e-02,\n",
       "        -8.0579e-04], grad_fn=<SumBackward1>)"
      ]
     },
     "execution_count": 38,
     "metadata": {},
     "output_type": "execute_result"
    }
   ],
   "source": [
    "dl_attr_test.sum(0)"
   ]
  },
  {
   "cell_type": "code",
   "execution_count": null,
   "id": "7971e8ea",
   "metadata": {},
   "outputs": [],
   "source": []
  }
 ],
 "metadata": {
  "kernelspec": {
   "display_name": "Python 3 (ipykernel)",
   "language": "python",
   "name": "python3"
  },
  "language_info": {
   "codemirror_mode": {
    "name": "ipython",
    "version": 3
   },
   "file_extension": ".py",
   "mimetype": "text/x-python",
   "name": "python",
   "nbconvert_exporter": "python",
   "pygments_lexer": "ipython3",
   "version": "3.10.4"
  }
 },
 "nbformat": 4,
 "nbformat_minor": 5
}
