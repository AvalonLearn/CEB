{
 "cells": [
  {
   "cell_type": "code",
   "execution_count": 5,
   "id": "engaged-government",
   "metadata": {},
   "outputs": [
    {
     "name": "stdout",
     "output_type": "stream",
     "text": [
      "The autoreload extension is already loaded. To reload it, use:\n",
      "  %reload_ext autoreload\n"
     ]
    }
   ],
   "source": [
    "%load_ext autoreload\n",
    "%autoreload 2\n",
    "\n",
    "import numpy as np\n",
    "import pandas as pd\n",
    "import sys\n",
    "sys.path.append(\"..\")\n",
    "\n",
    "from cardinality_estimation.featurizer import Featurizer\n",
    "from query_representation.query import load_qrep\n",
    "from cardinality_estimation.dataset import *\n",
    "from torch.utils import data\n",
    "\n",
    "import glob\n",
    "import random\n",
    "import os\n",
    "import json\n",
    "import time\n",
    "import matplotlib.pyplot as plt"
   ]
  },
  {
   "cell_type": "markdown",
   "id": "selected-separate",
   "metadata": {},
   "source": [
    "# Setup file paths / Download query data"
   ]
  },
  {
   "cell_type": "code",
   "execution_count": 6,
   "id": "perfect-surgery",
   "metadata": {},
   "outputs": [],
   "source": [
    "import errno\n",
    "def make_dir(directory):\n",
    "    try:\n",
    "        os.makedirs(directory)\n",
    "    except OSError as e:\n",
    "        if e.errno != errno.EEXIST:\n",
    "            raise"
   ]
  },
  {
   "cell_type": "code",
   "execution_count": 7,
   "id": "hidden-somalia",
   "metadata": {},
   "outputs": [],
   "source": [
    "TRAINDIR = os.path.join(os.path.join(\"..\", \"queries\"), \"imdb-unique-plans\")\n",
    "TESTDIR = os.path.join(os.path.join(\"..\", \"queries\"), \"imdb-unique-plans\")\n",
    "RESULTDIR = os.path.join(\"..\", \"results\")\n",
    "make_dir(RESULTDIR)"
   ]
  },
  {
   "cell_type": "markdown",
   "id": "opposite-collaboration",
   "metadata": {},
   "source": [
    "# Query loading helper functions"
   ]
  },
  {
   "cell_type": "code",
   "execution_count": 8,
   "id": "hollywood-flood",
   "metadata": {},
   "outputs": [],
   "source": [
    "def load_qdata(fns):\n",
    "    qreps = []\n",
    "    for qfn in fns:\n",
    "        qrep = load_qrep(qfn)\n",
    "        # TODO: can do checks like no queries with zero cardinalities etc.\n",
    "        qreps.append(qrep)\n",
    "        template_name = os.path.basename(os.path.dirname(qfn))\n",
    "        qrep[\"name\"] = os.path.basename(qfn)\n",
    "        qrep[\"template_name\"] = template_name\n",
    "    return qreps\n",
    "\n",
    "def get_query_fns(basedir, template_fraction=1.0, sel_templates=None):\n",
    "    fns = []\n",
    "    tmpnames = list(glob.glob(os.path.join(basedir, \"*\")))\n",
    "    assert template_fraction <= 1.0\n",
    "    \n",
    "    for qi,qdir in enumerate(tmpnames):\n",
    "        if os.path.isfile(qdir):\n",
    "            continue\n",
    "        template_name = os.path.basename(qdir)\n",
    "        if sel_templates is not None and template_name not in sel_templates:\n",
    "            continue\n",
    "        \n",
    "        # let's first select all the qfns we are going to load\n",
    "        qfns = list(glob.glob(os.path.join(qdir, \"*.pkl\")))\n",
    "        qfns.sort()\n",
    "        num_samples = max(int(len(qfns)*template_fraction), 1)\n",
    "        random.seed(1234)\n",
    "        qfns = random.sample(qfns, num_samples)\n",
    "        fns += qfns\n",
    "    return fns"
   ]
  },
  {
   "cell_type": "markdown",
   "id": "arranged-waterproof",
   "metadata": {},
   "source": [
    "# Evaluation helper functions"
   ]
  },
  {
   "cell_type": "code",
   "execution_count": 9,
   "id": "mineral-accounting",
   "metadata": {},
   "outputs": [],
   "source": [
    "def get_preds(alg, qreps):\n",
    "    if isinstance(qreps[0], str):\n",
    "        # only file paths sent\n",
    "        qreps = load_qdata(qreps)\n",
    "    \n",
    "    ests = alg.test(qreps)\n",
    "    return ests\n",
    "\n",
    "def eval_alg(alg, eval_funcs, qreps, samples_type, result_dir=\"./results/\"):\n",
    "    '''\n",
    "    '''\n",
    "    np.set_printoptions(formatter={'float': lambda x: \"{0:0.3f}\".format(x)})\n",
    "\n",
    "    alg_name = alg.__str__()\n",
    "    exp_name = alg.get_exp_name()\n",
    "    \n",
    "    if isinstance(qreps[0], str):\n",
    "        # only file paths sent\n",
    "        qreps = load_qdata(qreps)\n",
    "    \n",
    "    ests = alg.test(qreps)\n",
    "\n",
    "    for efunc in eval_funcs:\n",
    "        rdir = None\n",
    "        if result_dir is not None:\n",
    "            rdir = os.path.join(result_dir, exp_name)\n",
    "            make_dir(rdir)\n",
    "\n",
    "        errors = efunc.eval(qreps, ests, samples_type=samples_type,\n",
    "                result_dir=rdir,\n",
    "                num_processes = -1,\n",
    "                alg_name = alg_name,\n",
    "                use_wandb=0)\n",
    "\n",
    "        print(\"{}, {}, #samples: {}, {}: mean: {}, median: {}, 99p: {}\"\\\n",
    "                .format(samples_type, alg, len(errors),\n",
    "                    efunc.__str__(),\n",
    "                    np.round(np.mean(errors),3),\n",
    "                    np.round(np.median(errors),3),\n",
    "                    np.round(np.percentile(errors,99),3)))"
   ]
  },
  {
   "cell_type": "markdown",
   "id": "lucky-omaha",
   "metadata": {},
   "source": [
    "# Load queries"
   ]
  },
  {
   "cell_type": "code",
   "execution_count": 10,
   "id": "sacred-arena",
   "metadata": {},
   "outputs": [
    {
     "name": "stdout",
     "output_type": "stream",
     "text": [
      "Selected 227 training queries, 0 validation queries, 388 test queries\n"
     ]
    }
   ],
   "source": [
    "# set template_fraction <= 1.0 to test quickly w/ smaller datasets\n",
    "# train_qfns = get_query_fns(TRAINDIR, template_fraction = 0.001)\n",
    "# val_qfns = get_query_fns(VALDIR, template_fraction = 1.0)\n",
    "# test_qfns = get_query_fns(TESTDIR, template_fraction = 1.0)\n",
    "\n",
    "train_qfns = get_query_fns(TRAINDIR, template_fraction = 0.8, sel_templates=[\"2b\"])\n",
    "val_qfns = []\n",
    "test_qfns = get_query_fns(TESTDIR, template_fraction = 1.0, sel_templates=[\"2a\"])\n",
    "\n",
    "print(\"Selected {} training queries, {} validation queries, {} test queries\".\\\n",
    "      format(len(train_qfns), len(val_qfns), len(test_qfns)))"
   ]
  },
  {
   "cell_type": "code",
   "execution_count": 11,
   "id": "informational-ultimate",
   "metadata": {},
   "outputs": [],
   "source": [
    "from evaluation.eval_fns import QError, SimplePlanCost\n",
    "EVAL_FNS = []\n",
    "EVAL_FNS.append(QError())\n",
    "EVAL_FNS.append(SimplePlanCost())"
   ]
  },
  {
   "cell_type": "code",
   "execution_count": 12,
   "id": "numeric-indianapolis",
   "metadata": {},
   "outputs": [],
   "source": [
    "def init_featurizer(featurization_type):\n",
    "    # Load database specific data, e.g., information about columns, tables etc.\n",
    "    dbdata_fn = os.path.join(TRAINDIR, \"dbdata.json\")\n",
    "    featurizer = Featurizer(None, None, None, None, None)\n",
    "    \n",
    "    with open(dbdata_fn, \"r\") as f:\n",
    "        dbdata = json.load(f)\n",
    "        \n",
    "    featurizer.update_using_saved_stats(dbdata)\n",
    "    \n",
    "    featurizer.setup(ynormalization=\"log\",\n",
    "        feat_separate_alias = 0,\n",
    "        onehot_dropout = onehot_dropout,\n",
    "        feat_mcvs = 0,\n",
    "        heuristic_features = 1,\n",
    "        featurization_type=featurization_type,\n",
    "        table_features=1,\n",
    "        flow_features = 0,\n",
    "        join_features= \"onehot\",\n",
    "        set_column_feature= \"onehot\",\n",
    "        max_discrete_featurizing_buckets=10,\n",
    "        max_like_featurizing_buckets=10,\n",
    "        embedding_fn = \"none\",\n",
    "        embedding_pooling = None,\n",
    "        implied_pred_features = 0,\n",
    "        feat_onlyseen_preds = 1)\n",
    "    featurizer.update_ystats(trainqs)\n",
    "    \n",
    "    featurizer.update_max_sets(trainqs)\n",
    "    featurizer.update_workload_stats(trainqs)\n",
    "    featurizer.init_feature_mapping()\n",
    "    #featurizer.update_ystats(trainqs)\n",
    "   \n",
    "\n",
    "    # if feat_onlyseen_preds:\n",
    "    # just do it always\n",
    "    featurizer.update_seen_preds(trainqs)\n",
    "    \n",
    "    return featurizer"
   ]
  },
  {
   "cell_type": "code",
   "execution_count": 13,
   "id": "734edcff",
   "metadata": {},
   "outputs": [],
   "source": [
    "# going to start training the models\n",
    "trainqs = load_qdata(train_qfns)"
   ]
  },
  {
   "cell_type": "code",
   "execution_count": 14,
   "id": "f730aec5",
   "metadata": {},
   "outputs": [],
   "source": [
    "testqs = load_qdata(test_qfns)"
   ]
  },
  {
   "cell_type": "code",
   "execution_count": 15,
   "id": "37a69fb2",
   "metadata": {},
   "outputs": [],
   "source": [
    "max_epochs = 30\n",
    "lr=0.0001\n",
    "training_opt = \"none\"\n",
    "opt_lr = 0.1\n",
    "swa_start = 5\n",
    "mask_unseen_subplans = 0\n",
    "subplan_level_outputs=0\n",
    "normalize_flow_loss = 1\n",
    "heuristic_unseen_preds = 0\n",
    "cost_model = \"C\"\n",
    "use_wandb = 0\n",
    "eval_fns = \"qerr,plancost\"\n",
    "load_padded_mscn_feats = 1\n",
    "mb_size = 1024\n",
    "weight_decay = 0.0\n",
    "load_query_together = 0\n",
    "result_dir = \"./results\"\n",
    "\n",
    "onehot_dropout=0\n",
    "onehot_mask_truep=0.8\n",
    "onehot_reg=0\n",
    "onehot_reg_decay=0.1\n",
    "eval_epoch = 200\n",
    "optimizer_name=\"adamw\"\n",
    "clip_gradient=20.0\n",
    "loss_func_name = \"mse\"\n",
    "hidden_layer_size = 128\n",
    "num_hidden_layers = 2"
   ]
  },
  {
   "cell_type": "code",
   "execution_count": 16,
   "id": "dominican-punishment",
   "metadata": {},
   "outputs": [
    {
     "name": "stdout",
     "output_type": "stream",
     "text": [
      "Updated stats to remove alias based columns\n",
      "min y: 0.0, max y: 20.436771454911057\n",
      "Max tables:  11 Max pred vals:  56 Max joins:  11\n",
      "max pred vals: 56\n",
      "Seen comparison operators:  {'lt', 'in'}\n",
      "Tables:  {'role_type', 'movie_info', 'cast_info', 'kind_type', 'name', 'title', 'movie_keyword', 'keyword', 'info_type'}\n",
      "new alias:  cn\n",
      "new alias:  cn\n",
      "new alias:  ct\n",
      "new alias:  mii\n",
      "new alias:  pi\n"
     ]
    }
   ],
   "source": [
    "#from cardinality_estimation.mscn import MSCN as MSCN2\n",
    "from cardinality_estimation.mscn import MSCNCaptum as MSCN2\n",
    "\n",
    "featurizer = init_featurizer(\"set\")\n",
    "\n",
    "mscn = MSCN2(max_epochs = max_epochs, lr=lr,\n",
    "                training_opt = training_opt,\n",
    "                inp_dropout = 0.0,\n",
    "                hl_dropout = 0.0,\n",
    "                comb_dropout = 0.0,\n",
    "                max_num_tables = -1,\n",
    "                opt_lr = opt_lr,\n",
    "                swa_start = swa_start,\n",
    "                mask_unseen_subplans = mask_unseen_subplans,\n",
    "                subplan_level_outputs=subplan_level_outputs,\n",
    "                normalize_flow_loss = normalize_flow_loss,\n",
    "                heuristic_unseen_preds = heuristic_unseen_preds,\n",
    "                cost_model = cost_model,\n",
    "                use_wandb = use_wandb,\n",
    "                eval_fns = eval_fns,\n",
    "                load_padded_mscn_feats = load_padded_mscn_feats,\n",
    "                mb_size = mb_size,\n",
    "                weight_decay = weight_decay,\n",
    "                load_query_together = load_query_together,\n",
    "                result_dir = result_dir,\n",
    "                onehot_dropout=onehot_dropout,\n",
    "                onehot_mask_truep=onehot_mask_truep,\n",
    "                onehot_reg=onehot_reg,\n",
    "                onehot_reg_decay=onehot_reg_decay,\n",
    "                # num_hidden_layers=num_hidden_layers,\n",
    "                eval_epoch = eval_epoch,\n",
    "                optimizer_name=optimizer_name,\n",
    "                clip_gradient=clip_gradient,\n",
    "                loss_func_name = loss_func_name,\n",
    "                hidden_layer_size = hidden_layer_size,\n",
    "                other_hid_units = hidden_layer_size,\n",
    "                num_hidden_layers = 2,\n",
    "                early_stopping = False,\n",
    "                random_bitmap_idx = False,\n",
    "                reg_loss = False,\n",
    "                )"
   ]
  },
  {
   "cell_type": "code",
   "execution_count": 17,
   "id": "c803d67b",
   "metadata": {},
   "outputs": [
    {
     "name": "stdout",
     "output_type": "stream",
     "text": [
      "load mscn feats False\n",
      "Extracting features took:  46.006089210510254\n",
      "SetConvCaptum(\n",
      "  (inp_drop_layer): Dropout(p=0.0, inplace=False)\n",
      "  (hl_drop_layer): Dropout(p=0.0, inplace=False)\n",
      "  (combined_drop_layer): Dropout(p=0.0, inplace=False)\n",
      "  (sample_mlp1): Linear(in_features=9, out_features=128, bias=True)\n",
      "  (sample_mlp2): Linear(in_features=128, out_features=128, bias=True)\n",
      "  (predicate_mlp1): Linear(in_features=44, out_features=128, bias=True)\n",
      "  (predicate_mlp2): Linear(in_features=128, out_features=128, bias=True)\n",
      "  (join_mlp1): Linear(in_features=9, out_features=128, bias=True)\n",
      "  (join_mlp2): Linear(in_features=128, out_features=128, bias=True)\n",
      "  (out_mlp1): Linear(in_features=384, out_features=128, bias=True)\n",
      "  (out_mlp2): Linear(in_features=128, out_features=1, bias=True)\n",
      ")\n",
      "Training samples: 65830, Model size: 0.42906\n",
      "Epoch 0 took 3.34, Avg Loss: 0.039549, #samples: 65830\n",
      "Epoch 1 took 3.3, Avg Loss: 0.033309, #samples: 65830\n",
      "Epoch 2 took 3.32, Avg Loss: 0.021967, #samples: 65830\n",
      "Epoch 3 took 3.29, Avg Loss: 0.01493, #samples: 65830\n",
      "Epoch 4 took 3.34, Avg Loss: 0.012284, #samples: 65830\n",
      "Epoch 5 took 3.3, Avg Loss: 0.011312, #samples: 65830\n",
      "Epoch 6 took 3.31, Avg Loss: 0.010801, #samples: 65830\n",
      "Epoch 7 took 3.33, Avg Loss: 0.010392, #samples: 65830\n",
      "Epoch 8 took 3.33, Avg Loss: 0.010056, #samples: 65830\n",
      "Epoch 9 took 3.34, Avg Loss: 0.009812, #samples: 65830\n",
      "Epoch 10 took 3.32, Avg Loss: 0.009549, #samples: 65830\n",
      "Epoch 11 took 3.3, Avg Loss: 0.009342, #samples: 65830\n",
      "Epoch 12 took 3.32, Avg Loss: 0.009121, #samples: 65830\n",
      "Epoch 13 took 3.34, Avg Loss: 0.008938, #samples: 65830\n",
      "Epoch 14 took 3.38, Avg Loss: 0.0088, #samples: 65830\n",
      "Epoch 15 took 3.34, Avg Loss: 0.008624, #samples: 65830\n",
      "Epoch 16 took 3.84, Avg Loss: 0.008468, #samples: 65830\n",
      "Epoch 17 took 3.37, Avg Loss: 0.008351, #samples: 65830\n",
      "Epoch 18 took 3.34, Avg Loss: 0.008237, #samples: 65830\n",
      "Epoch 19 took 3.35, Avg Loss: 0.008077, #samples: 65830\n",
      "Epoch 20 took 3.32, Avg Loss: 0.007992, #samples: 65830\n",
      "Epoch 21 took 3.31, Avg Loss: 0.007907, #samples: 65830\n",
      "Epoch 22 took 3.34, Avg Loss: 0.007782, #samples: 65830\n",
      "Epoch 23 took 3.32, Avg Loss: 0.00766, #samples: 65830\n",
      "Epoch 24 took 3.31, Avg Loss: 0.007585, #samples: 65830\n",
      "Epoch 25 took 3.32, Avg Loss: 0.007483, #samples: 65830\n",
      "Epoch 26 took 3.25, Avg Loss: 0.007441, #samples: 65830\n",
      "Epoch 27 took 3.26, Avg Loss: 0.007333, #samples: 65830\n",
      "Epoch 28 took 3.24, Avg Loss: 0.007279, #samples: 65830\n",
      "Epoch 29 took 3.25, Avg Loss: 0.007169, #samples: 65830\n"
     ]
    }
   ],
   "source": [
    "mscn.train(trainqs, valqs=None, testqs=None,\n",
    "    featurizer=featurizer, result_dir=RESULTDIR)"
   ]
  },
  {
   "cell_type": "code",
   "execution_count": 21,
   "id": "random-share",
   "metadata": {},
   "outputs": [
    {
     "name": "stdout",
     "output_type": "stream",
     "text": [
      "load mscn feats False\n",
      "Extracting features took:  0.19625163078308105\n",
      "samples: 290, _eval_ds took: 0.011362075805664062\n",
      "train, MSCNCaptum, #samples: 290, QError: mean: 5.845, median: 2.952, 99p: 27.338\n",
      "train, #samples: 1, plancost relative: 1.004\n",
      "train, MSCNCaptum, #samples: 1, SimplePlanCost: mean: 1323170.571, median: 1323170.571, 99p: 1323170.571\n",
      "load mscn feats False\n",
      "Extracting features took:  77.30346155166626\n",
      "samples: 112520, _eval_ds took: 2.3096530437469482\n",
      "test, MSCNCaptum, #samples: 112520, QError: mean: 608.036, median: 3.02, 99p: 857.041\n",
      "test, #samples: 388, plancost relative: 2.803\n",
      "test, MSCNCaptum, #samples: 388, SimplePlanCost: mean: 8361410.689, median: 1438256.882, 99p: 104474937.816\n"
     ]
    }
   ],
   "source": [
    "#evaluate model\n",
    "eval_alg(mscn, EVAL_FNS, trainqs, \"train\")\n",
    "\n",
    "#preds = mscn.test(testqs)\n",
    "eval_alg(mscn, EVAL_FNS, testqs, \"test\")"
   ]
  },
  {
   "cell_type": "code",
   "execution_count": null,
   "id": "929d80e7",
   "metadata": {},
   "outputs": [],
   "source": [
    "#eval_alg(mscn, EVAL_FNS, testqs, \"test\")"
   ]
  },
  {
   "cell_type": "code",
   "execution_count": 23,
   "id": "62089a56",
   "metadata": {},
   "outputs": [
    {
     "name": "stdout",
     "output_type": "stream",
     "text": [
      "results/MSCNCaptum2633363450/\n"
     ]
    }
   ],
   "source": [
    "models_path = \"results/\" + mscn.get_exp_name() + \"/\"\n",
    "print(models_path)"
   ]
  },
  {
   "cell_type": "code",
   "execution_count": 24,
   "id": "desperate-harvard",
   "metadata": {},
   "outputs": [],
   "source": [
    "# imports from captum library\n",
    "from captum.attr import LayerConductance, LayerActivation, LayerIntegratedGradients\n",
    "from captum.attr import IntegratedGradients, DeepLift, GradientShap, NoiseTunnel, FeatureAblation, Lime"
   ]
  },
  {
   "cell_type": "code",
   "execution_count": 25,
   "id": "e95f83d3",
   "metadata": {},
   "outputs": [
    {
     "name": "stdout",
     "output_type": "stream",
     "text": [
      "load mscn feats False\n",
      "Extracting features took:  0.19812822341918945\n",
      "load mscn feats False\n",
      "Extracting features took:  0.5879278182983398\n"
     ]
    }
   ],
   "source": [
    "#featurizer = init_featurizer(\"set\")\n",
    "ds = QueryDataset(trainqs[0:10], featurizer,\n",
    "        True,\n",
    "        load_padded_mscn_feats=True)\n",
    "loader = data.DataLoader(ds,\n",
    "        batch_size=1, shuffle=False,\n",
    "        collate_fn=mscn_collate_fn_together,\n",
    "        )\n",
    "\n",
    "testds = QueryDataset(testqs[0:3], featurizer,\n",
    "        True,\n",
    "        load_padded_mscn_feats=True)\n",
    "\n",
    "testloader = data.DataLoader(testds,\n",
    "        batch_size=1, shuffle=False,\n",
    "        collate_fn=mscn_collate_fn_together,\n",
    "        )"
   ]
  },
  {
   "cell_type": "code",
   "execution_count": 26,
   "id": "9893dc19",
   "metadata": {},
   "outputs": [],
   "source": [
    "iloader = iter(testloader)"
   ]
  },
  {
   "cell_type": "code",
   "execution_count": 27,
   "id": "1deffab5",
   "metadata": {},
   "outputs": [
    {
     "name": "stdout",
     "output_type": "stream",
     "text": [
      "tensor(213.6691)\n",
      "tensor(532.2302)\n"
     ]
    }
   ],
   "source": [
    "xbatch,y,info = next(iloader)\n",
    "print(torch.sum(xbatch[\"pred\"][:,:,20]))\n",
    "print(torch.sum(xbatch[\"pred\"][:,:,21]))"
   ]
  },
  {
   "cell_type": "code",
   "execution_count": 28,
   "id": "1c518b2e",
   "metadata": {},
   "outputs": [
    {
     "name": "stdout",
     "output_type": "stream",
     "text": [
      "SELECT COUNT(*)\n",
      "FROM title AS t,\n",
      "     kind_type AS kt,\n",
      "     info_type AS it1,\n",
      "     movie_info AS mi1,\n",
      "     movie_info AS mi2,\n",
      "     info_type AS it2,\n",
      "     cast_info AS ci,\n",
      "     role_type AS rt,\n",
      "     name AS n,\n",
      "     movie_keyword AS mk,\n",
      "     keyword AS k\n",
      "WHERE t.id = ci.movie_id\n",
      "  AND t.id = mi1.movie_id\n",
      "  AND t.id = mi2.movie_id\n",
      "  AND t.id = mk.movie_id\n",
      "  AND k.id = mk.keyword_id\n",
      "  AND mi1.movie_id = mi2.movie_id\n",
      "  AND mi1.info_type_id = it1.id\n",
      "  AND mi2.info_type_id = it2.id\n",
      "  AND (it1.id in ('5'))\n",
      "  AND (it2.id in ('8'))\n",
      "  AND t.kind_id = kt.id\n",
      "  AND ci.person_id = n.id\n",
      "  AND ci.role_id = rt.id\n",
      "  AND (mi1.info in ('Argentina:13',\n",
      "                    'Australia:M',\n",
      "                    'Australia:R',\n",
      "                    'Hong Kong:IIB',\n",
      "                    'Italy:T',\n",
      "                    'Malaysia:U',\n",
      "                    'Peru:14',\n",
      "                    'Portugal:M/12'))\n",
      "  AND (mi2.info in ('Argentina',\n",
      "                    'Germany',\n",
      "                    'Hong Kong',\n",
      "                    'Portugal',\n",
      "                    'USA'))\n",
      "  AND (kt.kind in ('episode',\n",
      "                   'video movie'))\n",
      "  AND (rt.role in ('actress',\n",
      "                   'composer'))\n",
      "  AND (n.gender in ('m'))\n",
      "  AND (t.production_year <= 2015)\n",
      "  AND (t.production_year >= 1990)\n"
     ]
    }
   ],
   "source": [
    "import sqlparse\n",
    "sql = testqs[0][\"sql\"]\n",
    "print(sqlparse.format(sql, reindent=True, keyword_case='upper'))"
   ]
  },
  {
   "cell_type": "code",
   "execution_count": 29,
   "id": "b3335996",
   "metadata": {},
   "outputs": [
    {
     "name": "stdout",
     "output_type": "stream",
     "text": [
      "(2, 18)\n",
      "{'ci.note': 0, 'it.id': 1, 'k.keyword': 2, 'kt.kind': 3, 'mi.info': 4, 'n.gender': 5, 'n.name': 6, 'n.name_pcode_cf': 7, 'n.name_pcode_nf': 8, 'n.surname_pcode': 9, 'rt.role': 10, 't.production_year': 11, 't.title': 12}\n"
     ]
    }
   ],
   "source": [
    "print(featurizer.featurizer_type_idxs[\"col_onehot\"])\n",
    "print(featurizer.columns_onehot_idx)\n",
    "# mii.info\n",
    "# n.name\n",
    "# n.name_pcode_cf\n",
    "# n.surname_pcode\n",
    "#[0  1  6  8  9 11 17 18 20 21 34 37 38 39 40 41 42 43 44 45]"
   ]
  },
  {
   "cell_type": "code",
   "execution_count": 30,
   "id": "8b090526",
   "metadata": {},
   "outputs": [
    {
     "name": "stdout",
     "output_type": "stream",
     "text": [
      "(290, 11, 44)\n",
      "(44,)\n",
      "[918.000 540.000 0.000 188.000 0.000 136.000 372.000 111.000 0.000 0.000\n",
      " 0.000 0.000 111.000 540.000 0.000 0.000 0.000 0.000 0.000 0.000 213.669\n",
      " 532.230 0.000 0.000 0.000 0.000 0.000 0.000 0.000 0.000 0.000 0.000\n",
      " 297.000 186.000 186.000 94.000 322.000 297.000 280.000 186.000 322.000\n",
      " 297.000 637.010 707.557]\n"
     ]
    }
   ],
   "source": [
    "curx = xbatch[\"pred\"].detach().numpy()\n",
    "print(curx.shape)\n",
    "xsum = curx.sum(axis=0).sum(axis=0)\n",
    "\n",
    "print(xsum.shape)\n",
    "print(xsum)"
   ]
  },
  {
   "cell_type": "code",
   "execution_count": 31,
   "id": "7dbb73a4",
   "metadata": {},
   "outputs": [],
   "source": [
    "def get_attr_vecs(curx, curattrs):\n",
    "    #idxs = 0\n",
    "    xsum = curx.sum(axis=0).sum(axis=0)\n",
    "    zero_idxs = xsum == 0\n",
    "    curattrs = curattrs[:,:,~zero_idxs]\n",
    "    idxs = np.array(range(len(xsum)))[~zero_idxs]\n",
    "    \n",
    "    #print(curx)\n",
    "    #print(zero_idxs)\n",
    "    #print(idxs)\n",
    "    \n",
    "    curx = curx[:,:,~zero_idxs]\n",
    "    \n",
    "    assert curx.shape == curattrs.shape\n",
    "    \n",
    "    # TODO: avg based on non-zero elements\n",
    "    \n",
    "    #print(\"attr sum: \", np.sum(curattrs))\n",
    "    curattrs = np.abs(curattrs)\n",
    "    #print(\"attr sum after abs: \", np.sum(curattrs))\n",
    "    \n",
    "    attr_sum = curattrs.sum(axis=0).sum(axis=0)\n",
    "    \n",
    "    assert attr_sum.shape[0] == curx.shape[-1]\n",
    "    \n",
    "    # TODO: do we need this?\n",
    "    #attr_sum = attr_sum / np.linalg.norm(attr_sum, ord=1)\n",
    "    \n",
    "    # TODO: do this or no?\n",
    "    curx_nonz = curx != 0\n",
    "    \n",
    "    xnonzero_sums = curx_nonz.sum(axis=0).sum(axis=0)\n",
    "    \n",
    "    #TODO?\n",
    "    attr_sum = attr_sum / xnonzero_sums\n",
    "    \n",
    "    return idxs, attr_sum\n",
    "\n",
    "def get_mscn_attrs(xbatch, attrs, featurizer, normalize=True):\n",
    "    '''\n",
    "    returns a vector with x-axis names and attribution values;\n",
    "    '''\n",
    "    batchsize = xbatch[\"table\"].shape[0]\n",
    "    assert batchsize == attrs[0].shape[0]\n",
    "    tabidxs, tabattrs = get_attr_vecs(xbatch[\"table\"].detach().numpy(), attrs[0].detach().numpy())\n",
    "    predidxs, predattrs = get_attr_vecs(xbatch[\"pred\"].detach().numpy(), attrs[1].detach().numpy())\n",
    "    print(predidxs)\n",
    "    joinidxs, joinattrs = get_attr_vecs(xbatch[\"join\"].detach().numpy(), attrs[2].detach().numpy())\n",
    "    \n",
    "    # TODO: need to do sample_bitmaps\n",
    "    tablabels = []\n",
    "    for curtabidx in tabidxs:\n",
    "        for tab,tidx in featurizer.table_featurizer.items():\n",
    "            if tidx == curtabidx:\n",
    "                tablabels.append(tab)\n",
    "                break\n",
    "    joinlabels = []\n",
    "    for curjidx in joinidxs:\n",
    "        for join,jidx in featurizer.join_featurizer.items():\n",
    "            found = False\n",
    "            if curjidx == jidx:\n",
    "                joinlabels.append(join)\n",
    "                found = True\n",
    "                break\n",
    "        if not found:\n",
    "            joinlabels.append(\"unknown\")\n",
    "    # TODO: join-stats\n",
    "    \n",
    "    predlabels = []\n",
    "    colstart,collen = featurizer.featurizer_type_idxs[\"col_onehot\"]\n",
    "    # TODO: if stats used\n",
    "    #colstatsstart,colstatsend = self.featurizer_type_idxs[\"col_stats\"]\n",
    "    cmp_start,cmplen = featurizer.featurizer_type_idxs[\"cmp_op\"]\n",
    "    cstart,clen = featurizer.featurizer_type_idxs[\"constant_continuous\"]\n",
    "    lstart,llen = featurizer.featurizer_type_idxs[\"constant_like\"]\n",
    "    dstart,dlen = featurizer.featurizer_type_idxs[\"constant_discrete\"]\n",
    "    hstart,hlen = featurizer.featurizer_type_idxs[\"heuristic_ests\"]\n",
    "    \n",
    "    #print(hstart, hlen)\n",
    "    for pi in predidxs:\n",
    "        if pi >= colstart and pi < colstart+collen:\n",
    "            found = False\n",
    "            for col,colidx in featurizer.columns_onehot_idx.items():\n",
    "                if colidx == pi-colstart:\n",
    "                #if colidx == pi:\n",
    "                    print(col)\n",
    "                    predlabels.append(col)\n",
    "                    found = True\n",
    "                    break     \n",
    "            if not found:\n",
    "                print(pi)\n",
    "                predlabels.append(\"col-unknown\")\n",
    "        elif pi >= cmp_start and pi < cmp_start+cmplen:\n",
    "            predlabels.append(\"cmp\")\n",
    "        elif pi == cstart:\n",
    "            #predlabels.append(\"<\")\n",
    "            predlabels.append(\"range-filter\")\n",
    "        elif pi == cstart+1:\n",
    "            predlabels.append(\"range-filter\")\n",
    "        elif pi >= lstart and pi < lstart+llen:\n",
    "            #predlabels.append(\"Like-Hash-\" + str(pi))\n",
    "            predlabels.append(\"Like-Hashes\")\n",
    "        elif pi >= dstart and pi < dstart+dlen:\n",
    "            #predlabels.append(\"Constant-Hash-\" + str(pi))\n",
    "            predlabels.append(\"Constant-Hashes\")\n",
    "        elif pi == hstart:\n",
    "            predlabels.append(\"PostgreSQL Est (Table)\")\n",
    "        elif pi == hstart+1:\n",
    "            predlabels.append(\"PostgreSQL Est (Subplan)\")\n",
    "    \n",
    "    assert len(predidxs) == len(predlabels)\n",
    "#     print(len(predidxs), len(predlabels))\n",
    "#     print(predidxs)\n",
    "#     print(predlabels)\n",
    "    attrs = np.concatenate([tabattrs, joinattrs, predattrs])\n",
    "    xlabels = tablabels + joinlabels + predlabels\n",
    "    \n",
    "    if normalize:\n",
    "        attrs = attrs / np.linalg.norm(attrs, ord=1)\n",
    "    \n",
    "    return xlabels,attrs"
   ]
  },
  {
   "cell_type": "code",
   "execution_count": 32,
   "id": "a63fe157",
   "metadata": {},
   "outputs": [],
   "source": [
    "from cardinality_estimation.nets import *\n",
    "\n",
    "def get_model_attrs(mscn_model, weights, xbatch):\n",
    "    n_out = 1\n",
    "    sfeats = mscn_model.sample_mlp1.in_features\n",
    "    pfeats = mscn_model.predicate_mlp1.in_features\n",
    "    jfeats = mscn_model.join_mlp1.in_features\n",
    "\n",
    "    net = SetConvNoFlow(sfeats,\n",
    "        pfeats, jfeats,\n",
    "        128,\n",
    "        n_out=n_out,\n",
    "        dropouts=[0.0, 0.0, 0.0])\n",
    "    net.load_state_dict(weights)\n",
    "    \n",
    "    model = net\n",
    "    model.eval()\n",
    "    ig = IntegratedGradients(model)\n",
    "    #ig_nt = NoiseTunnel(ig)\n",
    "    #dl = DeepLift(model)\n",
    "    #gs = GradientShap(model)\n",
    "    #fa = FeatureAblation(model)\n",
    "    #limea = Lime(model)\n",
    "    ig_attr_test = ig.attribute(tuple([xbatch[\"table\"], xbatch[\"pred\"],\n",
    "                            xbatch[\"join\"], \n",
    "                            xbatch[\"tmask\"], xbatch[\"pmask\"], \n",
    "                                   xbatch[\"jmask\"]]), n_steps=50)\n",
    "    #print(\"ig done\")\n",
    "    \n",
    "    xlabels, igattrs = get_mscn_attrs(xbatch, ig_attr_test, featurizer, normalize=False)\n",
    "\n",
    "    return xlabels, igattrs"
   ]
  },
  {
   "cell_type": "code",
   "execution_count": null,
   "id": "01413c1f",
   "metadata": {},
   "outputs": [],
   "source": []
  },
  {
   "cell_type": "code",
   "execution_count": 33,
   "id": "c0e29c10",
   "metadata": {},
   "outputs": [
    {
     "name": "stdout",
     "output_type": "stream",
     "text": [
      "[ 0  1  3  5  6  7 12 13 20 21 32 33 34 35 36 37 38 39 40 41 42 43]\n",
      "it.id\n",
      "kt.kind\n",
      "mi.info\n",
      "n.gender\n",
      "rt.role\n",
      "t.production_year\n"
     ]
    }
   ],
   "source": [
    "weights = mscn.net.state_dict()\n",
    "xlabels,attrs = get_model_attrs(mscn.net, weights, xbatch)"
   ]
  },
  {
   "cell_type": "code",
   "execution_count": 34,
   "id": "61a6b864",
   "metadata": {},
   "outputs": [
    {
     "data": {
      "text/plain": [
       "array([0.123, 0.073, 0.071, 0.081, 0.026, 0.072, 0.036, 0.078, 0.076,\n",
       "       0.021, 0.054, 0.022, 0.062, 0.011, 0.087, 0.008, 0.003, 0.031,\n",
       "       0.026, 0.060, 0.051, 0.078, 0.014, 0.012, 0.013, 0.037, 0.029,\n",
       "       0.020, 0.016, 0.007, 0.019, 0.015, 0.013, 0.023, 0.027, 0.002,\n",
       "       0.019, 0.011, 0.026, 0.054])"
      ]
     },
     "execution_count": 34,
     "metadata": {},
     "output_type": "execute_result"
    }
   ],
   "source": [
    "attrs"
   ]
  },
  {
   "cell_type": "code",
   "execution_count": 35,
   "id": "55ba44dc",
   "metadata": {},
   "outputs": [
    {
     "data": {
      "text/plain": [
       "SetConvCaptum(\n",
       "  (inp_drop_layer): Dropout(p=0.0, inplace=False)\n",
       "  (hl_drop_layer): Dropout(p=0.0, inplace=False)\n",
       "  (combined_drop_layer): Dropout(p=0.0, inplace=False)\n",
       "  (sample_mlp1): Linear(in_features=9, out_features=128, bias=True)\n",
       "  (sample_mlp2): Linear(in_features=128, out_features=128, bias=True)\n",
       "  (predicate_mlp1): Linear(in_features=44, out_features=128, bias=True)\n",
       "  (predicate_mlp2): Linear(in_features=128, out_features=128, bias=True)\n",
       "  (join_mlp1): Linear(in_features=9, out_features=128, bias=True)\n",
       "  (join_mlp2): Linear(in_features=128, out_features=128, bias=True)\n",
       "  (out_mlp1): Linear(in_features=384, out_features=128, bias=True)\n",
       "  (out_mlp2): Linear(in_features=128, out_features=1, bias=True)\n",
       ")"
      ]
     },
     "execution_count": 35,
     "metadata": {},
     "output_type": "execute_result"
    }
   ],
   "source": [
    "mscn.net"
   ]
  },
  {
   "cell_type": "code",
   "execution_count": 37,
   "id": "9c943b66",
   "metadata": {},
   "outputs": [],
   "source": [
    "import seaborn as sns\n",
    "\n",
    "def plot_attrs(xlabels, attrs, ax=None):\n",
    "    if ax is None:\n",
    "        plt.figure(figsize=(20, 20))\n",
    "        ax = plt.axes()\n",
    "\n",
    "    #plt.yticks(fontsize=20)\n",
    "    sns.barplot(x=attrs, y=xlabels, color='#4260f5', orient=\"horizontal\", ax=ax, ci=None)"
   ]
  },
  {
   "cell_type": "code",
   "execution_count": 38,
   "id": "f7f3df21",
   "metadata": {},
   "outputs": [],
   "source": [
    "# import pickle\n",
    "\n",
    "# if onehot_dropout:\n",
    "#     with open(\"dropout-attrs.pkl\", \"wb\") as f:\n",
    "#         pickle.dump([xlabels, attrs], f)\n",
    "# else:\n",
    "#     with open(\"default-attrs.pkl\", \"wb\") as f:\n",
    "#         pickle.dump([xlabels, attrs], f)"
   ]
  },
  {
   "cell_type": "code",
   "execution_count": 39,
   "id": "4641e2bd",
   "metadata": {},
   "outputs": [
    {
     "name": "stderr",
     "output_type": "stream",
     "text": [
      "/tmp/ipykernel_6421/1505415145.py:9: FutureWarning: \n",
      "\n",
      "The `ci` parameter is deprecated. Use `errorbar=None` for the same effect.\n",
      "\n",
      "  sns.barplot(x=attrs, y=xlabels, color='#4260f5', orient=\"horizontal\", ax=ax, ci=None)\n"
     ]
    },
    {
     "data": {
      "image/png": "[encoded data removed]",
      "text/plain": [
       "<Figure size 2000x2000 with 1 Axes>"
      ]
     },
     "metadata": {},
     "output_type": "display_data"
    }
   ],
   "source": [
    "plot_attrs(xlabels, attrs)\n",
    "plt.yticks(fontsize=20)\n",
    "#plt.show()\n",
    "plt.savefig(\"attribution-dropout.png\")"
   ]
  },
  {
   "cell_type": "code",
   "execution_count": 41,
   "id": "904e0bcd",
   "metadata": {},
   "outputs": [
    {
     "data": {
      "text/plain": [
       "{'join_onehot': (0, 9),\n",
       " 'cmp_op': (0, 2),\n",
       " 'col_onehot': (2, 18),\n",
       " 'constant_continuous': (20, 2),\n",
       " 'constant_like': (22, 10),\n",
       " 'constant_discrete': (32, 10),\n",
       " 'heuristic_ests': (42, 2)}"
      ]
     },
     "execution_count": 41,
     "metadata": {},
     "output_type": "execute_result"
    }
   ],
   "source": [
    "featurizer.featurizer_type_idxs"
   ]
  },
  {
   "cell_type": "code",
   "execution_count": 42,
   "id": "c547b539",
   "metadata": {},
   "outputs": [
    {
     "name": "stdout",
     "output_type": "stream",
     "text": [
      "tensor([220., 188.,  92., 136., 372., 182., 111., 111., 270.])\n",
      "tensor([918.0000, 540.0000,   0.0000, 188.0000,   0.0000, 136.0000, 372.0000,\n",
      "        111.0000,   0.0000,   0.0000,   0.0000,   0.0000, 111.0000, 540.0000,\n",
      "          0.0000,   0.0000,   0.0000,   0.0000,   0.0000,   0.0000, 213.6690,\n",
      "        532.2302,   0.0000,   0.0000,   0.0000,   0.0000,   0.0000,   0.0000,\n",
      "          0.0000,   0.0000,   0.0000,   0.0000, 297.0000, 186.0000, 186.0000,\n",
      "         94.0000, 322.0000, 297.0000, 280.0000, 186.0000, 322.0000, 297.0000,\n",
      "        637.0089, 707.5573])\n",
      "tensor([216., 110., 110., 155.,  91., 135., 124., 240., 180.])\n",
      "torch.Size([290, 11, 9])\n",
      "torch.Size([290, 11, 44])\n",
      "torch.Size([290, 11, 9])\n"
     ]
    }
   ],
   "source": [
    "print(xbatch[\"table\"].sum(axis=[0,1]))\n",
    "print(xbatch[\"pred\"].sum(axis=[0,1]))\n",
    "print(xbatch[\"join\"].sum(axis=[0,1]))\n",
    "\n",
    "print(xbatch[\"table\"].shape)\n",
    "print(xbatch[\"pred\"].shape)\n",
    "print(xbatch[\"join\"].shape)"
   ]
  },
  {
   "cell_type": "code",
   "execution_count": 43,
   "id": "53809304",
   "metadata": {},
   "outputs": [],
   "source": [
    "def get_attr_vecs_single(curx, curattrs):\n",
    "    #idxs = 0\n",
    "    #print(curx.shape)\n",
    "    #print(curattrs.shape)\n",
    "    xsum = curx.sum(axis=0).sum(axis=0)\n",
    "    #print(xsum.shape)\n",
    "    zero_idxs = xsum == 0\n",
    "    curattrs = curattrs[:,:,~zero_idxs]\n",
    "    idxs = np.array(range(len(xsum)))[~zero_idxs]\n",
    "    \n",
    "    curx = curx[:,:,~zero_idxs]\n",
    "    \n",
    "    assert curx.shape == curattrs.shape\n",
    "    \n",
    "    # TODO: abs values or also accept negative correlations?\n",
    "    curattrs = np.abs(curattrs)\n",
    "    #print(curattrs)\n",
    "    \n",
    "    attr_sum = curattrs.sum(axis=0).sum(axis=0)\n",
    "    \n",
    "    assert attr_sum.shape[0] == curx.shape[-1]\n",
    "    \n",
    "    # TODO: do we need this?\n",
    "    #attr_sum = attr_sum / np.linalg.norm(attr_sum, ord=1)\n",
    "    \n",
    "    # TODO: do this or no?\n",
    "    curx_nonz = curx != 0\n",
    "    \n",
    "    xnonzero_sums = curx_nonz.sum(axis=0).sum(axis=0)\n",
    "    \n",
    "#     print(attr_sum)\n",
    "#     print(xnonzero_sums)\n",
    "    # Do this because different features have different number of copies in the same set, \n",
    "    # e.g, subplan features are in every vector\n",
    "    attr_sum = attr_sum / xnonzero_sums\n",
    "    \n",
    "    return idxs, attr_sum\n",
    "\n",
    "def get_mscn_attrs_single(xbatch, xi, attrs, featurizer, normalize=True):\n",
    "    '''\n",
    "    returns a vector with x-axis names and attribution values;\n",
    "    '''\n",
    "    #batchsize = xbatch[\"table\"].shape[0]\n",
    "    #assert batchsize == attrs[0].shape[0]\n",
    "    tabidxs, tabattrs = get_attr_vecs_single(xbatch[\"table\"][xi:xi+1].detach().numpy(), \n",
    "                                      attrs[0].detach().numpy())\n",
    "    predidxs, predattrs = get_attr_vecs_single(xbatch[\"pred\"][xi:xi+1].detach().numpy(), \n",
    "                                        attrs[1].detach().numpy())\n",
    "    #print(predidxs)\n",
    "    joinidxs, joinattrs = get_attr_vecs_single(xbatch[\"join\"][xi:xi+1].detach().numpy(), \n",
    "                                        attrs[2].detach().numpy())\n",
    "    \n",
    "    # TODO: need to do sample_bitmaps\n",
    "    tablabels = []\n",
    "    for curtabidx in tabidxs:\n",
    "        for tab,tidx in featurizer.table_featurizer.items():\n",
    "            if tidx == curtabidx:\n",
    "                tablabels.append(tab)\n",
    "                break\n",
    "    \n",
    "    joinlabels = []\n",
    "    for curjidx in joinidxs:\n",
    "        for join,jidx in featurizer.join_featurizer.items():\n",
    "            found = False\n",
    "            if curjidx == jidx:\n",
    "                joinlabels.append(join)\n",
    "                found = True\n",
    "                break\n",
    "        if not found:\n",
    "            joinlabels.append(\"unknown\")\n",
    "    # TODO: join-stats\n",
    "    \n",
    "    predlabels = []\n",
    "    colstart,collen = featurizer.featurizer_type_idxs[\"col_onehot\"]\n",
    "    # TODO: if stats used\n",
    "    #colstatsstart,colstatsend = self.featurizer_type_idxs[\"col_stats\"]\n",
    "    cmp_start,cmplen = featurizer.featurizer_type_idxs[\"cmp_op\"]\n",
    "    cstart,clen = featurizer.featurizer_type_idxs[\"constant_continuous\"]\n",
    "    lstart,llen = featurizer.featurizer_type_idxs[\"constant_like\"]\n",
    "    dstart,dlen = featurizer.featurizer_type_idxs[\"constant_discrete\"]\n",
    "    hstart,hlen = featurizer.featurizer_type_idxs[\"heuristic_ests\"]\n",
    "    \n",
    "    #print(hstart, hlen)\n",
    "    for pi in predidxs:\n",
    "        if pi >= colstart and pi < colstart+collen:\n",
    "            found = False\n",
    "            for col,colidx in featurizer.columns_onehot_idx.items():\n",
    "                if colidx == pi-colstart:\n",
    "                #if colidx == pi:\n",
    "                    #print(col)\n",
    "                    predlabels.append(col)\n",
    "                    found = True\n",
    "                    break     \n",
    "            if not found:\n",
    "                #print(pi)\n",
    "                predlabels.append(\"col-unknown\")\n",
    "                \n",
    "        elif pi >= cmp_start and pi < cmp_start+cmplen:\n",
    "            predlabels.append(\"cmp\")\n",
    "        elif pi == cstart:\n",
    "            #predlabels.append(\"<\")\n",
    "            predlabels.append(\"range-filter\")\n",
    "        elif pi == cstart+1:\n",
    "            predlabels.append(\"range-filter\")\n",
    "        elif pi >= lstart and pi < lstart+llen:\n",
    "            #predlabels.append(\"Like-Hash-\" + str(pi))\n",
    "            predlabels.append(\"Like-Hashes\")\n",
    "        elif pi >= dstart and pi < dstart+dlen:\n",
    "            #predlabels.append(\"Constant-Hash-\" + str(pi))\n",
    "            predlabels.append(\"Constant-Hashes\")\n",
    "        elif pi == hstart:\n",
    "            predlabels.append(\"PostgreSQL Est (Table)\")\n",
    "        elif pi == hstart+1:\n",
    "            predlabels.append(\"PostgreSQL Est (Subplan)\")\n",
    "    \n",
    "    assert len(predidxs) == len(predlabels)\n",
    "\n",
    "    attrs = np.concatenate([tabattrs, joinattrs, predattrs])\n",
    "    xlabels = tablabels + joinlabels + predlabels\n",
    "    \n",
    "    if normalize:\n",
    "        #attrs = attrs / np.linalg.norm(attrs, ord=2)\n",
    "        attrs = attrs / np.sum(attrs)\n",
    "        #print(np.sum(attrs))\n",
    "    \n",
    "    return xlabels,attrs"
   ]
  },
  {
   "cell_type": "code",
   "execution_count": 44,
   "id": "597563ea",
   "metadata": {},
   "outputs": [
    {
     "data": {
      "text/plain": [
       "<All keys matched successfully>"
      ]
     },
     "execution_count": 44,
     "metadata": {},
     "output_type": "execute_result"
    }
   ],
   "source": [
    "n_out = 1\n",
    "sfeats = mscn.net.sample_mlp1.in_features\n",
    "pfeats = mscn.net.predicate_mlp1.in_features\n",
    "jfeats = mscn.net.join_mlp1.in_features\n",
    "    \n",
    "net = SetConvNoFlow(sfeats,\n",
    "    pfeats, jfeats,\n",
    "    128,\n",
    "    n_out=1,\n",
    "    dropouts=[0.0, 0.0, 0.0])\n",
    "net.load_state_dict(weights)"
   ]
  },
  {
   "cell_type": "code",
   "execution_count": 45,
   "id": "7971e8ea",
   "metadata": {},
   "outputs": [],
   "source": [
    "qrep = testqs[0]\n",
    "subsetg = qrep[\"subset_graph\"]\n",
    "node_list = list(subsetg.nodes())\n",
    "node_list.sort()\n",
    "\n",
    "sfeats = mscn.net.sample_mlp1.in_features\n",
    "pfeats = mscn.net.predicate_mlp1.in_features\n",
    "jfeats = mscn.net.join_mlp1.in_features\n",
    "\n",
    "\n",
    "model = net\n",
    "model.eval()\n",
    "ig = IntegratedGradients(model)\n",
    "\n",
    "assert xbatch[\"table\"].shape[0] == len(node_list)\n",
    "\n",
    "allsqls = []\n",
    "allxlabels = []\n",
    "alligattrs = []\n",
    "\n",
    "for xi in range(xbatch[\"table\"].shape[0]):\n",
    "    subjg = qrep[\"join_graph\"].subgraph(node_list[xi])\n",
    "    subsql = nx_graph_to_query(subjg)\n",
    "    #print(subsql)\n",
    "    \n",
    "    ig_attr_test = ig.attribute(tuple([xbatch[\"table\"][xi:xi+1], xbatch[\"pred\"][xi:xi+1],\n",
    "                            xbatch[\"join\"][xi:xi+1], \n",
    "                            xbatch[\"tmask\"][xi:xi+1], xbatch[\"pmask\"][xi:xi+1], \n",
    "                                   xbatch[\"jmask\"][xi:xi+1]]), n_steps=50)\n",
    "\n",
    "    #print(\"ig done\")\n",
    "    xlabels, igattrs = get_mscn_attrs_single(xbatch, xi, \n",
    "                                ig_attr_test, featurizer, \n",
    "                                             normalize=True)\n",
    "    #print(\"Xlabels: \", xlabels)\n",
    "    #print(igattrs)\n",
    "    #break\n",
    "    allsqls.append(subsql)\n",
    "    allxlabels.append(xlabels)\n",
    "    alligattrs.append(igattrs)"
   ]
  },
  {
   "cell_type": "code",
   "execution_count": 60,
   "id": "d9d3ed8b",
   "metadata": {},
   "outputs": [
    {
     "name": "stdout",
     "output_type": "stream",
     "text": [
      "saving default\n"
     ]
    }
   ],
   "source": [
    "## saving attribute importance file; can be visualized further in the captum jupyter notebook\n",
    "import pickle\n",
    "if onehot_dropout:\n",
    "    with open(\"subplan-dropout-attrs.pkl\", \"wb\") as f:\n",
    "        pickle.dump([allsqls, allxlabels, alligattrs], f, protocol=3)\n",
    "else:\n",
    "    print(\"saving default\")\n",
    "    with open(\"subplan-default-attrs.pkl\", \"wb\") as f:\n",
    "        pickle.dump([allsqls, allxlabels, alligattrs], f, protocol=3)"
   ]
  },
  {
   "cell_type": "code",
   "execution_count": null,
   "id": "b8a8a538",
   "metadata": {},
   "outputs": [],
   "source": []
  }
 ],
 "metadata": {
  "kernelspec": {
   "display_name": "Python 3 (ipykernel)",
   "language": "python",
   "name": "python3"
  },
  "language_info": {
   "codemirror_mode": {
    "name": "ipython",
    "version": 3
   },
   "file_extension": ".py",
   "mimetype": "text/x-python",
   "name": "python",
   "nbconvert_exporter": "python",
   "pygments_lexer": "ipython3",
   "version": "3.10.4"
  }
 },
 "nbformat": 4,
 "nbformat_minor": 5
}
