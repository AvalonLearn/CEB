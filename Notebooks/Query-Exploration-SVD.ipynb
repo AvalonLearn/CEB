{
 "cells": [
  {
   "cell_type": "code",
   "execution_count": 1,
   "id": "engaged-government",
   "metadata": {},
   "outputs": [],
   "source": [
    "%load_ext autoreload\n",
    "%autoreload 2\n",
    "\n",
    "import numpy as np\n",
    "import pandas as pd\n",
    "import sys\n",
    "sys.path.append(\"..\")\n",
    "\n",
    "from cardinality_estimation.featurizer import Featurizer\n",
    "from query_representation.query import load_qrep\n",
    "from cardinality_estimation.dataset import *\n",
    "from torch.utils import data\n",
    "\n",
    "import glob\n",
    "import random\n",
    "import os\n",
    "import json\n",
    "import time\n",
    "import matplotlib.pyplot as plt"
   ]
  },
  {
   "cell_type": "markdown",
   "id": "selected-separate",
   "metadata": {},
   "source": [
    "# Setup file paths / Download query data"
   ]
  },
  {
   "cell_type": "code",
   "execution_count": 2,
   "id": "perfect-surgery",
   "metadata": {},
   "outputs": [],
   "source": [
    "import errno\n",
    "def make_dir(directory):\n",
    "    try:\n",
    "        os.makedirs(directory)\n",
    "    except OSError as e:\n",
    "        if e.errno != errno.EEXIST:\n",
    "            raise"
   ]
  },
  {
   "cell_type": "code",
   "execution_count": 63,
   "id": "hidden-somalia",
   "metadata": {},
   "outputs": [],
   "source": [
    "TRAINDIR = os.path.join(os.path.join(\"..\", \"queries\"), \"imdb\")\n",
    "TESTDIR = os.path.join(os.path.join(\"..\", \"queries\"), \"imdb-unique-plans\")\n",
    "RESULTDIR = os.path.join(\"..\", \"results\")\n",
    "make_dir(RESULTDIR)"
   ]
  },
  {
   "cell_type": "markdown",
   "id": "opposite-collaboration",
   "metadata": {},
   "source": [
    "# Query loading helper functions"
   ]
  },
  {
   "cell_type": "code",
   "execution_count": 64,
   "id": "hollywood-flood",
   "metadata": {},
   "outputs": [],
   "source": [
    "def load_qdata(fns):\n",
    "    qreps = []\n",
    "    for qfn in fns:\n",
    "        qrep = load_qrep(qfn)\n",
    "        # TODO: can do checks like no queries with zero cardinalities etc.\n",
    "        qreps.append(qrep)\n",
    "        template_name = os.path.basename(os.path.dirname(qfn))\n",
    "        qrep[\"name\"] = os.path.basename(qfn)\n",
    "        qrep[\"template_name\"] = template_name\n",
    "    return qreps\n",
    "\n",
    "def get_query_fns(basedir, template_fraction=1.0, sel_templates=None):\n",
    "    fns = []\n",
    "    tmpnames = list(glob.glob(os.path.join(basedir, \"*\")))\n",
    "    assert template_fraction <= 1.0\n",
    "    \n",
    "    for qi,qdir in enumerate(tmpnames):\n",
    "        if os.path.isfile(qdir):\n",
    "            continue\n",
    "        template_name = os.path.basename(qdir)\n",
    "        if sel_templates is not None and template_name not in sel_templates:\n",
    "            continue\n",
    "        \n",
    "        # let's first select all the qfns we are going to load\n",
    "        qfns = list(glob.glob(os.path.join(qdir, \"*.pkl\")))\n",
    "        qfns.sort()\n",
    "        num_samples = max(int(len(qfns)*template_fraction), 1)\n",
    "        random.seed(1234)\n",
    "        qfns = random.sample(qfns, num_samples)\n",
    "        fns += qfns\n",
    "    return fns"
   ]
  },
  {
   "cell_type": "markdown",
   "id": "arranged-waterproof",
   "metadata": {},
   "source": [
    "# Evaluation helper functions"
   ]
  },
  {
   "cell_type": "markdown",
   "id": "lucky-omaha",
   "metadata": {},
   "source": [
    "# Load queries"
   ]
  },
  {
   "cell_type": "code",
   "execution_count": 65,
   "id": "sacred-arena",
   "metadata": {},
   "outputs": [],
   "source": [
    "# set template_fraction <= 1.0 to test quickly w/ smaller datasets\n",
    "# train_qfns = get_query_fns(TRAINDIR, template_fraction = 0.001)\n",
    "# val_qfns = get_query_fns(VALDIR, template_fraction = 1.0)\n",
    "# test_qfns = get_query_fns(TESTDIR, template_fraction = 1.0)\n",
    "\n",
    "#qfns = get_query_fns(TRAINDIR, template_fraction = 1.0, sel_templates=None)\n",
    "\n",
    "qfns = get_query_fns(TRAINDIR, template_fraction = 1.0, sel_templates=\"1a\")\n",
    "qdata = load_qdata(qfns)"
   ]
  },
  {
   "cell_type": "code",
   "execution_count": 69,
   "id": "b8a8a538",
   "metadata": {},
   "outputs": [],
   "source": [
    "from collections import defaultdict\n",
    "import numpy\n",
    "\n",
    "subplan_data = defaultdict(list)\n",
    "\n",
    "rowkeys = set()\n",
    "for qi, qrep in enumerate(qdata):\n",
    "    for node in qrep[\"subset_graph\"].nodes():\n",
    "        rowkeys.add(node)\n",
    "rowkeys = list(rowkeys)\n",
    "rowkeys.sort()\n",
    "rowidxs = {rk:ri for ri,rk in enumerate(rowkeys)}\n",
    "#print(rowidxs)\n",
    "mat = np.zeros((len(rowidxs), len(qdata)))\n",
    "\n",
    "for qi, qrep in enumerate(qdata):\n",
    "    for node in qrep[\"subset_graph\"].nodes():\n",
    "        truec = qrep[\"subset_graph\"].nodes()[node][\"cardinality\"][\"actual\"]\n",
    "        mat[rowidxs[node], qi] = truec\n",
    "        \n",
    "mat = mat.T"
   ]
  },
  {
   "cell_type": "code",
   "execution_count": 70,
   "id": "eb2c4d00",
   "metadata": {},
   "outputs": [
    {
     "data": {
      "text/plain": [
       "(3000, 107)"
      ]
     },
     "execution_count": 70,
     "metadata": {},
     "output_type": "execute_result"
    }
   ],
   "source": [
    "mat.shape"
   ]
  },
  {
   "cell_type": "code",
   "execution_count": 71,
   "id": "4d1bd165",
   "metadata": {},
   "outputs": [
    {
     "name": "stdout",
     "output_type": "stream",
     "text": [
      "(107,)\n"
     ]
    }
   ],
   "source": [
    "P, S, Q = np.linalg.svd(mat, full_matrices=False)\n",
    "print(S.shape)"
   ]
  },
  {
   "cell_type": "code",
   "execution_count": 72,
   "id": "09bf9163",
   "metadata": {},
   "outputs": [
    {
     "data": {
      "text/plain": [
       "array([2.65174343e+09, 8.83634782e+08, 5.53066760e+08, 4.83999874e+08,\n",
       "       4.39969921e+08, 3.75377451e+08, 3.60130403e+08, 1.62733858e+08,\n",
       "       1.51016121e+08, 1.46137262e+08, 1.17527934e+08, 1.06720927e+08,\n",
       "       1.02351064e+08, 9.33266596e+07, 8.05052233e+07, 7.09017101e+07,\n",
       "       6.60912391e+07, 5.98012537e+07, 5.26473223e+07, 4.39207286e+07,\n",
       "       3.38708239e+07, 2.91934710e+07, 2.82427143e+07, 2.69020724e+07,\n",
       "       2.38167673e+07, 2.22973001e+07, 2.12865880e+07, 2.04507681e+07,\n",
       "       1.87017794e+07, 1.75690582e+07, 1.62084493e+07, 1.61203257e+07,\n",
       "       1.37156107e+07, 1.24735301e+07, 1.09821580e+07, 9.46514289e+06,\n",
       "       8.32117465e+06, 7.63875979e+06, 7.50236841e+06, 6.99401790e+06,\n",
       "       6.84023515e+06, 6.32274279e+06, 6.26319038e+06, 5.77718529e+06,\n",
       "       4.21104092e+06, 4.01064510e+06, 3.69278975e+06, 3.47716622e+06,\n",
       "       3.29553722e+06, 2.56320693e+06, 2.34489650e+06, 2.13196374e+06,\n",
       "       2.02041098e+06, 1.90157759e+06, 1.63836278e+06, 1.56515948e+06,\n",
       "       1.52986330e+06, 1.46112976e+06, 1.40137134e+06, 1.34823706e+06,\n",
       "       1.23290069e+06, 1.19570516e+06, 1.16146808e+06, 1.10691052e+06,\n",
       "       9.75504450e+05, 8.50953860e+05, 7.30797220e+05, 6.89252540e+05,\n",
       "       6.70668440e+05, 6.31033590e+05, 5.52247680e+05, 5.20595570e+05,\n",
       "       4.44987430e+05, 4.38968510e+05, 4.18721550e+05, 3.86636450e+05,\n",
       "       3.62073720e+05, 3.26440130e+05, 3.14883730e+05, 2.74618880e+05,\n",
       "       2.47872820e+05, 2.10654160e+05, 1.84940170e+05, 1.62327560e+05,\n",
       "       1.48437610e+05, 1.38027070e+05, 1.28597520e+05, 1.15861330e+05,\n",
       "       1.06547890e+05, 9.72539900e+04, 7.37314700e+04, 6.87629700e+04,\n",
       "       6.30873100e+04, 5.27575600e+04, 4.36429700e+04, 3.81432400e+04,\n",
       "       3.19539100e+04, 3.02986200e+04, 1.76229000e+04, 1.64804400e+04,\n",
       "       1.29962300e+04, 1.05510300e+04, 5.11852000e+03, 4.24100000e+01,\n",
       "       3.19200000e+01, 0.00000000e+00, 0.00000000e+00])"
      ]
     },
     "execution_count": 72,
     "metadata": {},
     "output_type": "execute_result"
    }
   ],
   "source": [
    "S.round(2)"
   ]
  },
  {
   "cell_type": "code",
   "execution_count": 73,
   "id": "d76cd171",
   "metadata": {},
   "outputs": [
    {
     "data": {
      "text/plain": [
       "111043729.6305563"
      ]
     },
     "execution_count": 73,
     "metadata": {},
     "output_type": "execute_result"
    }
   ],
   "source": [
    "np.percentile(S, 90)"
   ]
  },
  {
   "cell_type": "code",
   "execution_count": 75,
   "id": "8e8f2b1c",
   "metadata": {},
   "outputs": [],
   "source": [
    "# rank = np.sum(S > 1e10)\n",
    "# rank"
   ]
  },
  {
   "cell_type": "code",
   "execution_count": 76,
   "id": "30052715",
   "metadata": {},
   "outputs": [
    {
     "data": {
      "image/png": "[encoded data removed]",
      "text/plain": [
       "<Figure size 640x480 with 1 Axes>"
      ]
     },
     "metadata": {},
     "output_type": "display_data"
    }
   ],
   "source": [
    "import seaborn as sns\n",
    "import matplotlib.pyplot as plt\n",
    "\n",
    "#sns.lineplot(np.log(S))\n",
    "sns.lineplot(S)\n",
    "plt.yscale(\"log\")"
   ]
  },
  {
   "cell_type": "code",
   "execution_count": 77,
   "id": "03a94323",
   "metadata": {},
   "outputs": [
    {
     "data": {
      "text/plain": [
       "14"
      ]
     },
     "execution_count": 77,
     "metadata": {},
     "output_type": "execute_result"
    }
   ],
   "source": [
    "cds = np.cumsum(S) / np.sum(S)\n",
    "r90 = np.min(np.where(cds > 0.90))\n",
    "r90"
   ]
  },
  {
   "cell_type": "code",
   "execution_count": 78,
   "id": "968b8d11",
   "metadata": {},
   "outputs": [],
   "source": [
    "def omega_approx(beta):\n",
    "    \"\"\"Return an approximate omega value for given beta. Equation (5) from Gavish 2014.\"\"\"\n",
    "    return 0.56 * beta**3 - 0.95 * beta**2 + 1.82 * beta + 1.43\n",
    "\n",
    "def svht(X, sigma=None, sv=None):\n",
    "    \"\"\"Return the optimal singular value hard threshold (SVHT) value.\n",
    "    `X` is any m-by-n matrix. `sigma` is the standard deviation of the \n",
    "    noise, if known. Optionally supply the vector of singular values `sv`\n",
    "    for the matrix (only necessary when `sigma` is unknown). If `sigma`\n",
    "    is unknown and `sv` is not supplied, then the method automatically\n",
    "    computes the singular values.\"\"\"\n",
    "\n",
    "    try:\n",
    "        m,n = sorted(X.shape) # ensures m <= n\n",
    "    except:\n",
    "        raise ValueError('invalid input matrix')\n",
    "    beta = m / n # ratio between 0 and 1\n",
    "    if sigma is None: # sigma unknown\n",
    "        if sv is None:\n",
    "            sv = svdvals(X)\n",
    "        sv = np.squeeze(sv)\n",
    "        if sv.ndim != 1:\n",
    "            raise ValueError('vector of singular values must be 1-dimensional')\n",
    "        return np.median(sv) * omega_approx(beta)\n",
    "    else: # sigma known\n",
    "        return lambda_star(beta) * np.sqrt(n) * sigma\n",
    "\n",
    "# find tau star hat when sigma is unknown\n",
    "# tau = svht(D, sv=sv)\n",
    "\n",
    "# # find tau star when sigma is known\n",
    "# tau = svht(D, sigma=0.5)"
   ]
  },
  {
   "cell_type": "code",
   "execution_count": 79,
   "id": "a079818f",
   "metadata": {},
   "outputs": [],
   "source": [
    "tau = svht(mat, sv=S)"
   ]
  },
  {
   "cell_type": "code",
   "execution_count": 80,
   "id": "34791e50",
   "metadata": {},
   "outputs": [
    {
     "data": {
      "text/plain": [
       "2840443.9417044045"
      ]
     },
     "execution_count": 80,
     "metadata": {},
     "output_type": "execute_result"
    }
   ],
   "source": [
    "tau"
   ]
  },
  {
   "cell_type": "code",
   "execution_count": 81,
   "id": "2a0b54de",
   "metadata": {},
   "outputs": [
    {
     "data": {
      "text/plain": [
       "49"
      ]
     },
     "execution_count": 81,
     "metadata": {},
     "output_type": "execute_result"
    }
   ],
   "source": [
    "rank = np.sum(S > tau)\n",
    "rank"
   ]
  },
  {
   "cell_type": "code",
   "execution_count": null,
   "id": "b1d0eb3a",
   "metadata": {},
   "outputs": [],
   "source": []
  }
 ],
 "metadata": {
  "kernelspec": {
   "display_name": "Python 3 (ipykernel)",
   "language": "python",
   "name": "python3"
  },
  "language_info": {
   "codemirror_mode": {
    "name": "ipython",
    "version": 3
   },
   "file_extension": ".py",
   "mimetype": "text/x-python",
   "name": "python",
   "nbconvert_exporter": "python",
   "pygments_lexer": "ipython3",
   "version": "3.10.5"
  }
 },
 "nbformat": 4,
 "nbformat_minor": 5
}
