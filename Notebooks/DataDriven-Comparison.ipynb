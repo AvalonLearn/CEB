{
 "cells": [
  {
   "cell_type": "code",
   "execution_count": 1,
   "id": "anonymous-duplicate",
   "metadata": {},
   "outputs": [],
   "source": [
    "import matplotlib.pyplot as plt\n",
    "import seaborn as sns\n",
    "import numpy as np\n",
    "import pandas as pd\n",
    "from collections import defaultdict"
   ]
  },
  {
   "cell_type": "code",
   "execution_count": 2,
   "id": "sound-mapping",
   "metadata": {},
   "outputs": [],
   "source": [
    "# PG: 9.987h; True: 5.309h; FLAT: 5.418h; DeepDB: 5.974h; MSCN: 7.417h; MSCN_ours: 5.480h\n",
    "# Model size: FLAT 310mb; DeepDB 162mb\n",
    "# Training time: FLAT 262 min; DeepDB 108 min\n",
    "# Inference speed: FLAT 175ms per sub-plan query; DeepDB 87ms (multiply by 2603 to get the total planning time)"
   ]
  },
  {
   "cell_type": "code",
   "execution_count": 3,
   "id": "exposed-shuttle",
   "metadata": {},
   "outputs": [],
   "source": [
    "COLORS = {}\n",
    "COLORS[\"MSCN\"] = \"#4260f5\"\n",
    "COLORS[\"Robust-MSCN\"] = \"Green\"\n",
    "COLORS[\"PostgreSQL\"] = \"Red\"\n",
    "COLORS[\"True\"] = \"Cyan\"\n",
    "COLORS[\"FLAT\"] = \"Black\"\n",
    "COLORS[\"DeepDB\"] = \"Gray\""
   ]
  },
  {
   "cell_type": "code",
   "execution_count": 4,
   "id": "incoming-maryland",
   "metadata": {},
   "outputs": [],
   "source": [
    "data = defaultdict(list)\n",
    "\n",
    "ESTS = [\"PostgreSQL\", \"True\", \"FLAT\", \"DeepDB\", \"MSCN\", \"Robust-MSCN\"]\n",
    "SIZES = [0.1, -1, 310, 162, 0.7, 0.7]\n",
    "TRAINING = [-1, -1, 262, 108, 5, 5]\n",
    "INFERENCE = [-1, -1, 175*2603, 87*2603, 5*2603, 5*2603]\n",
    "LATS = [9.987, 5.308, 5.418, 5.974, 7.417, 5.48]\n",
    "\n",
    "for i in range(len(ESTS)):\n",
    "    data[\"Estimator\"].append(ESTS[i])\n",
    "    data[\"Model Size\"].append(SIZES[i])\n",
    "    data[\"Training Time\"].append(TRAINING[i])\n",
    "    data[\"Inference Time\"].append(INFERENCE[i] / 1000.0)\n",
    "    data[\"Total Latency\"].append(LATS[i])\n",
    "\n",
    "df = pd.DataFrame(data)"
   ]
  },
  {
   "cell_type": "code",
   "execution_count": 5,
   "id": "metallic-healing",
   "metadata": {},
   "outputs": [
    {
     "data": {
      "text/html": [
       "<div>\n",
       "<style scoped>\n",
       "    .dataframe tbody tr th:only-of-type {\n",
       "        vertical-align: middle;\n",
       "    }\n",
       "\n",
       "    .dataframe tbody tr th {\n",
       "        vertical-align: top;\n",
       "    }\n",
       "\n",
       "    .dataframe thead th {\n",
       "        text-align: right;\n",
       "    }\n",
       "</style>\n",
       "<table border=\"1\" class=\"dataframe\">\n",
       "  <thead>\n",
       "    <tr style=\"text-align: right;\">\n",
       "      <th></th>\n",
       "      <th>Estimator</th>\n",
       "      <th>Model Size</th>\n",
       "      <th>Training Time</th>\n",
       "      <th>Inference Time</th>\n",
       "      <th>Total Latency</th>\n",
       "    </tr>\n",
       "  </thead>\n",
       "  <tbody>\n",
       "    <tr>\n",
       "      <th>0</th>\n",
       "      <td>PostgreSQL</td>\n",
       "      <td>0.1</td>\n",
       "      <td>-1</td>\n",
       "      <td>-0.001</td>\n",
       "      <td>9.987</td>\n",
       "    </tr>\n",
       "    <tr>\n",
       "      <th>1</th>\n",
       "      <td>True</td>\n",
       "      <td>-1.0</td>\n",
       "      <td>-1</td>\n",
       "      <td>-0.001</td>\n",
       "      <td>5.308</td>\n",
       "    </tr>\n",
       "    <tr>\n",
       "      <th>2</th>\n",
       "      <td>FLAT</td>\n",
       "      <td>310.0</td>\n",
       "      <td>262</td>\n",
       "      <td>455.525</td>\n",
       "      <td>5.418</td>\n",
       "    </tr>\n",
       "    <tr>\n",
       "      <th>3</th>\n",
       "      <td>DeepDB</td>\n",
       "      <td>162.0</td>\n",
       "      <td>108</td>\n",
       "      <td>226.461</td>\n",
       "      <td>5.974</td>\n",
       "    </tr>\n",
       "    <tr>\n",
       "      <th>4</th>\n",
       "      <td>MSCN</td>\n",
       "      <td>0.7</td>\n",
       "      <td>5</td>\n",
       "      <td>13.015</td>\n",
       "      <td>7.417</td>\n",
       "    </tr>\n",
       "  </tbody>\n",
       "</table>\n",
       "</div>"
      ],
      "text/plain": [
       "    Estimator  Model Size  Training Time  Inference Time  Total Latency\n",
       "0  PostgreSQL         0.1             -1          -0.001          9.987\n",
       "1        True        -1.0             -1          -0.001          5.308\n",
       "2        FLAT       310.0            262         455.525          5.418\n",
       "3      DeepDB       162.0            108         226.461          5.974\n",
       "4        MSCN         0.7              5          13.015          7.417"
      ]
     },
     "execution_count": 5,
     "metadata": {},
     "output_type": "execute_result"
    }
   ],
   "source": [
    "df.head(5)"
   ]
  },
  {
   "cell_type": "code",
   "execution_count": 12,
   "id": "crazy-product",
   "metadata": {},
   "outputs": [
    {
     "data": {
      "image/png": "[encoded data removed]",
      "text/plain": [
       "<Figure size 2016x432 with 4 Axes>"
      ]
     },
     "metadata": {
      "needs_background": "light"
     },
     "output_type": "display_data"
    }
   ],
   "source": [
    "fig,axs = plt.subplots(nrows=1, ncols=4, figsize=(28,6))\n",
    "\n",
    "ax = axs[0]\n",
    "sns.barplot(data=df, x=\"Estimator\", y=\"Total Latency\", hue=\"Estimator\",\n",
    "            dodge=False,\n",
    "            palette=COLORS, ax=ax)\n",
    "ax.set_ylabel(\"Hours\", fontsize=16)\n",
    "#ax.set_xlabel(\"Estimators\", fontsize=16)\n",
    "ax.set_xlabel(\"\", fontsize=0)\n",
    "ax.set_xticks([])\n",
    "ax.set_title(\"Query Latency\", fontsize=16)\n",
    "\n",
    "ax.legend().remove()\n",
    "legend = ax.legend(loc='upper left', bbox_to_anchor=(0.6,1.20), ncol=6, frameon=False, \n",
    "                  fontsize=20)\n",
    "\n",
    "ax = axs[1]\n",
    "\n",
    "tmp = df[df[\"Model Size\"] != -1]\n",
    "sns.barplot(data=tmp, x=\"Estimator\", y=\"Model Size\", hue=\"Estimator\",\n",
    "            dodge=False,\n",
    "            palette=COLORS, ax=ax)\n",
    "\n",
    "ax.set_ylabel(\"MBs\", fontsize=16)\n",
    "#ax.set_xlabel(\"Estimators\", fontsize=16)\n",
    "ax.set_xlabel(\"\", fontsize=0)\n",
    "ax.set_xticks([])\n",
    "ax.set_title(\"Model Size\", fontsize=16)\n",
    "ax.set_yscale(\"log\")\n",
    "ax.legend().remove()\n",
    "\n",
    "ax = axs[2]\n",
    "tmp = df[df[\"Training Time\"] != -1]\n",
    "sns.barplot(data=tmp, x=\"Estimator\", y=\"Training Time\", hue=\"Estimator\",\n",
    "            dodge=False,\n",
    "            palette=COLORS, ax=ax)\n",
    "\n",
    "ax.set_ylabel(\"Minutes\", fontsize=16)\n",
    "#ax.set_xlabel(\"Estimators\", fontsize=16)\n",
    "ax.set_xlabel(\"\", fontsize=0)\n",
    "ax.set_xticks([])\n",
    "ax.set_title(\"Training Time\", fontsize=16)\n",
    "ax.set_yscale(\"log\")\n",
    "ax.legend().remove()\n",
    "\n",
    "ax = axs[3]\n",
    "tmp = df[df[\"Inference Time\"] >= 0]\n",
    "sns.barplot(data=tmp, x=\"Estimator\", y=\"Inference Time\", hue=\"Estimator\",\n",
    "            dodge=False,\n",
    "            palette=COLORS, ax=ax)\n",
    "\n",
    "ax.set_ylabel(\"Seconds\", fontsize=16)\n",
    "ax.set_xlabel(\"\", fontsize=0)\n",
    "ax.set_xticks([])\n",
    "ax.set_title(\"Inference Time\", fontsize=16)\n",
    "ax.set_yscale(\"log\")\n",
    "ax.legend().remove()\n",
    "\n",
    "plt.savefig(\"Data-driven-comparison.pdf\", bbox_inches=\"tight\")"
   ]
  },
  {
   "cell_type": "code",
   "execution_count": null,
   "id": "adapted-brooklyn",
   "metadata": {},
   "outputs": [],
   "source": []
  }
 ],
 "metadata": {
  "kernelspec": {
   "display_name": "Python 3",
   "language": "python",
   "name": "python3"
  },
  "language_info": {
   "codemirror_mode": {
    "name": "ipython",
    "version": 3
   },
   "file_extension": ".py",
   "mimetype": "text/x-python",
   "name": "python",
   "nbconvert_exporter": "python",
   "pygments_lexer": "ipython3",
   "version": "3.9.9"
  }
 },
 "nbformat": 4,
 "nbformat_minor": 5
}
