{
 "cells": [
  {
   "cell_type": "code",
   "execution_count": 15,
   "id": "orange-devon",
   "metadata": {},
   "outputs": [
    {
     "name": "stdout",
     "output_type": "stream",
     "text": [
      "The autoreload extension is already loaded. To reload it, use:\n",
      "  %reload_ext autoreload\n"
     ]
    }
   ],
   "source": [
    "%load_ext autoreload\n",
    "%autoreload 2\n",
    "\n",
    "import numpy as np\n",
    "import pandas as pd\n",
    "\n",
    "from cardinality_estimation.featurizer import Featurizer\n",
    "from query_representation.query import load_qrep\n",
    "\n",
    "import glob\n",
    "import random\n",
    "import os\n",
    "import json\n",
    "import time\n",
    "from collections import defaultdict"
   ]
  },
  {
   "cell_type": "code",
   "execution_count": 2,
   "id": "difficult-expense",
   "metadata": {},
   "outputs": [],
   "source": [
    "TRAINDIR = os.path.join(os.path.join(\"\", \"queries\"), \"mlsys1-train\")"
   ]
  },
  {
   "cell_type": "code",
   "execution_count": 3,
   "id": "rough-thread",
   "metadata": {},
   "outputs": [],
   "source": [
    "\n",
    "def load_qdata(fns):\n",
    "    qreps = []\n",
    "    for qfn in fns:\n",
    "        qrep = load_qrep(qfn)\n",
    "        # TODO: can do checks like no queries with zero cardinalities etc.\n",
    "        qreps.append(qrep)\n",
    "        template_name = os.path.basename(os.path.dirname(qfn))\n",
    "        qrep[\"name\"] = os.path.basename(qfn)\n",
    "        qrep[\"template_name\"] = template_name\n",
    "    return qreps\n",
    "\n",
    "def get_query_fns(basedir, template_fraction=1.0):\n",
    "    fns = []\n",
    "    tmpnames = list(glob.glob(os.path.join(basedir, \"*\")))\n",
    "    assert template_fraction <= 1.0\n",
    "    \n",
    "    for qi,qdir in enumerate(tmpnames):\n",
    "        if os.path.isfile(qdir):\n",
    "            continue\n",
    "        template_name = os.path.basename(qdir)\n",
    "        # let's first select all the qfns we are going to load\n",
    "        qfns = list(glob.glob(os.path.join(qdir, \"*.pkl\")))\n",
    "        qfns.sort()\n",
    "        num_samples = max(int(len(qfns)*template_fraction), 1)\n",
    "        random.seed(1234)\n",
    "        qfns = random.sample(qfns, num_samples)\n",
    "        fns += qfns\n",
    "    return fns"
   ]
  },
  {
   "cell_type": "code",
   "execution_count": 5,
   "id": "sporting-alarm",
   "metadata": {},
   "outputs": [],
   "source": [
    "train_qfns = get_query_fns(TRAINDIR, template_fraction = 0.1)\n",
    "trainqs = load_qdata(train_qfns)"
   ]
  },
  {
   "cell_type": "code",
   "execution_count": 27,
   "id": "psychological-brush",
   "metadata": {},
   "outputs": [],
   "source": [
    "allconstants = defaultdict(set)\n",
    "constantmaxs = defaultdict(int)"
   ]
  },
  {
   "cell_type": "code",
   "execution_count": 32,
   "id": "abandoned-period",
   "metadata": {},
   "outputs": [],
   "source": [
    "for query in trainqs:\n",
    "    for node in query[\"join_graph\"].nodes():\n",
    "        for ci, col in enumerate(query[\"join_graph\"].nodes()[node][\"pred_cols\"]):\n",
    "            consts = query[\"join_graph\"].nodes()[node][\"pred_vals\"][ci]\n",
    "            for const in consts:\n",
    "                allconstants[col].add(const)\n",
    "            if constantmaxs[col] < len(consts):\n",
    "                constantmaxs[col] = len(consts)\n",
    "#             if len(consts) > 20:\n",
    "#                 print(consts)\n",
    "#                 print(query[\"sql\"])\n",
    "#                 print(query[\"name\"])"
   ]
  },
  {
   "cell_type": "code",
   "execution_count": 33,
   "id": "thick-classics",
   "metadata": {},
   "outputs": [
    {
     "name": "stdout",
     "output_type": "stream",
     "text": [
      "t.title 146 50\n",
      "cn.name 20 7\n",
      "kt.kind 11 7\n",
      "n.name_pcode_cf 12 7\n",
      "rt.role 12 11\n",
      "n.name_pcode_nf 107 15\n",
      "t.production_year 12 2\n",
      "mi1.info 222 17\n",
      "it1.id 17 3\n",
      "n.name 6 1\n",
      "it2.id 21 1\n",
      "ci.note 5 2\n",
      "mii1.info 8 2\n",
      "mii2.info 9 2\n",
      "it3.id 1 1\n",
      "it4.id 1 1\n",
      "n.gender 3 2\n",
      "it5.id 6 1\n",
      "it.id 3 1\n",
      "mi2.info 213 15\n",
      "ct.kind 2 2\n",
      "n.surname_pcode 38 13\n",
      "pi.info 16 1\n",
      "k.keyword 55 19\n",
      "cn.country_code 26 11\n"
     ]
    }
   ],
   "source": [
    "for k,v in allconstants.items():\n",
    "    print(k, len(v), constantmaxs[k])"
   ]
  },
  {
   "cell_type": "code",
   "execution_count": null,
   "id": "employed-earth",
   "metadata": {},
   "outputs": [],
   "source": []
  }
 ],
 "metadata": {
  "kernelspec": {
   "display_name": "Python 3",
   "language": "python",
   "name": "python3"
  },
  "language_info": {
   "codemirror_mode": {
    "name": "ipython",
    "version": 3
   },
   "file_extension": ".py",
   "mimetype": "text/x-python",
   "name": "python",
   "nbconvert_exporter": "python",
   "pygments_lexer": "ipython3",
   "version": "3.9.1"
  }
 },
 "nbformat": 4,
 "nbformat_minor": 5
}
