{
 "cells": [
  {
   "cell_type": "code",
   "execution_count": 11,
   "id": "russian-syntax",
   "metadata": {},
   "outputs": [],
   "source": [
    "import os\n",
    "import pandas as pd\n",
    "from collections import defaultdict\n",
    "\n",
    "from IPython.display import HTML\n",
    "from IPython.display import display_html"
   ]
  },
  {
   "cell_type": "code",
   "execution_count": 138,
   "id": "friendly-facial",
   "metadata": {},
   "outputs": [],
   "source": [
    "TPCDS_FN = \"tpcds_queries_df.csv\"\n",
    "JOB_FN = \"job_queries_df.csv\"\n",
    "CEB_FN = \"ceb_queries_df.csv\"\n",
    "SCOPE_FN = \"scope_queries.csv\""
   ]
  },
  {
   "cell_type": "code",
   "execution_count": 141,
   "id": "forty-puzzle",
   "metadata": {},
   "outputs": [],
   "source": [
    "scopedf = pd.read_csv(SCOPE_FN)\n",
    "scopedf[\"dataset\"] = \"SCOPE\""
   ]
  },
  {
   "cell_type": "code",
   "execution_count": 147,
   "id": "reliable-outline",
   "metadata": {},
   "outputs": [
    {
     "name": "stdout",
     "output_type": "stream",
     "text": [
      "Index(['jobid', 'join', 'inputColumns', 'inputSelected', 'HashTag',\n",
      "       'HashTagNonStrict', 'HashTagInput', 'HashTagRoot', 'OperatorName',\n",
      "       'EstCardinality', 'InputCardinality', 'PartitioningColumn',\n",
      "       'SortColumn', 'NormInput', 'NormInputHashCode', 'FilterExprNorm',\n",
      "       'InclusiveTime', 'ExclusiveTime', 'VertexCount', 'RowCount',\n",
      "       'Selectivity', 'QError', 'num_ops', 'num_unique_ops',\n",
      "       'unique_filter_cols', 'num_cols_all', 'num_cols_sel', 'num_pcols',\n",
      "       'like_ops', 'like_lens', 'like_dtype', 'like_kind', 'like_casting',\n",
      "       'like_const', 'discrete_ops', 'discrete_eqs', 'discrete_noneqs',\n",
      "       'discrete_type', 'discrete_types_all', 'null_checks', 'cont_ops',\n",
      "       'cont_dates', 'cont_others', 'cont_type', 'cont_dtype', 'cont_range',\n",
      "       'cont_cols', 'types_all', 'complex_ops', 'complex_ops_num', 'udf_ops',\n",
      "       'in_ops', 'equal_dates', 'num_discrete_consts', 'dataset'],\n",
      "      dtype='object')\n"
     ]
    }
   ],
   "source": [
    "print(scopedf.keys())\n",
    "scopetmp = scopedf[[\"dataset\",\"like_ops\", \"cont_ops\", \"discrete_ops\", \"in_ops\"]]"
   ]
  },
  {
   "cell_type": "code",
   "execution_count": 148,
   "id": "norman-target",
   "metadata": {},
   "outputs": [],
   "source": [
    "tpdf = pd.read_csv(TPCDS_FN)\n",
    "jobdf = pd.read_csv(JOB_FN)\n",
    "cebdf = pd.read_csv(CEB_FN)\n",
    "tpdf[\"dataset\"] = \"TPCDS\"\n",
    "jobdf[\"dataset\"] = \"JOB\"\n",
    "cebdf[\"dataset\"] = \"CEB\""
   ]
  },
  {
   "cell_type": "code",
   "execution_count": 149,
   "id": "unlike-astronomy",
   "metadata": {},
   "outputs": [
    {
     "name": "stdout",
     "output_type": "stream",
     "text": [
      "506\n",
      "706\n",
      "25939\n"
     ]
    }
   ],
   "source": [
    "print(len(tpdf))\n",
    "print(len(jobdf))\n",
    "print(len(cebdf))"
   ]
  },
  {
   "cell_type": "code",
   "execution_count": 150,
   "id": "upper-sister",
   "metadata": {},
   "outputs": [],
   "source": [
    "df = pd.concat([tpdf, jobdf, cebdf])"
   ]
  },
  {
   "cell_type": "code",
   "execution_count": 151,
   "id": "funky-cedar",
   "metadata": {},
   "outputs": [
    {
     "name": "stdout",
     "output_type": "stream",
     "text": [
      "Index(['left', 'table', 'col', 'op', 'val', 'qid', 'dtype', 'dkind',\n",
      "       'likedtype', 'likekind', 'discrete_ops', 'in_ops', 'cont_ops',\n",
      "       'like_ops', 'dataset'],\n",
      "      dtype='object')\n"
     ]
    }
   ],
   "source": [
    "print(df.keys())"
   ]
  },
  {
   "cell_type": "code",
   "execution_count": 152,
   "id": "champion-preparation",
   "metadata": {},
   "outputs": [],
   "source": [
    "# HTML(df[[\"like_ops\", \"discrete_ops\", \"cont_ops\"]].\\\n",
    "#      describe(percentiles=[0.9,0.99]).reset_index().to_html(index=False))"
   ]
  },
  {
   "cell_type": "code",
   "execution_count": 153,
   "id": "dutch-ultimate",
   "metadata": {},
   "outputs": [],
   "source": [
    "def pretty_print(df):\n",
    "    return display( HTML( df.to_html(index=False).replace(\"\\\\n\",\"<br>\") ) )"
   ]
  },
  {
   "cell_type": "code",
   "execution_count": 158,
   "id": "played-darkness",
   "metadata": {},
   "outputs": [
    {
     "data": {
      "text/html": [
       "<table border=\"1\" class=\"dataframe\">\n",
       "  <thead>\n",
       "    <tr>\n",
       "      <th>dataset</th>\n",
       "      <th colspan=\"2\" halign=\"left\">LIKE</th>\n",
       "      <th>Discrete</th>\n",
       "      <th>Continuous</th>\n",
       "    </tr>\n",
       "    <tr>\n",
       "      <th></th>\n",
       "      <th>count</th>\n",
       "      <th>Fraction</th>\n",
       "      <th>Fraction</th>\n",
       "      <th>Fraction</th>\n",
       "    </tr>\n",
       "  </thead>\n",
       "  <tbody>\n",
       "    <tr>\n",
       "      <td>CEB</td>\n",
       "      <td>25598.0</td>\n",
       "      <td>0.069</td>\n",
       "      <td>0.693</td>\n",
       "      <td>0.221</td>\n",
       "    </tr>\n",
       "    <tr>\n",
       "      <td>JOB</td>\n",
       "      <td>706.0</td>\n",
       "      <td>0.249</td>\n",
       "      <td>0.615</td>\n",
       "      <td>0.112</td>\n",
       "    </tr>\n",
       "    <tr>\n",
       "      <td>SCOPE</td>\n",
       "      <td>18885.0</td>\n",
       "      <td>0.034</td>\n",
       "      <td>0.434</td>\n",
       "      <td>0.845</td>\n",
       "    </tr>\n",
       "    <tr>\n",
       "      <td>TPCDS</td>\n",
       "      <td>445.0</td>\n",
       "      <td>0.002</td>\n",
       "      <td>0.692</td>\n",
       "      <td>0.303</td>\n",
       "    </tr>\n",
       "  </tbody>\n",
       "</table>"
      ],
      "text/plain": [
       "<IPython.core.display.HTML object>"
      ]
     },
     "metadata": {},
     "output_type": "display_data"
    }
   ],
   "source": [
    "STATCOLS = [\"like_ops\", \"discrete_ops\", \"cont_ops\"]\n",
    "STATSTODROP = [\"std\", \"min\", \"max\", \"25%\", \"50%\",\"75%\"]\n",
    "curdrops = []\n",
    "\n",
    "for si, stc in enumerate(STATCOLS):\n",
    "    for sdrop in STATSTODROP:\n",
    "        curdrops.append(tuple([stc, sdrop]))\n",
    "    if si != 0:\n",
    "        curdrops.append(tuple([stc,\"count\"]))\n",
    "\n",
    "#cdf = df[[\"\"]]\n",
    "cdf = df[[\"dataset\",\"like_ops\", \"cont_ops\", \"discrete_ops\", \"in_ops\"]]\n",
    "cdf = pd.concat([cdf,scopetmp])\n",
    "\n",
    "pretty_print(cdf.groupby([\"dataset\"])[STATCOLS].describe().\\\n",
    "     reset_index().\\\n",
    "     drop(columns=curdrops).\\\n",
    "     rename(columns={\"like_ops\":\"LIKE\", \"discrete_ops\":\"Discrete\", \"cont_ops\":\"Continuous\",\n",
    "                    \"mean\":\"Fraction\"}).\\\n",
    "     round(3))"
   ]
  },
  {
   "cell_type": "code",
   "execution_count": 105,
   "id": "offensive-warner",
   "metadata": {},
   "outputs": [
    {
     "data": {
      "text/html": [
       "<div>\n",
       "<style scoped>\n",
       "    .dataframe tbody tr th:only-of-type {\n",
       "        vertical-align: middle;\n",
       "    }\n",
       "\n",
       "    .dataframe tbody tr th {\n",
       "        vertical-align: top;\n",
       "    }\n",
       "\n",
       "    .dataframe thead th {\n",
       "        text-align: right;\n",
       "    }\n",
       "</style>\n",
       "<table border=\"1\" class=\"dataframe\">\n",
       "  <thead>\n",
       "    <tr style=\"text-align: right;\">\n",
       "      <th></th>\n",
       "      <th></th>\n",
       "      <th>Percentage</th>\n",
       "    </tr>\n",
       "    <tr>\n",
       "      <th>dataset</th>\n",
       "      <th>dkind</th>\n",
       "      <th></th>\n",
       "    </tr>\n",
       "  </thead>\n",
       "  <tbody>\n",
       "    <tr>\n",
       "      <th rowspan=\"2\" valign=\"top\">CEB</th>\n",
       "      <th>eq</th>\n",
       "      <td>7.343486</td>\n",
       "    </tr>\n",
       "    <tr>\n",
       "      <th>in</th>\n",
       "      <td>92.656514</td>\n",
       "    </tr>\n",
       "    <tr>\n",
       "      <th rowspan=\"3\" valign=\"top\">Job</th>\n",
       "      <th>eq</th>\n",
       "      <td>68.433180</td>\n",
       "    </tr>\n",
       "    <tr>\n",
       "      <th>in</th>\n",
       "      <td>26.036866</td>\n",
       "    </tr>\n",
       "    <tr>\n",
       "      <th>neq</th>\n",
       "      <td>5.529954</td>\n",
       "    </tr>\n",
       "    <tr>\n",
       "      <th rowspan=\"2\" valign=\"top\">TPCDS</th>\n",
       "      <th>eq</th>\n",
       "      <td>77.922078</td>\n",
       "    </tr>\n",
       "    <tr>\n",
       "      <th>in</th>\n",
       "      <td>22.077922</td>\n",
       "    </tr>\n",
       "  </tbody>\n",
       "</table>\n",
       "</div>"
      ],
      "text/plain": [
       "               Percentage\n",
       "dataset dkind            \n",
       "CEB     eq       7.343486\n",
       "        in      92.656514\n",
       "Job     eq      68.433180\n",
       "        in      26.036866\n",
       "        neq      5.529954\n",
       "TPCDS   eq      77.922078\n",
       "        in      22.077922"
      ]
     },
     "execution_count": 105,
     "metadata": {},
     "output_type": "execute_result"
    }
   ],
   "source": [
    "discdf = df[df.discrete_ops == 1]\n",
    "\n",
    "tmp = discdf.groupby([\"dataset\",\"dkind\"]).count()[\"discrete_ops\"]\n",
    "tmp = tmp.groupby(level=0).apply(lambda x: 100 * x / float(x.sum()))\n",
    "\n",
    "# pretty_print(tmp.reset_index()\\\n",
    "#              .rename(columns={\"discrete_ops\":\"Percentage\"})\n",
    "#             )\n",
    "tmp = tmp.reset_index().set_index(['dataset', 'dkind']).rename(\n",
    "    columns={\"discrete_ops\":\"Percentage\"})\n",
    "tmp"
   ]
  },
  {
   "cell_type": "code",
   "execution_count": 106,
   "id": "technological-darwin",
   "metadata": {},
   "outputs": [
    {
     "data": {
      "text/html": [
       "<div>\n",
       "<style scoped>\n",
       "    .dataframe tbody tr th:only-of-type {\n",
       "        vertical-align: middle;\n",
       "    }\n",
       "\n",
       "    .dataframe tbody tr th {\n",
       "        vertical-align: top;\n",
       "    }\n",
       "\n",
       "    .dataframe thead th {\n",
       "        text-align: right;\n",
       "    }\n",
       "</style>\n",
       "<table border=\"1\" class=\"dataframe\">\n",
       "  <thead>\n",
       "    <tr style=\"text-align: right;\">\n",
       "      <th></th>\n",
       "      <th></th>\n",
       "      <th>Percentage</th>\n",
       "    </tr>\n",
       "    <tr>\n",
       "      <th>dataset</th>\n",
       "      <th>dtype</th>\n",
       "      <th></th>\n",
       "    </tr>\n",
       "  </thead>\n",
       "  <tbody>\n",
       "    <tr>\n",
       "      <th rowspan=\"2\" valign=\"top\">CEB</th>\n",
       "      <th>date</th>\n",
       "      <td>0.129724</td>\n",
       "    </tr>\n",
       "    <tr>\n",
       "      <th>string</th>\n",
       "      <td>99.870276</td>\n",
       "    </tr>\n",
       "    <tr>\n",
       "      <th rowspan=\"2\" valign=\"top\">Job</th>\n",
       "      <th>date</th>\n",
       "      <td>5.299539</td>\n",
       "    </tr>\n",
       "    <tr>\n",
       "      <th>string</th>\n",
       "      <td>94.700461</td>\n",
       "    </tr>\n",
       "    <tr>\n",
       "      <th rowspan=\"4\" valign=\"top\">TPCDS</th>\n",
       "      <th>date</th>\n",
       "      <td>26.623377</td>\n",
       "    </tr>\n",
       "    <tr>\n",
       "      <th>num</th>\n",
       "      <td>23.051948</td>\n",
       "    </tr>\n",
       "    <tr>\n",
       "      <th>sql</th>\n",
       "      <td>4.545455</td>\n",
       "    </tr>\n",
       "    <tr>\n",
       "      <th>string</th>\n",
       "      <td>45.779221</td>\n",
       "    </tr>\n",
       "  </tbody>\n",
       "</table>\n",
       "</div>"
      ],
      "text/plain": [
       "                Percentage\n",
       "dataset dtype             \n",
       "CEB     date      0.129724\n",
       "        string   99.870276\n",
       "Job     date      5.299539\n",
       "        string   94.700461\n",
       "TPCDS   date     26.623377\n",
       "        num      23.051948\n",
       "        sql       4.545455\n",
       "        string   45.779221"
      ]
     },
     "execution_count": 106,
     "metadata": {},
     "output_type": "execute_result"
    }
   ],
   "source": [
    "tmp = discdf.groupby([\"dataset\",\"dtype\"]).count()[\"discrete_ops\"]\n",
    "tmp = tmp.groupby(level=0).apply(lambda x: 100 * x / float(x.sum()))\n",
    "\n",
    "# pretty_print(tmp.reset_index()\\\n",
    "#              .rename(columns={\"discrete_ops\":\"Percentage\"})\n",
    "#             )\n",
    "\n",
    "tmp = tmp.reset_index().set_index(['dataset', 'dtype']).rename(\n",
    "    columns={\"discrete_ops\":\"Percentage\"})\n",
    "tmp"
   ]
  },
  {
   "cell_type": "code",
   "execution_count": 103,
   "id": "coastal-conversation",
   "metadata": {},
   "outputs": [],
   "source": [
    "# tmp = discdf.groupby([\"dataset\",\"dtype\"]).count()[\"discrete_ops\"]\n",
    "# tmp = tmp.groupby(level=0).apply(lambda x: 100 * x / float(x.sum()))\n",
    "# tmp.reset_index()"
   ]
  },
  {
   "cell_type": "code",
   "execution_count": 165,
   "id": "reserved-circumstances",
   "metadata": {},
   "outputs": [],
   "source": [
    "#ldf[\"val\"]\n",
    "def get_len(val):\n",
    "    val = val.replace(\"%\", \"\")\n",
    "    val = val.replace(\"'\", \"\")\n",
    "    return len(val)"
   ]
  },
  {
   "cell_type": "code",
   "execution_count": 166,
   "id": "induced-storm",
   "metadata": {},
   "outputs": [
    {
     "name": "stderr",
     "output_type": "stream",
     "text": [
      "<ipython-input-166-d13ad919dba7>:4: SettingWithCopyWarning: \n",
      "A value is trying to be set on a copy of a slice from a DataFrame.\n",
      "Try using .loc[row_indexer,col_indexer] = value instead\n",
      "\n",
      "See the caveats in the documentation: https://pandas.pydata.org/pandas-docs/stable/user_guide/indexing.html#returning-a-view-versus-a-copy\n",
      "  ldf[\"Filter Length\"] = ldf.apply(lambda x: get_len(x[\"val\"]), axis=1)\n"
     ]
    },
    {
     "data": {
      "text/html": [
       "<div>\n",
       "<style scoped>\n",
       "    .dataframe tbody tr th:only-of-type {\n",
       "        vertical-align: middle;\n",
       "    }\n",
       "\n",
       "    .dataframe tbody tr th {\n",
       "        vertical-align: top;\n",
       "    }\n",
       "\n",
       "    .dataframe thead th {\n",
       "        text-align: right;\n",
       "    }\n",
       "</style>\n",
       "<table border=\"1\" class=\"dataframe\">\n",
       "  <thead>\n",
       "    <tr style=\"text-align: right;\">\n",
       "      <th></th>\n",
       "      <th></th>\n",
       "      <th>Percentage</th>\n",
       "    </tr>\n",
       "    <tr>\n",
       "      <th>dataset</th>\n",
       "      <th>likekind</th>\n",
       "      <th></th>\n",
       "    </tr>\n",
       "  </thead>\n",
       "  <tbody>\n",
       "    <tr>\n",
       "      <th>CEB</th>\n",
       "      <th>contains</th>\n",
       "      <td>100.000000</td>\n",
       "    </tr>\n",
       "    <tr>\n",
       "      <th rowspan=\"4\" valign=\"top\">JOB</th>\n",
       "      <th>3%</th>\n",
       "      <td>11.363636</td>\n",
       "    </tr>\n",
       "    <tr>\n",
       "      <th>4%</th>\n",
       "      <td>0.568182</td>\n",
       "    </tr>\n",
       "    <tr>\n",
       "      <th>contains</th>\n",
       "      <td>75.568182</td>\n",
       "    </tr>\n",
       "    <tr>\n",
       "      <th>starts</th>\n",
       "      <td>12.500000</td>\n",
       "    </tr>\n",
       "    <tr>\n",
       "      <th>TPCDS</th>\n",
       "      <th>starts</th>\n",
       "      <td>100.000000</td>\n",
       "    </tr>\n",
       "  </tbody>\n",
       "</table>\n",
       "</div>"
      ],
      "text/plain": [
       "                  Percentage\n",
       "dataset likekind            \n",
       "CEB     contains  100.000000\n",
       "JOB     3%         11.363636\n",
       "        4%          0.568182\n",
       "        contains   75.568182\n",
       "        starts     12.500000\n",
       "TPCDS   starts    100.000000"
      ]
     },
     "execution_count": 166,
     "metadata": {},
     "output_type": "execute_result"
    }
   ],
   "source": [
    "ldf = df[df.like_ops == 1]\n",
    "#ldf.groupby(\"likekind\").count()[\"discrete_ops\"].reset_index().sort_values(by=\"discrete_ops\", ascending=False)\n",
    "\n",
    "ldf[\"Filter Length\"] = ldf.apply(lambda x: get_len(x[\"val\"]), axis=1)\n",
    "tmp = ldf.groupby([\"dataset\",\"likekind\"]).count()[\"discrete_ops\"]\n",
    "tmp = tmp.groupby(level=0).apply(lambda x: 100 * x / float(x.sum()))\n",
    "\n",
    "\n",
    "tmp = tmp.reset_index().set_index(['dataset', 'likekind']).rename(\n",
    "    columns={\"discrete_ops\":\"Percentage\"})\n",
    "tmp"
   ]
  },
  {
   "cell_type": "code",
   "execution_count": 174,
   "id": "bacterial-observation",
   "metadata": {},
   "outputs": [
    {
     "data": {
      "text/html": [
       "<div>\n",
       "<style scoped>\n",
       "    .dataframe tbody tr th:only-of-type {\n",
       "        vertical-align: middle;\n",
       "    }\n",
       "\n",
       "    .dataframe tbody tr th {\n",
       "        vertical-align: top;\n",
       "    }\n",
       "\n",
       "    .dataframe thead tr th {\n",
       "        text-align: left;\n",
       "    }\n",
       "\n",
       "    .dataframe thead tr:last-of-type th {\n",
       "        text-align: right;\n",
       "    }\n",
       "</style>\n",
       "<table border=\"1\" class=\"dataframe\">\n",
       "  <thead>\n",
       "    <tr>\n",
       "      <th></th>\n",
       "      <th></th>\n",
       "      <th colspan=\"4\" halign=\"left\">Filter Length</th>\n",
       "    </tr>\n",
       "    <tr>\n",
       "      <th></th>\n",
       "      <th></th>\n",
       "      <th>count</th>\n",
       "      <th>mean</th>\n",
       "      <th>50%</th>\n",
       "      <th>90%</th>\n",
       "    </tr>\n",
       "    <tr>\n",
       "      <th>dataset</th>\n",
       "      <th>likekind</th>\n",
       "      <th></th>\n",
       "      <th></th>\n",
       "      <th></th>\n",
       "      <th></th>\n",
       "    </tr>\n",
       "  </thead>\n",
       "  <tbody>\n",
       "    <tr>\n",
       "      <th>CEB</th>\n",
       "      <th>contains</th>\n",
       "      <td>1778.0</td>\n",
       "      <td>2.347019</td>\n",
       "      <td>2.0</td>\n",
       "      <td>4.0</td>\n",
       "    </tr>\n",
       "    <tr>\n",
       "      <th rowspan=\"4\" valign=\"top\">JOB</th>\n",
       "      <th>3%</th>\n",
       "      <td>20.0</td>\n",
       "      <td>7.700000</td>\n",
       "      <td>6.0</td>\n",
       "      <td>12.0</td>\n",
       "    </tr>\n",
       "    <tr>\n",
       "      <th>4%</th>\n",
       "      <td>1.0</td>\n",
       "      <td>11.000000</td>\n",
       "      <td>11.0</td>\n",
       "      <td>11.0</td>\n",
       "    </tr>\n",
       "    <tr>\n",
       "      <th>contains</th>\n",
       "      <td>133.0</td>\n",
       "      <td>6.300752</td>\n",
       "      <td>6.0</td>\n",
       "      <td>9.8</td>\n",
       "    </tr>\n",
       "    <tr>\n",
       "      <th>starts</th>\n",
       "      <td>22.0</td>\n",
       "      <td>6.727273</td>\n",
       "      <td>7.5</td>\n",
       "      <td>13.0</td>\n",
       "    </tr>\n",
       "    <tr>\n",
       "      <th>TPCDS</th>\n",
       "      <th>starts</th>\n",
       "      <td>1.0</td>\n",
       "      <td>5.000000</td>\n",
       "      <td>5.0</td>\n",
       "      <td>5.0</td>\n",
       "    </tr>\n",
       "  </tbody>\n",
       "</table>\n",
       "</div>"
      ],
      "text/plain": [
       "                 Filter Length                       \n",
       "                         count       mean   50%   90%\n",
       "dataset likekind                                     \n",
       "CEB     contains        1778.0   2.347019   2.0   4.0\n",
       "JOB     3%                20.0   7.700000   6.0  12.0\n",
       "        4%                 1.0  11.000000  11.0  11.0\n",
       "        contains         133.0   6.300752   6.0   9.8\n",
       "        starts            22.0   6.727273   7.5  13.0\n",
       "TPCDS   starts             1.0   5.000000   5.0   5.0"
      ]
     },
     "execution_count": 174,
     "metadata": {},
     "output_type": "execute_result"
    }
   ],
   "source": [
    "tmp = ldf.groupby([\"dataset\",\"likekind\"])[[\"Filter Length\"]].describe(percentiles=[0.9])\n",
    "#tmp = tmp.groupby(level=0).apply(lambda x: 100 * x / float(x.sum()))\n",
    "DROPS = [\"std\", \"min\", \"max\"]\n",
    "dc = []\n",
    "for dr in DROPS:\n",
    "    dc.append((\"Filter Length\", dr))\n",
    "\n",
    "tmp = tmp.reset_index().set_index(['dataset', 'likekind']).rename(\n",
    "    columns={}).drop(columns=dc)\n",
    "tmp"
   ]
  },
  {
   "cell_type": "code",
   "execution_count": 163,
   "id": "organized-tutorial",
   "metadata": {},
   "outputs": [],
   "source": []
  },
  {
   "cell_type": "code",
   "execution_count": 164,
   "id": "organic-passport",
   "metadata": {},
   "outputs": [
    {
     "name": "stderr",
     "output_type": "stream",
     "text": [
      "<ipython-input-164-d00d1374220c>:5: SettingWithCopyWarning: \n",
      "A value is trying to be set on a copy of a slice from a DataFrame.\n",
      "Try using .loc[row_indexer,col_indexer] = value instead\n",
      "\n",
      "See the caveats in the documentation: https://pandas.pydata.org/pandas-docs/stable/user_guide/indexing.html#returning-a-view-versus-a-copy\n",
      "  ldf[\"Filter Length\"] = ldf.apply(lambda x: get_len(x[\"val\"]), axis=1)\n",
      "<ipython-input-164-d00d1374220c>:12: SettingWithCopyWarning: \n",
      "A value is trying to be set on a copy of a slice from a DataFrame.\n",
      "Try using .loc[row_indexer,col_indexer] = value instead\n",
      "\n",
      "See the caveats in the documentation: https://pandas.pydata.org/pandas-docs/stable/user_guide/indexing.html#returning-a-view-versus-a-copy\n",
      "  ldf[\"likedtype\"] = ldtypes\n"
     ]
    },
    {
     "data": {
      "text/html": [
       "<div>\n",
       "<style scoped>\n",
       "    .dataframe tbody tr th:only-of-type {\n",
       "        vertical-align: middle;\n",
       "    }\n",
       "\n",
       "    .dataframe tbody tr th {\n",
       "        vertical-align: top;\n",
       "    }\n",
       "\n",
       "    .dataframe thead th {\n",
       "        text-align: right;\n",
       "    }\n",
       "</style>\n",
       "<table border=\"1\" class=\"dataframe\">\n",
       "  <thead>\n",
       "    <tr style=\"text-align: right;\">\n",
       "      <th></th>\n",
       "      <th></th>\n",
       "      <th>Percentage</th>\n",
       "    </tr>\n",
       "    <tr>\n",
       "      <th>dataset</th>\n",
       "      <th>likedtype</th>\n",
       "      <th></th>\n",
       "    </tr>\n",
       "  </thead>\n",
       "  <tbody>\n",
       "    <tr>\n",
       "      <th rowspan=\"5\" valign=\"top\">CEB</th>\n",
       "      <th>num</th>\n",
       "      <td>14.623172</td>\n",
       "    </tr>\n",
       "    <tr>\n",
       "      <th>short</th>\n",
       "      <td>51.012373</td>\n",
       "    </tr>\n",
       "    <tr>\n",
       "      <th>unknown</th>\n",
       "      <td>23.509561</td>\n",
       "    </tr>\n",
       "    <tr>\n",
       "      <th>word</th>\n",
       "      <td>10.686164</td>\n",
       "    </tr>\n",
       "    <tr>\n",
       "      <th>words</th>\n",
       "      <td>0.168729</td>\n",
       "    </tr>\n",
       "    <tr>\n",
       "      <th rowspan=\"4\" valign=\"top\">JOB</th>\n",
       "      <th>short</th>\n",
       "      <td>10.795455</td>\n",
       "    </tr>\n",
       "    <tr>\n",
       "      <th>unknown</th>\n",
       "      <td>42.045455</td>\n",
       "    </tr>\n",
       "    <tr>\n",
       "      <th>word</th>\n",
       "      <td>40.909091</td>\n",
       "    </tr>\n",
       "    <tr>\n",
       "      <th>words</th>\n",
       "      <td>6.250000</td>\n",
       "    </tr>\n",
       "    <tr>\n",
       "      <th>TPCDS</th>\n",
       "      <th>unknown</th>\n",
       "      <td>100.000000</td>\n",
       "    </tr>\n",
       "  </tbody>\n",
       "</table>\n",
       "</div>"
      ],
      "text/plain": [
       "                   Percentage\n",
       "dataset likedtype            \n",
       "CEB     num         14.623172\n",
       "        short       51.012373\n",
       "        unknown     23.509561\n",
       "        word        10.686164\n",
       "        words        0.168729\n",
       "JOB     short       10.795455\n",
       "        unknown     42.045455\n",
       "        word        40.909091\n",
       "        words        6.250000\n",
       "TPCDS   unknown    100.000000"
      ]
     },
     "execution_count": 164,
     "metadata": {},
     "output_type": "execute_result"
    }
   ],
   "source": [
    "#ldf = df[df.like_ops == 1]\n",
    "\n",
    "#ldf[\"likedtype\"] = ldf.apply(lambda x: if x[\"likedtype\"] == -1: then ,axis=1)\n",
    "\n",
    "ldtypes = []\n",
    "for idx,row in ldf.iterrows():\n",
    "    if row[\"likedtype\"] == \"-1\" or row[\"likedtype\"] == -1 or row[\"likedtype\"] == \"-1.0\":\n",
    "        ldtypes.append(\"unknown\")\n",
    "    else:\n",
    "        ldtypes.append(row[\"likedtype\"])\n",
    "ldf[\"likedtype\"] = ldtypes\n",
    "\n",
    "tmp = ldf.groupby([\"dataset\",\"likedtype\"]).count()[\"discrete_ops\"]\n",
    "tmp = tmp.groupby(level=0).apply(lambda x: 100 * x / float(x.sum()))\n",
    "tmp = tmp.reset_index().set_index(['dataset', 'likedtype']).rename(\n",
    "    columns={\"discrete_ops\":\"Percentage\"})\n",
    "tmp"
   ]
  },
  {
   "cell_type": "code",
   "execution_count": 109,
   "id": "juvenile-electronics",
   "metadata": {},
   "outputs": [],
   "source": [
    "#inpdata.groupby(\"col\").count().reset_index()[\"val\"].describe(percentiles=[0.75,0.9,0.99])"
   ]
  },
  {
   "cell_type": "code",
   "execution_count": 111,
   "id": "combined-debate",
   "metadata": {},
   "outputs": [],
   "source": [
    "allinpdata = defaultdict(list)\n",
    "for idx, row in df.iterrows():\n",
    "    op = row[\"op\"]\n",
    "    if op in [\"=\", \"!=\"]:\n",
    "        allinpdata[\"col\"].append(row[\"col\"])\n",
    "        allinpdata[\"val\"].append(row[\"val\"])\n",
    "        allinpdata[\"dataset\"].append(row[\"dataset\"])\n",
    "\n",
    "    elif op == \"in\":\n",
    "        if \"select\" in row[\"val\"]:\n",
    "            pass\n",
    "        else:\n",
    "            cvals = row[\"val\"]\n",
    "            cvals = cvals.replace(\"(\", \"\")\n",
    "            cvals = cvals.replace(\")\", \"\")\n",
    "            cvals = cvals.split(\",\")\n",
    "            for cval in cvals:\n",
    "                allinpdata[\"dataset\"].append(row[\"dataset\"])\n",
    "                allinpdata[\"col\"].append(row[\"col\"])\n",
    "                allinpdata[\"val\"].append(cval)"
   ]
  },
  {
   "cell_type": "code",
   "execution_count": 112,
   "id": "authorized-length",
   "metadata": {},
   "outputs": [
    {
     "name": "stdout",
     "output_type": "stream",
     "text": [
      "68621\n",
      "7768\n",
      "76\n",
      "{nan, 'i_size', 'hd_dep_count', 'cd_education_status', 'p_channel_dmail', 'p_channel_tv', 'd_dom', 'p_channel_event', 'year_total', 'keyword', 'd_month_seq', 'd_moy', 'd_qoy', 'dyear', 'ca_gmt_offset', 'i_brand', 's_city', 'hd_vehicle_count', 'sale_type', 'ss_store_sk', 'cc_county', 'note', 'name_pcode_nf', 'ws_item_sk', 'gender', 'kind', 'i_category', 'year', 'ca_city', 'r_reason_desc', 'name_pcode_cf', 's_county', 'name', 'i_units', 'ss_item_sk', 'ca_country', 'i_manager_id', 'i_manufact_id', 'hd_buy_potential', 's_gmt_offset', 'ws_net_profit', 'i_color', 'cs_item_sk', 'title', 'd_week_seq', 'd_quarter_name', 'cd_marital_status', 's_store_name', 'ss_net_profit', 'syear', 't_hour', 'role', 'd_dow', 'c_preferred_cust_flag', 'link', 'ca_state', 'i_item_id', 'i_item_sk', 'ca_zip', 'c_birth_country', 'd_year', 'sm_carrier', 'cd_gender', 'p_channel_email', 's_state', 'web_company_name', 'cs_qty', 'production_year', 'd_date', 'surname_pcode', 's_market_id', 'country_code', 'i_class', 'info', 'id', 'c_birth_month'}\n"
     ]
    }
   ],
   "source": [
    "inpdata = pd.DataFrame(allinpdata)\n",
    "print(len(inpdata))\n",
    "inpdata = inpdata.drop_duplicates()\n",
    "inpdata = inpdata[inpdata[\"col\"] != \"function\"]\n",
    "print(len(inpdata))\n",
    "print(len(set(inpdata[\"col\"])))\n",
    "print(set(inpdata[\"col\"]))"
   ]
  },
  {
   "cell_type": "code",
   "execution_count": 113,
   "id": "blind-revolution",
   "metadata": {},
   "outputs": [
    {
     "data": {
      "text/plain": [
       "count      75.000000\n",
       "mean      102.813333\n",
       "std       415.657853\n",
       "min         1.000000\n",
       "50%         3.000000\n",
       "75%        11.000000\n",
       "90%       139.200000\n",
       "99%      1829.080000\n",
       "max      3056.000000\n",
       "Name: val, dtype: float64"
      ]
     },
     "execution_count": 113,
     "metadata": {},
     "output_type": "execute_result"
    }
   ],
   "source": [
    "inpdata.groupby(\"col\").count().reset_index()[\"val\"].describe(percentiles=[0.75,0.9,0.99])"
   ]
  },
  {
   "cell_type": "code",
   "execution_count": 129,
   "id": "official-applicant",
   "metadata": {},
   "outputs": [
    {
     "data": {
      "text/html": [
       "<table border=\"1\" class=\"dataframe\">\n",
       "  <thead>\n",
       "    <tr>\n",
       "      <th>dataset</th>\n",
       "      <th colspan=\"9\" halign=\"left\">Number of unique constants</th>\n",
       "    </tr>\n",
       "    <tr>\n",
       "      <th></th>\n",
       "      <th>Total <br> Columns</th>\n",
       "      <th>mean</th>\n",
       "      <th>std</th>\n",
       "      <th>min</th>\n",
       "      <th>50%</th>\n",
       "      <th>75%</th>\n",
       "      <th>90%</th>\n",
       "      <th>99%</th>\n",
       "      <th>max</th>\n",
       "    </tr>\n",
       "  </thead>\n",
       "  <tbody>\n",
       "    <tr>\n",
       "      <td>CEB</td>\n",
       "      <td>13.0</td>\n",
       "      <td>533.615</td>\n",
       "      <td>889.596</td>\n",
       "      <td>2.0</td>\n",
       "      <td>168.0</td>\n",
       "      <td>316.0</td>\n",
       "      <td>1355.2</td>\n",
       "      <td>2851.20</td>\n",
       "      <td>3054.0</td>\n",
       "    </tr>\n",
       "    <tr>\n",
       "      <td>Job</td>\n",
       "      <td>11.0</td>\n",
       "      <td>11.545</td>\n",
       "      <td>12.652</td>\n",
       "      <td>2.0</td>\n",
       "      <td>7.0</td>\n",
       "      <td>14.0</td>\n",
       "      <td>34.0</td>\n",
       "      <td>36.70</td>\n",
       "      <td>37.0</td>\n",
       "    </tr>\n",
       "    <tr>\n",
       "      <td>TPCDS</td>\n",
       "      <td>60.0</td>\n",
       "      <td>10.783</td>\n",
       "      <td>52.587</td>\n",
       "      <td>1.0</td>\n",
       "      <td>2.0</td>\n",
       "      <td>5.0</td>\n",
       "      <td>12.0</td>\n",
       "      <td>179.31</td>\n",
       "      <td>410.0</td>\n",
       "    </tr>\n",
       "  </tbody>\n",
       "</table>"
      ],
      "text/plain": [
       "<IPython.core.display.HTML object>"
      ]
     },
     "metadata": {},
     "output_type": "display_data"
    }
   ],
   "source": [
    "STATCOLS = [\"like_ops\", \"discrete_ops\", \"cont_ops\"]\n",
    "STATSTODROP = [\"std\", \"min\", \"max\", \"25%\", \"50%\",\"75%\"]\n",
    "curdrops = []\n",
    "\n",
    "pretty_print(\n",
    "    inpdata.groupby([\"dataset\", \"col\"]).nunique().reset_index()[[\"dataset\",\"val\"]]\\\n",
    "    .groupby([\"dataset\"])[[\"val\"]].describe(percentiles=[0.75,0.9,0.99]).reset_index()\\\n",
    "    .rename(columns={\"count\":\"Total \\\\n Columns\", \"val\":\"Number of unique constants\"})\\\n",
    "    .round(3)\n",
    ")"
   ]
  },
  {
   "cell_type": "code",
   "execution_count": null,
   "id": "innocent-adaptation",
   "metadata": {},
   "outputs": [],
   "source": []
  }
 ],
 "metadata": {
  "kernelspec": {
   "display_name": "Python 3",
   "language": "python",
   "name": "python3"
  },
  "language_info": {
   "codemirror_mode": {
    "name": "ipython",
    "version": 3
   },
   "file_extension": ".py",
   "mimetype": "text/x-python",
   "name": "python",
   "nbconvert_exporter": "python",
   "pygments_lexer": "ipython3",
   "version": "3.9.9"
  }
 },
 "nbformat": 4,
 "nbformat_minor": 5
}
