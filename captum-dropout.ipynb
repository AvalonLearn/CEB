{
 "cells": [
  {
   "cell_type": "code",
   "execution_count": 3,
   "id": "engaged-government",
   "metadata": {},
   "outputs": [],
   "source": [
    "%load_ext autoreload\n",
    "%autoreload 2\n",
    "\n",
    "import numpy as np\n",
    "import pandas as pd\n",
    "\n",
    "from cardinality_estimation.featurizer import Featurizer\n",
    "from query_representation.query import load_qrep\n",
    "from cardinality_estimation.dataset import *\n",
    "from torch.utils import data\n",
    "\n",
    "import glob\n",
    "import random\n",
    "import os\n",
    "import json\n",
    "import time\n",
    "import matplotlib.pyplot as plt"
   ]
  },
  {
   "cell_type": "markdown",
   "id": "selected-separate",
   "metadata": {},
   "source": [
    "# Setup file paths / Download query data"
   ]
  },
  {
   "cell_type": "code",
   "execution_count": 4,
   "id": "perfect-surgery",
   "metadata": {},
   "outputs": [],
   "source": [
    "import errno\n",
    "def make_dir(directory):\n",
    "    try:\n",
    "        os.makedirs(directory)\n",
    "    except OSError as e:\n",
    "        if e.errno != errno.EEXIST:\n",
    "            raise"
   ]
  },
  {
   "cell_type": "code",
   "execution_count": 5,
   "id": "hidden-somalia",
   "metadata": {},
   "outputs": [],
   "source": [
    "# TODO\n",
    "# TRAINDIR = os.path.join(os.path.join(\"\", \"queries\"), \"mlsys1-train\")\n",
    "# VALDIR = os.path.join(os.path.join(\"\", \"queries\"), \"mlsys1-val\")\n",
    "# TESTDIR = os.path.join(os.path.join(\"\", \"queries\"), \"mlsys1-test\")\n",
    "\n",
    "TRAINDIR = os.path.join(os.path.join(\"\", \"queries\"), \"imdb\")\n",
    "TESTDIR = os.path.join(os.path.join(\"\", \"queries\"), \"imdb\")\n",
    "\n",
    "RESULTDIR = os.path.join(\"\", \"results\")\n",
    "make_dir(RESULTDIR)"
   ]
  },
  {
   "cell_type": "markdown",
   "id": "opposite-collaboration",
   "metadata": {},
   "source": [
    "# Query loading helper functions"
   ]
  },
  {
   "cell_type": "code",
   "execution_count": 6,
   "id": "hollywood-flood",
   "metadata": {},
   "outputs": [],
   "source": [
    "\n",
    "def load_qdata(fns):\n",
    "    qreps = []\n",
    "    for qfn in fns:\n",
    "        qrep = load_qrep(qfn)\n",
    "        # TODO: can do checks like no queries with zero cardinalities etc.\n",
    "        qreps.append(qrep)\n",
    "        template_name = os.path.basename(os.path.dirname(qfn))\n",
    "        qrep[\"name\"] = os.path.basename(qfn)\n",
    "        qrep[\"template_name\"] = template_name\n",
    "    return qreps\n",
    "\n",
    "def get_query_fns(basedir, template_fraction=1.0, sel_templates=None):\n",
    "    fns = []\n",
    "    tmpnames = list(glob.glob(os.path.join(basedir, \"*\")))\n",
    "    assert template_fraction <= 1.0\n",
    "    \n",
    "    for qi,qdir in enumerate(tmpnames):\n",
    "        if os.path.isfile(qdir):\n",
    "            continue\n",
    "        template_name = os.path.basename(qdir)\n",
    "        if sel_templates is not None and template_name not in sel_templates:\n",
    "            continue\n",
    "        \n",
    "        # let's first select all the qfns we are going to load\n",
    "        qfns = list(glob.glob(os.path.join(qdir, \"*.pkl\")))\n",
    "        qfns.sort()\n",
    "        num_samples = max(int(len(qfns)*template_fraction), 1)\n",
    "        random.seed(1234)\n",
    "        qfns = random.sample(qfns, num_samples)\n",
    "        fns += qfns\n",
    "    return fns"
   ]
  },
  {
   "cell_type": "markdown",
   "id": "arranged-waterproof",
   "metadata": {},
   "source": [
    "# Evaluation helper functions"
   ]
  },
  {
   "cell_type": "code",
   "execution_count": 7,
   "id": "mineral-accounting",
   "metadata": {},
   "outputs": [],
   "source": [
    "def get_preds(alg, qreps):\n",
    "    if isinstance(qreps[0], str):\n",
    "        # only file paths sent\n",
    "        qreps = load_qdata(qreps)\n",
    "    \n",
    "    ests = alg.test(qreps)\n",
    "    return ests\n",
    "\n",
    "def eval_alg(alg, eval_funcs, qreps, samples_type, result_dir=\"./results/\"):\n",
    "    '''\n",
    "    '''\n",
    "    np.set_printoptions(formatter={'float': lambda x: \"{0:0.3f}\".format(x)})\n",
    "\n",
    "    alg_name = alg.__str__()\n",
    "    exp_name = alg.get_exp_name()\n",
    "    \n",
    "    if isinstance(qreps[0], str):\n",
    "        # only file paths sent\n",
    "        qreps = load_qdata(qreps)\n",
    "    \n",
    "    ests = alg.test(qreps)\n",
    "\n",
    "    for efunc in eval_funcs:\n",
    "        rdir = None\n",
    "        if result_dir is not None:\n",
    "            rdir = os.path.join(result_dir, exp_name)\n",
    "            make_dir(rdir)\n",
    "\n",
    "        errors = efunc.eval(qreps, ests, samples_type=samples_type,\n",
    "                result_dir=rdir,\n",
    "                num_processes = -1,\n",
    "                alg_name = alg_name,\n",
    "                use_wandb=0)\n",
    "\n",
    "        print(\"{}, {}, #samples: {}, {}: mean: {}, median: {}, 99p: {}\"\\\n",
    "                .format(samples_type, alg, len(errors),\n",
    "                    efunc.__str__(),\n",
    "                    np.round(np.mean(errors),3),\n",
    "                    np.round(np.median(errors),3),\n",
    "                    np.round(np.percentile(errors,99),3)))"
   ]
  },
  {
   "cell_type": "markdown",
   "id": "lucky-omaha",
   "metadata": {},
   "source": [
    "# Load queries"
   ]
  },
  {
   "cell_type": "code",
   "execution_count": 8,
   "id": "sacred-arena",
   "metadata": {},
   "outputs": [
    {
     "name": "stdout",
     "output_type": "stream",
     "text": [
      "Selected 500 training queries, 0 validation queries, 888 test queries\n"
     ]
    }
   ],
   "source": [
    "# set template_fraction <= 1.0 to test quickly w/ smaller datasets\n",
    "# train_qfns = get_query_fns(TRAINDIR, template_fraction = 0.001)\n",
    "# val_qfns = get_query_fns(VALDIR, template_fraction = 1.0)\n",
    "# test_qfns = get_query_fns(TESTDIR, template_fraction = 1.0)\n",
    "\n",
    "train_qfns = get_query_fns(TRAINDIR, template_fraction = 1.0, sel_templates=[\"2b\"])\n",
    "val_qfns = []\n",
    "test_qfns = get_query_fns(TESTDIR, template_fraction = 1.0, sel_templates=[\"2a\"])\n",
    "\n",
    "print(\"Selected {} training queries, {} validation queries, {} test queries\".\\\n",
    "      format(len(train_qfns), len(val_qfns), len(test_qfns)))"
   ]
  },
  {
   "cell_type": "code",
   "execution_count": 9,
   "id": "informational-ultimate",
   "metadata": {},
   "outputs": [],
   "source": [
    "from evaluation.eval_fns import QError, SimplePlanCost\n",
    "EVAL_FNS = []\n",
    "EVAL_FNS.append(QError())\n",
    "EVAL_FNS.append(SimplePlanCost())"
   ]
  },
  {
   "cell_type": "code",
   "execution_count": 10,
   "id": "numeric-indianapolis",
   "metadata": {},
   "outputs": [],
   "source": [
    "def init_featurizer(featurization_type):\n",
    "    # Load database specific data, e.g., information about columns, tables etc.\n",
    "    dbdata_fn = os.path.join(TRAINDIR, \"dbdata.json\")\n",
    "    featurizer = Featurizer(None, None, None, None, None)\n",
    "    with open(dbdata_fn, \"r\") as f:\n",
    "        dbdata = json.load(f)\n",
    "    featurizer.update_using_saved_stats(dbdata)\n",
    "\n",
    "    featurizer.setup(ynormalization=\"log\",\n",
    "        feat_separate_alias = 0,\n",
    "        onehot_dropout = onehot_dropout,\n",
    "        feat_mcvs = 0,\n",
    "        heuristic_features = 1,\n",
    "        featurization_type=featurization_type,\n",
    "        table_features=1,\n",
    "        flow_features = 0,\n",
    "        join_features= \"onehot\",\n",
    "        set_column_feature= \"onehot\",\n",
    "        max_discrete_featurizing_buckets=30,\n",
    "        max_like_featurizing_buckets=10,\n",
    "        embedding_fn = \"none\",\n",
    "        embedding_pooling = None,\n",
    "        implied_pred_features = 0,\n",
    "        feat_onlyseen_preds = 1)\n",
    "    featurizer.update_ystats(trainqs)\n",
    "    \n",
    "    featurizer.update_workload_stats(trainqs)\n",
    "    featurizer.init_feature_mapping()\n",
    "    featurizer.update_ystats(trainqs)\n",
    "\n",
    "    # if feat_onlyseen_preds:\n",
    "    # just do it always\n",
    "    featurizer.update_seen_preds(trainqs)\n",
    "    \n",
    "    return featurizer"
   ]
  },
  {
   "cell_type": "code",
   "execution_count": 11,
   "id": "734edcff",
   "metadata": {},
   "outputs": [],
   "source": [
    "# going to start training the models\n",
    "trainqs = load_qdata(train_qfns)"
   ]
  },
  {
   "cell_type": "code",
   "execution_count": 12,
   "id": "f730aec5",
   "metadata": {},
   "outputs": [],
   "source": [
    "testqs = load_qdata(test_qfns)"
   ]
  },
  {
   "cell_type": "code",
   "execution_count": 15,
   "id": "37a69fb2",
   "metadata": {},
   "outputs": [],
   "source": [
    "max_epochs = 60\n",
    "lr=0.0001\n",
    "training_opt = \"none\"\n",
    "opt_lr = 0.1\n",
    "swa_start = 5\n",
    "mask_unseen_subplans = 0\n",
    "subplan_level_outputs=0\n",
    "normalize_flow_loss = 1\n",
    "heuristic_unseen_preds = 0\n",
    "cost_model = \"C\"\n",
    "use_wandb = 0\n",
    "eval_fns = \"qerr,plancost\"\n",
    "load_padded_mscn_feats = 1\n",
    "mb_size = 1024\n",
    "weight_decay = 0.0\n",
    "load_query_together = 0\n",
    "result_dir = \"./results\"\n",
    "onehot_dropout=0\n",
    "onehot_mask_truep=0.8\n",
    "onehot_reg=0\n",
    "onehot_reg_decay=0.1\n",
    "eval_epoch = 200\n",
    "optimizer_name=\"adamw\"\n",
    "clip_gradient=20.0\n",
    "loss_func_name = \"mse\"\n",
    "hidden_layer_size = 128\n",
    "num_hidden_layers = 2"
   ]
  },
  {
   "cell_type": "code",
   "execution_count": 16,
   "id": "faced-variable",
   "metadata": {},
   "outputs": [],
   "source": [
    "# from cardinality_estimation.fcnn import FCNN\n",
    "# featurizer = init_featurizer(\"combined\")\n",
    "# #featurizer = init_featurizer(\"set\")\n",
    "\n",
    "# fcnn = FCNN(max_epochs = max_epochs, lr=lr,\n",
    "#                 training_opt = training_opt,\n",
    "#                 opt_lr = opt_lr,\n",
    "#                 swa_start = swa_start,\n",
    "#                 mask_unseen_subplans = mask_unseen_subplans,\n",
    "#                 subplan_level_outputs=subplan_level_outputs,\n",
    "#                 normalize_flow_loss = normalize_flow_loss,\n",
    "#                 heuristic_unseen_preds = heuristic_unseen_preds,\n",
    "#                 onehot_dropout=onehot_dropout,\n",
    "#                 onehot_reg=onehot_reg,\n",
    "#                 onehot_reg_decay=onehot_reg_decay,\n",
    "#                 cost_model = cost_model,\n",
    "#                 eval_fns = eval_fns,\n",
    "#                 use_wandb = use_wandb,\n",
    "#                 mb_size = mb_size,\n",
    "#                 weight_decay = weight_decay,\n",
    "#                 load_query_together = load_query_together,\n",
    "#                 result_dir = result_dir,\n",
    "#                 num_hidden_layers=num_hidden_layers,\n",
    "#                 eval_epoch = eval_epoch,\n",
    "#                 optimizer_name=optimizer_name,\n",
    "#                 clip_gradient=clip_gradient,\n",
    "#                 loss_func_name = loss_func_name,\n",
    "#                 hidden_layer_size = hidden_layer_size)\n",
    "\n",
    "# fcnn.train(trainqs, valqs=None, testqs=None,\n",
    "#     featurizer=featurizer, result_dir=RESULTDIR)"
   ]
  },
  {
   "cell_type": "code",
   "execution_count": 17,
   "id": "sweet-pacific",
   "metadata": {},
   "outputs": [],
   "source": [
    "# # # evaluate model\n",
    "# eval_alg(fcnn, EVAL_FNS, trainqs, \"train\")\n",
    "# # eval_alg(fcnn, EVAL_FNS, valqs, \"val\")\n",
    "\n",
    "# # # TODO: test set prdictions; should submit these for the leaderboard?\n",
    "# # #preds = fcnn.test(testqs)"
   ]
  },
  {
   "cell_type": "code",
   "execution_count": 18,
   "id": "dominican-punishment",
   "metadata": {},
   "outputs": [
    {
     "name": "stdout",
     "output_type": "stream",
     "text": [
      "Updated stats to remove alias based columns\n"
     ]
    },
    {
     "ename": "KeyboardInterrupt",
     "evalue": "",
     "output_type": "error",
     "traceback": [
      "\u001b[0;31m---------------------------------------------------------------------------\u001b[0m",
      "\u001b[0;31mKeyboardInterrupt\u001b[0m                         Traceback (most recent call last)",
      "\u001b[0;32m/tmp/ipykernel_1517018/2426280714.py\u001b[0m in \u001b[0;36m<module>\u001b[0;34m\u001b[0m\n\u001b[1;32m      1\u001b[0m \u001b[0;32mfrom\u001b[0m \u001b[0mcardinality_estimation\u001b[0m\u001b[0;34m.\u001b[0m\u001b[0mmscn\u001b[0m \u001b[0;32mimport\u001b[0m \u001b[0mMSCN\u001b[0m \u001b[0;32mas\u001b[0m \u001b[0mMSCN2\u001b[0m\u001b[0;34m\u001b[0m\u001b[0;34m\u001b[0m\u001b[0m\n\u001b[1;32m      2\u001b[0m \u001b[0;34m\u001b[0m\u001b[0m\n\u001b[0;32m----> 3\u001b[0;31m \u001b[0mfeaturizer\u001b[0m \u001b[0;34m=\u001b[0m \u001b[0minit_featurizer\u001b[0m\u001b[0;34m(\u001b[0m\u001b[0;34m\"set\"\u001b[0m\u001b[0;34m)\u001b[0m\u001b[0;34m\u001b[0m\u001b[0;34m\u001b[0m\u001b[0m\n\u001b[0m\u001b[1;32m      4\u001b[0m mscn = MSCN2(max_epochs = max_epochs, lr=lr,\n\u001b[1;32m      5\u001b[0m                 \u001b[0mtraining_opt\u001b[0m \u001b[0;34m=\u001b[0m \u001b[0mtraining_opt\u001b[0m\u001b[0;34m,\u001b[0m\u001b[0;34m\u001b[0m\u001b[0;34m\u001b[0m\u001b[0m\n",
      "\u001b[0;32m/tmp/ipykernel_1517018/2736973622.py\u001b[0m in \u001b[0;36minit_featurizer\u001b[0;34m(featurization_type)\u001b[0m\n\u001b[1;32m     25\u001b[0m     \u001b[0mfeaturizer\u001b[0m\u001b[0;34m.\u001b[0m\u001b[0mupdate_ystats\u001b[0m\u001b[0;34m(\u001b[0m\u001b[0mtrainqs\u001b[0m\u001b[0;34m)\u001b[0m\u001b[0;34m\u001b[0m\u001b[0;34m\u001b[0m\u001b[0m\n\u001b[1;32m     26\u001b[0m \u001b[0;34m\u001b[0m\u001b[0m\n\u001b[0;32m---> 27\u001b[0;31m     \u001b[0mfeaturizer\u001b[0m\u001b[0;34m.\u001b[0m\u001b[0mupdate_workload_stats\u001b[0m\u001b[0;34m(\u001b[0m\u001b[0mtrainqs\u001b[0m\u001b[0;34m)\u001b[0m\u001b[0;34m\u001b[0m\u001b[0;34m\u001b[0m\u001b[0m\n\u001b[0m\u001b[1;32m     28\u001b[0m     \u001b[0mfeaturizer\u001b[0m\u001b[0;34m.\u001b[0m\u001b[0minit_feature_mapping\u001b[0m\u001b[0;34m(\u001b[0m\u001b[0;34m)\u001b[0m\u001b[0;34m\u001b[0m\u001b[0;34m\u001b[0m\u001b[0m\n\u001b[1;32m     29\u001b[0m     \u001b[0mfeaturizer\u001b[0m\u001b[0;34m.\u001b[0m\u001b[0mupdate_ystats\u001b[0m\u001b[0;34m(\u001b[0m\u001b[0mtrainqs\u001b[0m\u001b[0;34m)\u001b[0m\u001b[0;34m\u001b[0m\u001b[0;34m\u001b[0m\u001b[0m\n",
      "\u001b[0;32m~/MyCEB/cardinality_estimation/featurizer.py\u001b[0m in \u001b[0;36mupdate_workload_stats\u001b[0;34m(self, qreps)\u001b[0m\n\u001b[1;32m    306\u001b[0m                     \u001b[0mcur_columns\u001b[0m\u001b[0;34m.\u001b[0m\u001b[0mappend\u001b[0m\u001b[0;34m(\u001b[0m\u001b[0mcol\u001b[0m\u001b[0;34m)\u001b[0m\u001b[0;34m\u001b[0m\u001b[0;34m\u001b[0m\u001b[0m\n\u001b[1;32m    307\u001b[0m \u001b[0;34m\u001b[0m\u001b[0m\n\u001b[0;32m--> 308\u001b[0;31m             \u001b[0mjoins\u001b[0m \u001b[0;34m=\u001b[0m \u001b[0mextract_join_clause\u001b[0m\u001b[0;34m(\u001b[0m\u001b[0mqrep\u001b[0m\u001b[0;34m[\u001b[0m\u001b[0;34m\"sql\"\u001b[0m\u001b[0;34m]\u001b[0m\u001b[0;34m)\u001b[0m\u001b[0;34m\u001b[0m\u001b[0;34m\u001b[0m\u001b[0m\n\u001b[0m\u001b[1;32m    309\u001b[0m             \u001b[0;32mfor\u001b[0m \u001b[0mjoinstr\u001b[0m \u001b[0;32min\u001b[0m \u001b[0mjoins\u001b[0m\u001b[0;34m:\u001b[0m\u001b[0;34m\u001b[0m\u001b[0;34m\u001b[0m\u001b[0m\n\u001b[1;32m    310\u001b[0m                 \u001b[0;31m# get rid of whitespace\u001b[0m\u001b[0;34m\u001b[0m\u001b[0;34m\u001b[0m\u001b[0m\n",
      "\u001b[0;32m~/MyCEB/query_representation/utils.py\u001b[0m in \u001b[0;36mextract_join_clause\u001b[0;34m(query)\u001b[0m\n\u001b[1;32m    301\u001b[0m     \u001b[0mFIXME\u001b[0m\u001b[0;34m:\u001b[0m \u001b[0mthis\u001b[0m \u001b[0mcan\u001b[0m \u001b[0mbe\u001b[0m \u001b[0moptimized\u001b[0m \u001b[0mfurther\u001b[0m \u001b[0;34m/\u001b[0m \u001b[0;32mor\u001b[0m \u001b[0mmade\u001b[0m \u001b[0mto\u001b[0m \u001b[0mhandle\u001b[0m \u001b[0mmore\u001b[0m \u001b[0mcases\u001b[0m\u001b[0;34m\u001b[0m\u001b[0;34m\u001b[0m\u001b[0m\n\u001b[1;32m    302\u001b[0m     '''\n\u001b[0;32m--> 303\u001b[0;31m     \u001b[0mparsed\u001b[0m \u001b[0;34m=\u001b[0m \u001b[0msqlparse\u001b[0m\u001b[0;34m.\u001b[0m\u001b[0mparse\u001b[0m\u001b[0;34m(\u001b[0m\u001b[0mquery\u001b[0m\u001b[0;34m)\u001b[0m\u001b[0;34m[\u001b[0m\u001b[0;36m0\u001b[0m\u001b[0;34m]\u001b[0m\u001b[0;34m\u001b[0m\u001b[0;34m\u001b[0m\u001b[0m\n\u001b[0m\u001b[1;32m    304\u001b[0m     \u001b[0;31m# let us go over all the where clauses\u001b[0m\u001b[0;34m\u001b[0m\u001b[0;34m\u001b[0m\u001b[0m\n\u001b[1;32m    305\u001b[0m     \u001b[0mstart\u001b[0m \u001b[0;34m=\u001b[0m \u001b[0mtime\u001b[0m\u001b[0;34m.\u001b[0m\u001b[0mtime\u001b[0m\u001b[0;34m(\u001b[0m\u001b[0;34m)\u001b[0m\u001b[0;34m\u001b[0m\u001b[0;34m\u001b[0m\u001b[0m\n",
      "\u001b[0;32m~/.local/lib/python3.9/site-packages/sqlparse/__init__.py\u001b[0m in \u001b[0;36mparse\u001b[0;34m(sql, encoding)\u001b[0m\n\u001b[1;32m     28\u001b[0m     \u001b[0;34m:\u001b[0m\u001b[0mreturns\u001b[0m\u001b[0;34m:\u001b[0m \u001b[0mA\u001b[0m \u001b[0mtuple\u001b[0m \u001b[0mof\u001b[0m \u001b[0;34m:\u001b[0m\u001b[0;32mclass\u001b[0m\u001b[0;34m:\u001b[0m\u001b[0;31m`\u001b[0m\u001b[0;34m~\u001b[0m\u001b[0msqlparse\u001b[0m\u001b[0;34m.\u001b[0m\u001b[0msql\u001b[0m\u001b[0;34m.\u001b[0m\u001b[0mStatement\u001b[0m\u001b[0;31m`\u001b[0m \u001b[0minstances\u001b[0m\u001b[0;34m.\u001b[0m\u001b[0;34m\u001b[0m\u001b[0;34m\u001b[0m\u001b[0m\n\u001b[1;32m     29\u001b[0m     \"\"\"\n\u001b[0;32m---> 30\u001b[0;31m     \u001b[0;32mreturn\u001b[0m \u001b[0mtuple\u001b[0m\u001b[0;34m(\u001b[0m\u001b[0mparsestream\u001b[0m\u001b[0;34m(\u001b[0m\u001b[0msql\u001b[0m\u001b[0;34m,\u001b[0m \u001b[0mencoding\u001b[0m\u001b[0;34m)\u001b[0m\u001b[0;34m)\u001b[0m\u001b[0;34m\u001b[0m\u001b[0;34m\u001b[0m\u001b[0m\n\u001b[0m\u001b[1;32m     31\u001b[0m \u001b[0;34m\u001b[0m\u001b[0m\n\u001b[1;32m     32\u001b[0m \u001b[0;34m\u001b[0m\u001b[0m\n",
      "\u001b[0;32m~/.local/lib/python3.9/site-packages/sqlparse/engine/filter_stack.py\u001b[0m in \u001b[0;36mrun\u001b[0;34m(self, sql, encoding)\u001b[0m\n\u001b[1;32m     34\u001b[0m         \u001b[0;32mfor\u001b[0m \u001b[0mstmt\u001b[0m \u001b[0;32min\u001b[0m \u001b[0mstream\u001b[0m\u001b[0;34m:\u001b[0m\u001b[0;34m\u001b[0m\u001b[0;34m\u001b[0m\u001b[0m\n\u001b[1;32m     35\u001b[0m             \u001b[0;32mif\u001b[0m \u001b[0mself\u001b[0m\u001b[0;34m.\u001b[0m\u001b[0m_grouping\u001b[0m\u001b[0;34m:\u001b[0m\u001b[0;34m\u001b[0m\u001b[0;34m\u001b[0m\u001b[0m\n\u001b[0;32m---> 36\u001b[0;31m                 \u001b[0mstmt\u001b[0m \u001b[0;34m=\u001b[0m \u001b[0mgrouping\u001b[0m\u001b[0;34m.\u001b[0m\u001b[0mgroup\u001b[0m\u001b[0;34m(\u001b[0m\u001b[0mstmt\u001b[0m\u001b[0;34m)\u001b[0m\u001b[0;34m\u001b[0m\u001b[0;34m\u001b[0m\u001b[0m\n\u001b[0m\u001b[1;32m     37\u001b[0m \u001b[0;34m\u001b[0m\u001b[0m\n\u001b[1;32m     38\u001b[0m             \u001b[0;32mfor\u001b[0m \u001b[0mfilter_\u001b[0m \u001b[0;32min\u001b[0m \u001b[0mself\u001b[0m\u001b[0;34m.\u001b[0m\u001b[0mstmtprocess\u001b[0m\u001b[0;34m:\u001b[0m\u001b[0;34m\u001b[0m\u001b[0;34m\u001b[0m\u001b[0m\n",
      "\u001b[0;32m~/.local/lib/python3.9/site-packages/sqlparse/engine/grouping.py\u001b[0m in \u001b[0;36mgroup\u001b[0;34m(stmt)\u001b[0m\n\u001b[1;32m    416\u001b[0m         \u001b[0mgroup_values\u001b[0m\u001b[0;34m,\u001b[0m\u001b[0;34m\u001b[0m\u001b[0;34m\u001b[0m\u001b[0m\n\u001b[1;32m    417\u001b[0m     ]:\n\u001b[0;32m--> 418\u001b[0;31m         \u001b[0mfunc\u001b[0m\u001b[0;34m(\u001b[0m\u001b[0mstmt\u001b[0m\u001b[0;34m)\u001b[0m\u001b[0;34m\u001b[0m\u001b[0;34m\u001b[0m\u001b[0m\n\u001b[0m\u001b[1;32m    419\u001b[0m     \u001b[0;32mreturn\u001b[0m \u001b[0mstmt\u001b[0m\u001b[0;34m\u001b[0m\u001b[0;34m\u001b[0m\u001b[0m\n\u001b[1;32m    420\u001b[0m \u001b[0;34m\u001b[0m\u001b[0m\n",
      "\u001b[0;32m~/.local/lib/python3.9/site-packages/sqlparse/utils.py\u001b[0m in \u001b[0;36mwrapped_f\u001b[0;34m(tlist)\u001b[0m\n\u001b[1;32m     71\u001b[0m             \u001b[0;32mfor\u001b[0m \u001b[0msgroup\u001b[0m \u001b[0;32min\u001b[0m \u001b[0mtlist\u001b[0m\u001b[0;34m.\u001b[0m\u001b[0mget_sublists\u001b[0m\u001b[0;34m(\u001b[0m\u001b[0;34m)\u001b[0m\u001b[0;34m:\u001b[0m\u001b[0;34m\u001b[0m\u001b[0;34m\u001b[0m\u001b[0m\n\u001b[1;32m     72\u001b[0m                 \u001b[0;32mif\u001b[0m \u001b[0;32mnot\u001b[0m \u001b[0misinstance\u001b[0m\u001b[0;34m(\u001b[0m\u001b[0msgroup\u001b[0m\u001b[0;34m,\u001b[0m \u001b[0mcls\u001b[0m\u001b[0;34m)\u001b[0m\u001b[0;34m:\u001b[0m\u001b[0;34m\u001b[0m\u001b[0;34m\u001b[0m\u001b[0m\n\u001b[0;32m---> 73\u001b[0;31m                     \u001b[0mwrapped_f\u001b[0m\u001b[0;34m(\u001b[0m\u001b[0msgroup\u001b[0m\u001b[0;34m)\u001b[0m\u001b[0;34m\u001b[0m\u001b[0;34m\u001b[0m\u001b[0m\n\u001b[0m\u001b[1;32m     74\u001b[0m             \u001b[0mf\u001b[0m\u001b[0;34m(\u001b[0m\u001b[0mtlist\u001b[0m\u001b[0;34m)\u001b[0m\u001b[0;34m\u001b[0m\u001b[0;34m\u001b[0m\u001b[0m\n\u001b[1;32m     75\u001b[0m \u001b[0;34m\u001b[0m\u001b[0m\n",
      "\u001b[0;32m~/.local/lib/python3.9/site-packages/sqlparse/utils.py\u001b[0m in \u001b[0;36mwrapped_f\u001b[0;34m(tlist)\u001b[0m\n\u001b[1;32m     71\u001b[0m             \u001b[0;32mfor\u001b[0m \u001b[0msgroup\u001b[0m \u001b[0;32min\u001b[0m \u001b[0mtlist\u001b[0m\u001b[0;34m.\u001b[0m\u001b[0mget_sublists\u001b[0m\u001b[0;34m(\u001b[0m\u001b[0;34m)\u001b[0m\u001b[0;34m:\u001b[0m\u001b[0;34m\u001b[0m\u001b[0;34m\u001b[0m\u001b[0m\n\u001b[1;32m     72\u001b[0m                 \u001b[0;32mif\u001b[0m \u001b[0;32mnot\u001b[0m \u001b[0misinstance\u001b[0m\u001b[0;34m(\u001b[0m\u001b[0msgroup\u001b[0m\u001b[0;34m,\u001b[0m \u001b[0mcls\u001b[0m\u001b[0;34m)\u001b[0m\u001b[0;34m:\u001b[0m\u001b[0;34m\u001b[0m\u001b[0;34m\u001b[0m\u001b[0m\n\u001b[0;32m---> 73\u001b[0;31m                     \u001b[0mwrapped_f\u001b[0m\u001b[0;34m(\u001b[0m\u001b[0msgroup\u001b[0m\u001b[0;34m)\u001b[0m\u001b[0;34m\u001b[0m\u001b[0;34m\u001b[0m\u001b[0m\n\u001b[0m\u001b[1;32m     74\u001b[0m             \u001b[0mf\u001b[0m\u001b[0;34m(\u001b[0m\u001b[0mtlist\u001b[0m\u001b[0;34m)\u001b[0m\u001b[0;34m\u001b[0m\u001b[0;34m\u001b[0m\u001b[0m\n\u001b[1;32m     75\u001b[0m \u001b[0;34m\u001b[0m\u001b[0m\n",
      "\u001b[0;32m~/.local/lib/python3.9/site-packages/sqlparse/utils.py\u001b[0m in \u001b[0;36mwrapped_f\u001b[0;34m(tlist)\u001b[0m\n\u001b[1;32m     71\u001b[0m             \u001b[0;32mfor\u001b[0m \u001b[0msgroup\u001b[0m \u001b[0;32min\u001b[0m \u001b[0mtlist\u001b[0m\u001b[0;34m.\u001b[0m\u001b[0mget_sublists\u001b[0m\u001b[0;34m(\u001b[0m\u001b[0;34m)\u001b[0m\u001b[0;34m:\u001b[0m\u001b[0;34m\u001b[0m\u001b[0;34m\u001b[0m\u001b[0m\n\u001b[1;32m     72\u001b[0m                 \u001b[0;32mif\u001b[0m \u001b[0;32mnot\u001b[0m \u001b[0misinstance\u001b[0m\u001b[0;34m(\u001b[0m\u001b[0msgroup\u001b[0m\u001b[0;34m,\u001b[0m \u001b[0mcls\u001b[0m\u001b[0;34m)\u001b[0m\u001b[0;34m:\u001b[0m\u001b[0;34m\u001b[0m\u001b[0;34m\u001b[0m\u001b[0m\n\u001b[0;32m---> 73\u001b[0;31m                     \u001b[0mwrapped_f\u001b[0m\u001b[0;34m(\u001b[0m\u001b[0msgroup\u001b[0m\u001b[0;34m)\u001b[0m\u001b[0;34m\u001b[0m\u001b[0;34m\u001b[0m\u001b[0m\n\u001b[0m\u001b[1;32m     74\u001b[0m             \u001b[0mf\u001b[0m\u001b[0;34m(\u001b[0m\u001b[0mtlist\u001b[0m\u001b[0;34m)\u001b[0m\u001b[0;34m\u001b[0m\u001b[0;34m\u001b[0m\u001b[0m\n\u001b[1;32m     75\u001b[0m \u001b[0;34m\u001b[0m\u001b[0m\n",
      "\u001b[0;32m~/.local/lib/python3.9/site-packages/sqlparse/utils.py\u001b[0m in \u001b[0;36mwrapped_f\u001b[0;34m(tlist)\u001b[0m\n\u001b[1;32m     69\u001b[0m     \u001b[0;32mdef\u001b[0m \u001b[0mwrap\u001b[0m\u001b[0;34m(\u001b[0m\u001b[0mf\u001b[0m\u001b[0;34m)\u001b[0m\u001b[0;34m:\u001b[0m\u001b[0;34m\u001b[0m\u001b[0;34m\u001b[0m\u001b[0m\n\u001b[1;32m     70\u001b[0m         \u001b[0;32mdef\u001b[0m \u001b[0mwrapped_f\u001b[0m\u001b[0;34m(\u001b[0m\u001b[0mtlist\u001b[0m\u001b[0;34m)\u001b[0m\u001b[0;34m:\u001b[0m\u001b[0;34m\u001b[0m\u001b[0;34m\u001b[0m\u001b[0m\n\u001b[0;32m---> 71\u001b[0;31m             \u001b[0;32mfor\u001b[0m \u001b[0msgroup\u001b[0m \u001b[0;32min\u001b[0m \u001b[0mtlist\u001b[0m\u001b[0;34m.\u001b[0m\u001b[0mget_sublists\u001b[0m\u001b[0;34m(\u001b[0m\u001b[0;34m)\u001b[0m\u001b[0;34m:\u001b[0m\u001b[0;34m\u001b[0m\u001b[0;34m\u001b[0m\u001b[0m\n\u001b[0m\u001b[1;32m     72\u001b[0m                 \u001b[0;32mif\u001b[0m \u001b[0;32mnot\u001b[0m \u001b[0misinstance\u001b[0m\u001b[0;34m(\u001b[0m\u001b[0msgroup\u001b[0m\u001b[0;34m,\u001b[0m \u001b[0mcls\u001b[0m\u001b[0;34m)\u001b[0m\u001b[0;34m:\u001b[0m\u001b[0;34m\u001b[0m\u001b[0;34m\u001b[0m\u001b[0m\n\u001b[1;32m     73\u001b[0m                     \u001b[0mwrapped_f\u001b[0m\u001b[0;34m(\u001b[0m\u001b[0msgroup\u001b[0m\u001b[0;34m)\u001b[0m\u001b[0;34m\u001b[0m\u001b[0;34m\u001b[0m\u001b[0m\n",
      "\u001b[0;31mKeyboardInterrupt\u001b[0m: "
     ]
    }
   ],
   "source": [
    "from cardinality_estimation.mscn import MSCN as MSCN2\n",
    "\n",
    "featurizer = init_featurizer(\"set\")\n",
    "mscn = MSCN2(max_epochs = max_epochs, lr=lr,\n",
    "                training_opt = training_opt,\n",
    "                inp_dropout = 0.0,\n",
    "                hl_dropout = 0.0,\n",
    "                comb_dropout = 0.0,\n",
    "                opt_lr = opt_lr,\n",
    "                swa_start = swa_start,\n",
    "                mask_unseen_subplans = mask_unseen_subplans,\n",
    "                subplan_level_outputs=subplan_level_outputs,\n",
    "                normalize_flow_loss = normalize_flow_loss,\n",
    "                heuristic_unseen_preds = heuristic_unseen_preds,\n",
    "                cost_model = cost_model,\n",
    "                use_wandb = use_wandb,\n",
    "                eval_fns = eval_fns,\n",
    "                load_padded_mscn_feats = load_padded_mscn_feats,\n",
    "                mb_size = mb_size,\n",
    "                weight_decay = weight_decay,\n",
    "                load_query_together = load_query_together,\n",
    "                result_dir = result_dir,\n",
    "                onehot_dropout=onehot_dropout,\n",
    "                onehot_mask_truep=onehot_mask_truep,\n",
    "                onehot_reg=onehot_reg,\n",
    "                onehot_reg_decay=onehot_reg_decay,\n",
    "                # num_hidden_layers=num_hidden_layers,\n",
    "                eval_epoch = eval_epoch,\n",
    "                optimizer_name=optimizer_name,\n",
    "                clip_gradient=clip_gradient,\n",
    "                loss_func_name = loss_func_name,\n",
    "                hidden_layer_size = hidden_layer_size)\n",
    "\n",
    "mscn.train(trainqs, valqs=None, testqs=None,\n",
    "    featurizer=featurizer, result_dir=RESULTDIR)"
   ]
  },
  {
   "cell_type": "code",
   "execution_count": 90,
   "id": "random-share",
   "metadata": {},
   "outputs": [
    {
     "name": "stdout",
     "output_type": "stream",
     "text": [
      "Experiment name will be:  MSCN1337814871\n",
      "Extracting features took:  87.62792754173279\n",
      "train, MSCN, #samples: 145000, QError: mean: 15.376, median: 2.266, 99p: 167.086\n",
      "train, #samples: 500, plancost relative: 1.525\n",
      "train, MSCN, #samples: 500, SimplePlanCost: mean: 751931.802, median: 159059.817, 99p: 7860900.337\n"
     ]
    }
   ],
   "source": [
    "# evaluate model\n",
    "eval_alg(mscn, EVAL_FNS, trainqs, \"train\")\n",
    "\n",
    "#eval_alg(mscn, EVAL_FNS, valqs, \"val\")\n",
    "# TODO: test set prdictions; should submit these for the leaderboard?\n",
    "#preds = mscn.test(testqs)"
   ]
  },
  {
   "cell_type": "code",
   "execution_count": 91,
   "id": "929d80e7",
   "metadata": {},
   "outputs": [
    {
     "name": "stdout",
     "output_type": "stream",
     "text": [
      "Extracting features took:  155.68056893348694\n",
      "test, MSCN, #samples: 257520, QError: mean: 229.663, median: 2.379, 99p: 184.48\n",
      "test, #samples: 888, plancost relative: 1.237\n",
      "test, MSCN, #samples: 888, SimplePlanCost: mean: 2614753.078, median: 350951.545, 99p: 39147598.699\n"
     ]
    }
   ],
   "source": [
    "eval_alg(mscn, EVAL_FNS, testqs, \"test\")"
   ]
  },
  {
   "cell_type": "code",
   "execution_count": 1,
   "id": "desperate-harvard",
   "metadata": {},
   "outputs": [],
   "source": [
    "# imports from captum library\n",
    "from captum.attr import LayerConductance, LayerActivation, LayerIntegratedGradients\n",
    "from captum.attr import IntegratedGradients, DeepLift, GradientShap, NoiseTunnel, FeatureAblation"
   ]
  },
  {
   "cell_type": "code",
   "execution_count": 2,
   "id": "e95f83d3",
   "metadata": {},
   "outputs": [
    {
     "ename": "NameError",
     "evalue": "name 'init_featurizer' is not defined",
     "output_type": "error",
     "traceback": [
      "\u001b[0;31m---------------------------------------------------------------------------\u001b[0m",
      "\u001b[0;31mNameError\u001b[0m                                 Traceback (most recent call last)",
      "\u001b[0;32m/tmp/ipykernel_1517018/2527151208.py\u001b[0m in \u001b[0;36m<module>\u001b[0;34m\u001b[0m\n\u001b[0;32m----> 1\u001b[0;31m \u001b[0mfeaturizer\u001b[0m \u001b[0;34m=\u001b[0m \u001b[0minit_featurizer\u001b[0m\u001b[0;34m(\u001b[0m\u001b[0;34m\"set\"\u001b[0m\u001b[0;34m)\u001b[0m\u001b[0;34m\u001b[0m\u001b[0;34m\u001b[0m\u001b[0m\n\u001b[0m\u001b[1;32m      2\u001b[0m ds = QueryDataset(trainqs[0:10], featurizer,\n\u001b[1;32m      3\u001b[0m         \u001b[0;32mTrue\u001b[0m\u001b[0;34m,\u001b[0m\u001b[0;34m\u001b[0m\u001b[0;34m\u001b[0m\u001b[0m\n\u001b[1;32m      4\u001b[0m         load_padded_mscn_feats=True)\n\u001b[1;32m      5\u001b[0m loader = data.DataLoader(ds,\n",
      "\u001b[0;31mNameError\u001b[0m: name 'init_featurizer' is not defined"
     ]
    }
   ],
   "source": [
    "featurizer = init_featurizer(\"set\")\n",
    "ds = QueryDataset(trainqs[0:10], featurizer,\n",
    "        True,\n",
    "        load_padded_mscn_feats=True)\n",
    "loader = data.DataLoader(ds,\n",
    "        batch_size=1, shuffle=False,\n",
    "        collate_fn=mscn_collate_fn_together,\n",
    "        )\n",
    "\n",
    "testds = QueryDataset(testqs[0:3], featurizer,\n",
    "        True,\n",
    "        load_padded_mscn_feats=True)\n",
    "testloader = data.DataLoader(testds,\n",
    "        batch_size=1, shuffle=False,\n",
    "        collate_fn=mscn_collate_fn_together,\n",
    "        )"
   ]
  },
  {
   "cell_type": "code",
   "execution_count": 38,
   "id": "9e6e487c",
   "metadata": {},
   "outputs": [
    {
     "name": "stdout",
     "output_type": "stream",
     "text": [
      "SELECT COUNT(*)\n",
      "FROM title AS t,\n",
      "     kind_type AS kt,\n",
      "     info_type AS it1,\n",
      "     movie_info AS mi1,\n",
      "     movie_info AS mi2,\n",
      "     info_type AS it2,\n",
      "     cast_info AS ci,\n",
      "     role_type AS rt,\n",
      "     name AS n,\n",
      "     movie_keyword AS mk,\n",
      "     keyword AS k\n",
      "WHERE t.id = ci.movie_id\n",
      "  AND t.id = mi1.movie_id\n",
      "  AND t.id = mi2.movie_id\n",
      "  AND t.id = mk.movie_id\n",
      "  AND k.id = mk.keyword_id\n",
      "  AND mi1.movie_id = mi2.movie_id\n",
      "  AND mi1.info_type_id = it1.id\n",
      "  AND mi2.info_type_id = it2.id\n",
      "  AND (it1.id in ('5'))\n",
      "  AND (it2.id in ('18'))\n",
      "  AND t.kind_id = kt.id\n",
      "  AND ci.person_id = n.id\n",
      "  AND ci.role_id = rt.id\n",
      "  AND (mi1.info in ('Argentina:Atp',\n",
      "                    'Germany:16',\n",
      "                    'Iceland:L',\n",
      "                    'Netherlands:12',\n",
      "                    'Sweden:15',\n",
      "                    'UK:15',\n",
      "                    'USA:Not Rated',\n",
      "                    'USA:PG-13'))\n",
      "  AND (mi2.info in ('Argentina',\n",
      "                    'London, England, UK',\n",
      "                    'Los Angeles, California, USA',\n",
      "                    'New York City, New York, USA'))\n",
      "  AND (kt.kind in ('tv movie',\n",
      "                   'tv series',\n",
      "                   'video game'))\n",
      "  AND (rt.role in ('cinematographer',\n",
      "                   'writer'))\n",
      "  AND (n.gender in ('m')\n",
      "       OR n.gender IS NULL)\n",
      "  AND (t.production_year <= 2010)\n",
      "  AND (t.production_year >= 1950)\n",
      "  AND (k.keyword IN ('anal-sex',\n",
      "                     'bare-breasts',\n",
      "                     'bare-chested-male',\n",
      "                     'based-on-play',\n",
      "                     'character-name-in-title',\n",
      "                     'dog',\n",
      "                     'female-frontal-nudity',\n",
      "                     'female-nudity',\n",
      "                     'friendship',\n",
      "                     'marriage',\n",
      "                     'non-fiction',\n",
      "                     'number-in-title',\n",
      "                     'oral-sex',\n",
      "                     'party',\n",
      "                     'sequel',\n",
      "                     'singing',\n",
      "                     'suicide',\n",
      "                     'tv-mini-series'))\n"
     ]
    }
   ],
   "source": [
    "import sqlparse\n",
    "sql = trainqs[2][\"sql\"]\n",
    "print(sqlparse.format(sql, reindent=True, keyword_case='upper'))"
   ]
  },
  {
   "cell_type": "code",
   "execution_count": 50,
   "id": "9893dc19",
   "metadata": {},
   "outputs": [],
   "source": [
    "#iloader = iter(loader)\n",
    "iloader = iter(testloader)"
   ]
  },
  {
   "cell_type": "code",
   "execution_count": 51,
   "id": "1deffab5",
   "metadata": {},
   "outputs": [
    {
     "name": "stdout",
     "output_type": "stream",
     "text": [
      "tensor(135.9713)\n",
      "tensor(483.6691)\n"
     ]
    }
   ],
   "source": [
    "xbatch,y,info = next(iloader)\n",
    "print(torch.sum(xbatch[\"pred\"][:,:,20]))\n",
    "print(torch.sum(xbatch[\"pred\"][:,:,21]))"
   ]
  },
  {
   "cell_type": "code",
   "execution_count": 52,
   "id": "ff6bc625",
   "metadata": {},
   "outputs": [],
   "source": [
    "#model.state_dict()"
   ]
  },
  {
   "cell_type": "code",
   "execution_count": 53,
   "id": "1a4dbcd8",
   "metadata": {},
   "outputs": [],
   "source": [
    "from cardinality_estimation.nets import *\n",
    "mscn_model = mscn.net\n",
    "n_out = 1\n",
    "sfeats = mscn_model.sample_mlp1.in_features\n",
    "pfeats = mscn_model.predicate_mlp1.in_features\n",
    "jfeats = mscn_model.join_mlp1.in_features\n",
    "\n",
    "net = SetConvNoFlow(sfeats,\n",
    "    pfeats, jfeats,\n",
    "    128,\n",
    "    n_out=n_out,\n",
    "    dropouts=[0.0, 0.0, 0.0])"
   ]
  },
  {
   "cell_type": "code",
   "execution_count": 54,
   "id": "e537083c",
   "metadata": {},
   "outputs": [
    {
     "name": "stdout",
     "output_type": "stream",
     "text": [
      "SetConvNoFlow(\n",
      "  (inp_drop_layer): Dropout(p=0.0, inplace=False)\n",
      "  (hl_drop_layer): Dropout(p=0.0, inplace=False)\n",
      "  (combined_drop_layer): Dropout(p=0.0, inplace=False)\n",
      "  (sample_mlp1): Linear(in_features=9, out_features=128, bias=True)\n",
      "  (sample_mlp2): Linear(in_features=128, out_features=128, bias=True)\n",
      "  (predicate_mlp1): Linear(in_features=66, out_features=128, bias=True)\n",
      "  (predicate_mlp2): Linear(in_features=128, out_features=128, bias=True)\n",
      "  (join_mlp1): Linear(in_features=9, out_features=128, bias=True)\n",
      "  (join_mlp2): Linear(in_features=128, out_features=128, bias=True)\n",
      "  (out_mlp1): Linear(in_features=384, out_features=128, bias=True)\n",
      "  (out_mlp2): Linear(in_features=128, out_features=1, bias=True)\n",
      ")\n",
      "SetConv(\n",
      "  (inp_drop_layer): Dropout(p=0.0, inplace=False)\n",
      "  (hl_drop_layer): Dropout(p=0.0, inplace=False)\n",
      "  (combined_drop_layer): Dropout(p=0.0, inplace=False)\n",
      "  (sample_mlp1): Linear(in_features=9, out_features=128, bias=True)\n",
      "  (sample_mlp2): Linear(in_features=128, out_features=128, bias=True)\n",
      "  (predicate_mlp1): Linear(in_features=66, out_features=128, bias=True)\n",
      "  (predicate_mlp2): Linear(in_features=128, out_features=128, bias=True)\n",
      "  (join_mlp1): Linear(in_features=9, out_features=128, bias=True)\n",
      "  (join_mlp2): Linear(in_features=128, out_features=128, bias=True)\n",
      "  (out_mlp1): Linear(in_features=384, out_features=128, bias=True)\n",
      "  (out_mlp2): Linear(in_features=128, out_features=1, bias=True)\n",
      ")\n"
     ]
    },
    {
     "data": {
      "text/plain": [
       "<All keys matched successfully>"
      ]
     },
     "execution_count": 54,
     "metadata": {},
     "output_type": "execute_result"
    }
   ],
   "source": [
    "print(net)\n",
    "print(mscn_model)\n",
    "net.load_state_dict(mscn_model.state_dict())"
   ]
  },
  {
   "cell_type": "code",
   "execution_count": 55,
   "id": "976f292d",
   "metadata": {},
   "outputs": [
    {
     "data": {
      "text/plain": [
       "tensor(135.9713)"
      ]
     },
     "execution_count": 55,
     "metadata": {},
     "output_type": "execute_result"
    }
   ],
   "source": [
    "torch.sum(xbatch[\"pred\"][:,:,20])"
   ]
  },
  {
   "cell_type": "code",
   "execution_count": 56,
   "id": "9ca888b8",
   "metadata": {},
   "outputs": [],
   "source": [
    "model = net\n",
    "model.eval()\n",
    "ig = IntegratedGradients(model)\n",
    "ig_nt = NoiseTunnel(ig)\n",
    "dl = DeepLift(model)\n",
    "gs = GradientShap(model)\n",
    "fa = FeatureAblation(model)"
   ]
  },
  {
   "cell_type": "code",
   "execution_count": 57,
   "id": "0767309c",
   "metadata": {},
   "outputs": [
    {
     "name": "stdout",
     "output_type": "stream",
     "text": [
      "ig done\n",
      "fa done\n"
     ]
    }
   ],
   "source": [
    "#xbatch = ds.X[32]\n",
    "# ig_attr_test = ig.attribute(tuple([xbatch[\"table\"].unsqueeze(0), xbatch[\"pred\"].unsqueeze(0),\n",
    "#                             xbatch[\"join\"].unsqueeze(0), xbatch[\"flow\"].unsqueeze(0),\n",
    "#                             xbatch[\"tmask\"].unsqueeze(0), xbatch[\"pmask\"].unsqueeze(0), \n",
    "#                                    xbatch[\"jmask\"].unsqueeze(0)]), n_steps=50)\n",
    "ig_attr_test = ig.attribute(tuple([xbatch[\"table\"], xbatch[\"pred\"],\n",
    "                            xbatch[\"join\"], \n",
    "                            xbatch[\"tmask\"], xbatch[\"pmask\"], \n",
    "                                   xbatch[\"jmask\"]]), n_steps=50)\n",
    "print(\"ig done\")\n",
    "\n",
    "fa_attr_test = fa.attribute(tuple([xbatch[\"table\"], xbatch[\"pred\"],\n",
    "                            xbatch[\"join\"],\n",
    "                            xbatch[\"tmask\"], xbatch[\"pmask\"], \n",
    "                                   xbatch[\"jmask\"]]), n_steps=50)\n",
    "print(\"fa done\")"
   ]
  },
  {
   "cell_type": "code",
   "execution_count": 62,
   "id": "591c078d",
   "metadata": {},
   "outputs": [],
   "source": [
    "# def get_attr_vecs(curx, curattrs):\n",
    "#     #idxs = 0\n",
    "#     xsum = curx.sum(axis=0).sum(axis=0)\n",
    "#     zero_idxs = xsum == 0\n",
    "#     curattrs = curattrs[:,:,~zero_idxs]\n",
    "#     idxs = np.array(range(len(xsum)))[~zero_idxs]\n",
    "#     curx = curx[:,:,~zero_idxs]\n",
    "    \n",
    "#     assert curx.shape == curattrs.shape\n",
    "    \n",
    "#     # TODO: avg based on non-zero elements\n",
    "#     attr_sum = curattrs.sum(axis=0).sum(axis=0)\n",
    "#     assert attr_sum.shape[0] == curx.shape[-1]\n",
    "    \n",
    "#     # TODO: do we need this?\n",
    "#     #attr_sum = attr_sum / np.linalg.norm(attr_sum, ord=1)\n",
    "    \n",
    "#     # TODO: do this or no?\n",
    "#     curx_nonz = curx != 0\n",
    "#     xnonzero_sums = curx_nonz.sum(axis=0).sum(axis=0)\n",
    "#     #xnonzero_sums += 1\n",
    "#     #print(xnonzero_sums)\n",
    "#     #print(xnonzero_sums)\n",
    "#     attr_sum = attr_sum / xnonzero_sums\n",
    "    \n",
    "#     return idxs, attr_sum\n",
    "\n",
    "# def get_mscn_attrs(xbatch, attrs, featurizer, normalize=True):\n",
    "#     '''\n",
    "#     returns a vector with x-axis names and attribution values;\n",
    "#     '''\n",
    "#     batchsize = xbatch[\"table\"].shape[0]\n",
    "#     assert batchsize == attrs[0].shape[0]\n",
    "#     tabidxs, tabattrs = get_attr_vecs(xbatch[\"table\"].detach().numpy(), attrs[0].detach().numpy())\n",
    "#     predidxs, predattrs = get_attr_vecs(xbatch[\"pred\"].detach().numpy(), attrs[1].detach().numpy())\n",
    "#     joinidxs, joinattrs = get_attr_vecs(xbatch[\"join\"].detach().numpy(), attrs[2].detach().numpy())\n",
    "    \n",
    "#     # TODO: need to do sample_bitmaps\n",
    "#     tablabels = []\n",
    "#     for curtabidx in tabidxs:\n",
    "#         for tab,tidx in featurizer.table_featurizer.items():\n",
    "#             if tidx == curtabidx:\n",
    "#                 tablabels.append(tab)\n",
    "#                 break\n",
    "#     joinlabels = []\n",
    "#     for curjidx in joinidxs:\n",
    "#         for join,jidx in featurizer.join_featurizer.items():\n",
    "#             found = False\n",
    "#             if curjidx == jidx:\n",
    "#                 joinlabels.append(join)\n",
    "#                 found = True\n",
    "#                 break\n",
    "#         if not found:\n",
    "#             joinlabels.append(\"unknown\")\n",
    "#     # TODO: join-stats\n",
    "    \n",
    "#     predlabels = []\n",
    "#     colstart,collen = featurizer.featurizer_type_idxs[\"col_onehot\"]\n",
    "#     # TODO: if stats used\n",
    "#     #colstatsstart,colstatsend = self.featurizer_type_idxs[\"col_stats\"]\n",
    "#     cmp_start,cmplen = featurizer.featurizer_type_idxs[\"cmp_op\"]\n",
    "#     cstart,clen = featurizer.featurizer_type_idxs[\"constant_continuous\"]\n",
    "#     lstart,llen = featurizer.featurizer_type_idxs[\"constant_like\"]\n",
    "#     dstart,dlen = featurizer.featurizer_type_idxs[\"constant_discrete\"]\n",
    "#     hstart,hlen = featurizer.featurizer_type_idxs[\"heuristic_ests\"]\n",
    "#     #print(hstart, hlen)\n",
    "#     for pi in predidxs:\n",
    "#         if pi >= colstart and pi < colstart+collen:\n",
    "#             found = False\n",
    "#             for col,colidx in featurizer.columns_onehot_idx.items():\n",
    "#                 if colidx == pi:\n",
    "#                     predlabels.append(col)\n",
    "#                     found = True\n",
    "#                     break\n",
    "#             if not found:\n",
    "#                 print(pi)\n",
    "#                 predlabels.append(\"col-unknown\")\n",
    "#         elif pi >= cmp_start and pi < cmp_start+cmplen:\n",
    "#             predlabels.append(\"cmp\")\n",
    "#         elif pi == cstart:\n",
    "#             predlabels.append(\"<\")\n",
    "#         elif pi == cstart+1:\n",
    "#             predlabels.append(\">\")\n",
    "#         elif pi >= lstart and pi < lstart+llen:\n",
    "#             predlabels.append(\"Like-Hash-\" + str(pi))\n",
    "#         elif pi >= dstart and pi < dstart+dlen:\n",
    "#             predlabels.append(\"Constant-Hash-\" + str(pi))\n",
    "#         elif pi == hstart:\n",
    "#             predlabels.append(\"PostgreSQL Est (Table)\")\n",
    "#         elif pi == hstart+1:\n",
    "#             predlabels.append(\"PostgreSQL Est (Subplan)\")\n",
    "    \n",
    "#     #assert len(predidxs) == len(predlabels)\n",
    "# #     print(len(predidxs), len(predlabels))\n",
    "# #     print(predidxs)\n",
    "# #     print(predlabels)\n",
    "#     attrs = np.concatenate([tabattrs, joinattrs, predattrs])\n",
    "#     xlabels = tablabels + joinlabels + predlabels\n",
    "    \n",
    "#     if normalize:\n",
    "#         attrs = attrs / np.linalg.norm(attrs, ord=1)\n",
    "    \n",
    "#     #xlabels = list(range(len(attrs)))\n",
    "#     return xlabels,attrs"
   ]
  },
  {
   "cell_type": "code",
   "execution_count": 63,
   "id": "3a2a6f04",
   "metadata": {},
   "outputs": [],
   "source": [
    "def get_attr_vecs(curx, curattrs):\n",
    "    #idxs = 0\n",
    "    xsum = curx.sum(axis=0).sum(axis=0)\n",
    "    zero_idxs = xsum == 0\n",
    "    curattrs = curattrs[:,:,~zero_idxs]\n",
    "    idxs = np.array(range(len(xsum)))[~zero_idxs]\n",
    "    curx = curx[:,:,~zero_idxs]\n",
    "    \n",
    "    assert curx.shape == curattrs.shape\n",
    "    \n",
    "    # TODO: avg based on non-zero elements\n",
    "    \n",
    "    print(\"attr sum: \", np.sum(curattrs))\n",
    "    curattrs = np.abs(curattrs)\n",
    "    print(\"attr sum after abs: \", np.sum(curattrs))\n",
    "    \n",
    "    attr_sum = curattrs.sum(axis=0).sum(axis=0)\n",
    "    \n",
    "    assert attr_sum.shape[0] == curx.shape[-1]\n",
    "    \n",
    "    # TODO: do we need this?\n",
    "    #attr_sum = attr_sum / np.linalg.norm(attr_sum, ord=1)\n",
    "    \n",
    "    # TODO: do this or no?\n",
    "    curx_nonz = curx != 0\n",
    "    \n",
    "    xnonzero_sums = curx_nonz.sum(axis=0).sum(axis=0)\n",
    "    \n",
    "    #TODO?\n",
    "    attr_sum = attr_sum / xnonzero_sums\n",
    "    \n",
    "    return idxs, attr_sum\n",
    "\n",
    "def get_mscn_attrs(xbatch, attrs, featurizer, normalize=True):\n",
    "    '''\n",
    "    returns a vector with x-axis names and attribution values;\n",
    "    '''\n",
    "    batchsize = xbatch[\"table\"].shape[0]\n",
    "    assert batchsize == attrs[0].shape[0]\n",
    "    tabidxs, tabattrs = get_attr_vecs(xbatch[\"table\"].detach().numpy(), attrs[0].detach().numpy())\n",
    "    predidxs, predattrs = get_attr_vecs(xbatch[\"pred\"].detach().numpy(), attrs[1].detach().numpy())\n",
    "    joinidxs, joinattrs = get_attr_vecs(xbatch[\"join\"].detach().numpy(), attrs[2].detach().numpy())\n",
    "    \n",
    "    # TODO: need to do sample_bitmaps\n",
    "    tablabels = []\n",
    "    for curtabidx in tabidxs:\n",
    "        for tab,tidx in featurizer.table_featurizer.items():\n",
    "            if tidx == curtabidx:\n",
    "                tablabels.append(tab)\n",
    "                break\n",
    "    joinlabels = []\n",
    "    for curjidx in joinidxs:\n",
    "        for join,jidx in featurizer.join_featurizer.items():\n",
    "            found = False\n",
    "            if curjidx == jidx:\n",
    "                joinlabels.append(join)\n",
    "                found = True\n",
    "                break\n",
    "        if not found:\n",
    "            joinlabels.append(\"unknown\")\n",
    "    # TODO: join-stats\n",
    "    \n",
    "    predlabels = []\n",
    "    colstart,collen = featurizer.featurizer_type_idxs[\"col_onehot\"]\n",
    "    # TODO: if stats used\n",
    "    #colstatsstart,colstatsend = self.featurizer_type_idxs[\"col_stats\"]\n",
    "    cmp_start,cmplen = featurizer.featurizer_type_idxs[\"cmp_op\"]\n",
    "    cstart,clen = featurizer.featurizer_type_idxs[\"constant_continuous\"]\n",
    "    lstart,llen = featurizer.featurizer_type_idxs[\"constant_like\"]\n",
    "    dstart,dlen = featurizer.featurizer_type_idxs[\"constant_discrete\"]\n",
    "    hstart,hlen = featurizer.featurizer_type_idxs[\"heuristic_ests\"]\n",
    "    #print(hstart, hlen)\n",
    "    for pi in predidxs:\n",
    "        if pi >= colstart and pi < colstart+collen:\n",
    "            found = False\n",
    "            for col,colidx in featurizer.columns_onehot_idx.items():\n",
    "                if colidx == pi:\n",
    "                    predlabels.append(col)\n",
    "                    found = True\n",
    "                    break\n",
    "            if not found:\n",
    "                print(pi)\n",
    "                predlabels.append(\"col-unknown\")\n",
    "        elif pi >= cmp_start and pi < cmp_start+cmplen:\n",
    "            predlabels.append(\"cmp\")\n",
    "        elif pi == cstart:\n",
    "            predlabels.append(\"<\")\n",
    "        elif pi == cstart+1:\n",
    "            predlabels.append(\">\")\n",
    "        elif pi >= lstart and pi < lstart+llen:\n",
    "            predlabels.append(\"Like-Hash-\" + str(pi))\n",
    "        elif pi >= dstart and pi < dstart+dlen:\n",
    "            predlabels.append(\"Constant-Hash-\" + str(pi))\n",
    "        elif pi == hstart:\n",
    "            predlabels.append(\"PostgreSQL Est (Table)\")\n",
    "        elif pi == hstart+1:\n",
    "            predlabels.append(\"PostgreSQL Est (Subplan)\")\n",
    "    \n",
    "    #assert len(predidxs) == len(predlabels)\n",
    "#     print(len(predidxs), len(predlabels))\n",
    "#     print(predidxs)\n",
    "#     print(predlabels)\n",
    "    attrs = np.concatenate([tabattrs, joinattrs, predattrs])\n",
    "    xlabels = tablabels + joinlabels + predlabels\n",
    "    \n",
    "    if normalize:\n",
    "        attrs = attrs / np.linalg.norm(attrs, ord=1)\n",
    "    \n",
    "    return xlabels,attrs"
   ]
  },
  {
   "cell_type": "code",
   "execution_count": 64,
   "id": "97750b96",
   "metadata": {},
   "outputs": [
    {
     "name": "stdout",
     "output_type": "stream",
     "text": [
      "attr sum:  3.0679268747802064\n",
      "attr sum after abs:  22.030997184594455\n",
      "attr sum:  -19.31870633789822\n",
      "attr sum after abs:  211.6767950925135\n",
      "attr sum:  1.883283045884235\n",
      "attr sum after abs:  14.246767081282604\n",
      "18\n",
      "attr sum:  -0.38452566\n",
      "attr sum after abs:  20.053677\n",
      "attr sum:  30.662582\n",
      "attr sum after abs:  199.71732\n",
      "attr sum:  -0.30912447\n",
      "attr sum after abs:  16.841976\n",
      "18\n",
      "['cast_info', 'info_type', 'keyword', 'kind_type', 'movie_info', 'movie_keyword', 'name', 'role_type', 'title', 'ci.movie_id,t.id', 'ci.person_id,n.id', 'ci.role_id,rt.id', 'it.id,mi.info_type_id', 'k.id,mk.keyword_id', 'kt.id,t.kind_id', 'mi.movie_id,mi.movie_id', 'mi.movie_id,t.id', 'mk.movie_id,t.id', 'cmp', 'cmp', 'kt.kind', 'mii.info', 'n.gender', 'n.name_pcode_cf', 't.title', 'col-unknown', '<', '>', 'Constant-Hash-39', 'Constant-Hash-40', 'Constant-Hash-41', 'Constant-Hash-42', 'Constant-Hash-44', 'Constant-Hash-48', 'Constant-Hash-52', 'Constant-Hash-53', 'Constant-Hash-57', 'Constant-Hash-59', 'Constant-Hash-60', 'PostgreSQL Est (Table)', 'PostgreSQL Est (Subplan)']\n",
      "[0.05081465 0.0224819  0.0169406  0.01780504 0.00436219 0.0272973\n",
      " 0.02077376 0.04435772 0.00552503 0.01674565 0.02425666 0.02562761\n",
      " 0.0274834  0.00878938 0.00375418 0.00864111 0.00680261 0.01886014\n",
      " 0.08425164 0.06305311 0.0116294  0.00771142 0.01440931 0.01666906\n",
      " 0.07034681 0.00624951 0.00955755 0.00505548 0.0070738  0.02571372\n",
      " 0.00988207 0.01157215 0.071786   0.00771801 0.00739848 0.02697849\n",
      " 0.01800601 0.05391585 0.03304372 0.0170934  0.06956608]\n"
     ]
    }
   ],
   "source": [
    "xlabels, igattrs = get_mscn_attrs(xbatch, ig_attr_test, featurizer, normalize=True)\n",
    "xlabels, fattrs = get_mscn_attrs(xbatch, fa_attr_test, featurizer, normalize=True)\n",
    "print(xlabels)\n",
    "print(igattrs)"
   ]
  },
  {
   "cell_type": "code",
   "execution_count": 65,
   "id": "7fdccd07",
   "metadata": {},
   "outputs": [
    {
     "data": {
      "image/png": "[encoded data removed]",
      "text/plain": [
       "<Figure size 2160x1440 with 1 Axes>"
      ]
     },
     "metadata": {
      "needs_background": "light"
     },
     "output_type": "display_data"
    }
   ],
   "source": [
    "import seaborn as sns\n",
    "\n",
    "# plt.figure(figsize=(30, 10))\n",
    "# sns.barplot(x=xlabels, y=igattrs, color='#4260f5')\n",
    "\n",
    "plt.figure(figsize=(30, 20))\n",
    "plt.yticks(fontsize=20)\n",
    "sns.barplot(x=igattrs, y=xlabels, color='#4260f5', orient=\"horizontal\")\n",
    "plt.savefig(\"captum-mscn-dropout-2b.png\")"
   ]
  },
  {
   "cell_type": "code",
   "execution_count": 135,
   "id": "67d1b506",
   "metadata": {},
   "outputs": [
    {
     "data": {
      "text/plain": [
       "<AxesSubplot:>"
      ]
     },
     "execution_count": 135,
     "metadata": {},
     "output_type": "execute_result"
    },
    {
     "data": {
      "image/png": "[encoded data removed]",
      "text/plain": [
       "<Figure size 2160x720 with 1 Axes>"
      ]
     },
     "metadata": {
      "needs_background": "light"
     },
     "output_type": "display_data"
    }
   ],
   "source": [
    "import seaborn as sns\n",
    "\n",
    "plt.figure(figsize=(30, 10))\n",
    "sns.barplot(x=xlabels, y=fattrs, color='#4260f5')"
   ]
  },
  {
   "cell_type": "code",
   "execution_count": 63,
   "id": "4e6346eb",
   "metadata": {},
   "outputs": [
    {
     "name": "stdout",
     "output_type": "stream",
     "text": [
      "(290, 11, 9)\n"
     ]
    },
    {
     "data": {
      "text/plain": [
       "(9,)"
      ]
     },
     "execution_count": 63,
     "metadata": {},
     "output_type": "execute_result"
    }
   ],
   "source": [
    "curattrs = ig_attr_test[0].detach().numpy()\n",
    "print(curattrs.shape)\n",
    "curattrs.sum(axis=0).sum(axis=0).shape"
   ]
  },
  {
   "cell_type": "code",
   "execution_count": 23,
   "id": "904e0bcd",
   "metadata": {},
   "outputs": [
    {
     "data": {
      "text/plain": [
       "{'join_onehot': (0, 9),\n",
       " 'cmp_op': (0, 2),\n",
       " 'col_onehot': (2, 18),\n",
       " 'constant_continuous': (20, 2),\n",
       " 'constant_like': (22, 12),\n",
       " 'constant_discrete': (34, 10),\n",
       " 'heuristic_ests': (44, 2)}"
      ]
     },
     "execution_count": 23,
     "metadata": {},
     "output_type": "execute_result"
    }
   ],
   "source": [
    "featurizer.featurizer_type_idxs"
   ]
  },
  {
   "cell_type": "code",
   "execution_count": 107,
   "id": "c547b539",
   "metadata": {},
   "outputs": [
    {
     "name": "stdout",
     "output_type": "stream",
     "text": [
      "tensor([220., 188.,  92., 136., 372., 182., 111., 111., 270.])\n",
      "tensor([1010.0000,  540.0000,    0.0000,    0.0000,    0.0000,    0.0000,\n",
      "         188.0000,   92.0000,  136.0000,  372.0000,    0.0000,  111.0000,\n",
      "           0.0000,    0.0000,    0.0000,    0.0000,    0.0000,  111.0000,\n",
      "         540.0000,    0.0000,    0.0000,  524.4604,    0.0000,    0.0000,\n",
      "           0.0000,    0.0000,    0.0000,    0.0000,    0.0000,    0.0000,\n",
      "           0.0000,    0.0000,    0.0000,    0.0000,  203.0000,    0.0000,\n",
      "         186.0000,  186.0000,  322.0000,  203.0000,  230.0000,    0.0000,\n",
      "         414.0000,  389.0000,  658.0579,  540.9561])\n",
      "tensor([216., 110., 110., 186.,  91., 135., 124., 360., 180.])\n",
      "torch.Size([290, 11, 9])\n",
      "torch.Size([290, 11, 46])\n",
      "torch.Size([290, 11, 9])\n"
     ]
    }
   ],
   "source": [
    "print(xbatch[\"table\"].sum(axis=[0,1]))\n",
    "print(xbatch[\"pred\"].sum(axis=[0,1]))\n",
    "print(xbatch[\"join\"].sum(axis=[0,1]))\n",
    "\n",
    "print(xbatch[\"table\"].shape)\n",
    "print(xbatch[\"pred\"].shape)\n",
    "print(xbatch[\"join\"].shape)"
   ]
  },
  {
   "cell_type": "code",
   "execution_count": 46,
   "id": "081895db",
   "metadata": {},
   "outputs": [],
   "source": [
    "# import torch\n",
    "# print(torch.max(ig_attr_test[1]), torch.argmax(ig_attr_test[1]))\n",
    "# print(torch.max(fa_attr_test[1]), torch.argmax(fa_attr_test[1]))\n",
    "#len(ig_attr_test)\n",
    "\n",
    "# np.linalg.norm(ig_attr_test[1].detach().numpy(), ord=0)"
   ]
  },
  {
   "cell_type": "code",
   "execution_count": 95,
   "id": "481a1b98",
   "metadata": {},
   "outputs": [
    {
     "data": {
      "text/plain": [
       "torch.Size([587, 18, 48])"
      ]
     },
     "execution_count": 95,
     "metadata": {},
     "output_type": "execute_result"
    }
   ],
   "source": [
    "ig_attr_test[1].shape"
   ]
  },
  {
   "cell_type": "code",
   "execution_count": 98,
   "id": "7bcadbb1",
   "metadata": {},
   "outputs": [
    {
     "data": {
      "text/plain": [
       "tensor(8.3609, dtype=torch.float64)"
      ]
     },
     "execution_count": 98,
     "metadata": {},
     "output_type": "execute_result"
    }
   ],
   "source": [
    "torch.sum(ig_attr_test[1][:,:,idx])"
   ]
  },
  {
   "cell_type": "code",
   "execution_count": 90,
   "id": "2b5066bf",
   "metadata": {},
   "outputs": [
    {
     "name": "stdout",
     "output_type": "stream",
     "text": [
      "0 tensor(0., dtype=torch.float64)\n",
      "1 tensor(-1.4279, dtype=torch.float64)\n",
      "2 tensor(0.3491, dtype=torch.float64)\n",
      "3 tensor(-0.6830, dtype=torch.float64)\n",
      "4 tensor(0., dtype=torch.float64)\n",
      "5 tensor(0., dtype=torch.float64)\n",
      "6 tensor(0., dtype=torch.float64)\n",
      "7 tensor(0., dtype=torch.float64)\n",
      "8 tensor(-1.0535, dtype=torch.float64)\n",
      "9 tensor(0., dtype=torch.float64)\n",
      "10 tensor(0.1581, dtype=torch.float64)\n",
      "11 tensor(-0.1236, dtype=torch.float64)\n",
      "12 tensor(0., dtype=torch.float64)\n",
      "13 tensor(0., dtype=torch.float64)\n",
      "14 tensor(0., dtype=torch.float64)\n",
      "15 tensor(0., dtype=torch.float64)\n",
      "16 tensor(0., dtype=torch.float64)\n",
      "17 tensor(0., dtype=torch.float64)\n",
      "18 tensor(-0.0802, dtype=torch.float64)\n",
      "19 tensor(0.3326, dtype=torch.float64)\n",
      "20 tensor(1.4211, dtype=torch.float64)\n",
      "21 tensor(0., dtype=torch.float64)\n",
      "22 tensor(0., dtype=torch.float64)\n",
      "23 tensor(0.8621, dtype=torch.float64)\n",
      "24 tensor(0., dtype=torch.float64)\n",
      "25 tensor(-0.0369, dtype=torch.float64)\n",
      "26 tensor(0., dtype=torch.float64)\n",
      "27 tensor(0.6970, dtype=torch.float64)\n",
      "28 tensor(0., dtype=torch.float64)\n",
      "29 tensor(0., dtype=torch.float64)\n",
      "30 tensor(0., dtype=torch.float64)\n",
      "31 tensor(0., dtype=torch.float64)\n",
      "32 tensor(0., dtype=torch.float64)\n",
      "33 tensor(0., dtype=torch.float64)\n",
      "34 tensor(0.7748, dtype=torch.float64)\n",
      "35 tensor(0., dtype=torch.float64)\n",
      "36 tensor(0., dtype=torch.float64)\n",
      "37 tensor(-0.4189, dtype=torch.float64)\n",
      "38 tensor(0., dtype=torch.float64)\n",
      "39 tensor(-0.6891, dtype=torch.float64)\n",
      "40 tensor(0.2141, dtype=torch.float64)\n",
      "41 tensor(-0.1573, dtype=torch.float64)\n",
      "42 tensor(-0.2067, dtype=torch.float64)\n",
      "43 tensor(-2.0876, dtype=torch.float64)\n",
      "44 tensor(-0.5928, dtype=torch.float64)\n",
      "45 tensor(-1.2917, dtype=torch.float64)\n",
      "46 tensor(1.1308, dtype=torch.float64)\n",
      "47 tensor(8.3609, dtype=torch.float64)\n"
     ]
    }
   ],
   "source": [
    "for idx in range(ig_attr_test[1].shape[2]):\n",
    "    print(idx, torch.sum(ig_attr_test[1][:,:,idx]))"
   ]
  },
  {
   "cell_type": "code",
   "execution_count": 26,
   "id": "17bd50e2",
   "metadata": {},
   "outputs": [
    {
     "name": "stdout",
     "output_type": "stream",
     "text": [
      "Updated stats to remove alias based columns\n",
      "max pred vals: 47\n",
      "Extracting features took:  0.8985092639923096\n"
     ]
    }
   ],
   "source": [
    "featurizer = init_featurizer(\"combined\")\n",
    "ds = QueryDataset(trainqs, featurizer,\n",
    "        False,\n",
    "        load_padded_mscn_feats=False)\n",
    "\n",
    "# featurizer = init_featurizer(\"set\")\n",
    "# ds = QueryDataset(trainqs, featurizer,\n",
    "#         False,\n",
    "#         load_padded_mscn_feats=True)\n",
    "model = fcnn.net\n",
    "\n",
    "ig = IntegratedGradients(model)\n",
    "ig_nt = NoiseTunnel(ig)\n",
    "dl = DeepLift(model)\n",
    "gs = GradientShap(model)\n",
    "fa = FeatureAblation(model)"
   ]
  },
  {
   "cell_type": "code",
   "execution_count": 29,
   "id": "f2e5a2d4",
   "metadata": {},
   "outputs": [
    {
     "name": "stdout",
     "output_type": "stream",
     "text": [
      "ig done\n",
      "dl done\n",
      "gs done\n"
     ]
    }
   ],
   "source": [
    "X_test = ds.X[32:35]\n",
    "X_train = ds.X[32:35]\n",
    "\n",
    "ig_attr_test = ig.attribute(X_test, n_steps=50)\n",
    "print(\"ig done\")\n",
    "ig_nt_attr_test = ig_nt.attribute(X_test)\n",
    "dl_attr_test = dl.attribute(X_test)\n",
    "print(\"dl done\")\n",
    "gs_attr_test = gs.attribute(X_test, X_train)\n",
    "print(\"gs done\")\n",
    "fa_attr_test = fa.attribute(X_test)"
   ]
  },
  {
   "cell_type": "code",
   "execution_count": 30,
   "id": "01e92ebb",
   "metadata": {},
   "outputs": [
    {
     "data": {
      "text/plain": [
       "tensor([[ 0.0052,  0.0004, -0.0084,  ..., -0.0000, -0.0000,  0.0000],\n",
       "        [ 0.0059, -0.0002, -0.0072,  ..., -0.0000,  0.0000,  0.0000],\n",
       "        [ 0.0064,  0.0005, -0.0060,  ..., -0.0000,  0.0000,  0.0000]],\n",
       "       dtype=torch.float64)"
      ]
     },
     "execution_count": 30,
     "metadata": {},
     "output_type": "execute_result"
    }
   ],
   "source": [
    "ig_attr_test"
   ]
  },
  {
   "cell_type": "code",
   "execution_count": 31,
   "id": "0e7d2609",
   "metadata": {},
   "outputs": [
    {
     "data": {
      "text/plain": [
       "torch.Size([3, 421])"
      ]
     },
     "execution_count": 31,
     "metadata": {},
     "output_type": "execute_result"
    }
   ],
   "source": [
    "X_test.shape"
   ]
  },
  {
   "cell_type": "code",
   "execution_count": 32,
   "id": "5107ae0f",
   "metadata": {},
   "outputs": [],
   "source": [
    "# lets find all the zeros in X_test\n",
    "combined_vec = X_test.sum(axis=0)\n",
    "zero_idxs = combined_vec == 0\n",
    "X_test_nonzero = X_test[:,~zero_idxs]\n",
    "ig_attr_test = ig_attr_test[:,~zero_idxs]\n",
    "ig_nt_attr_test = ig_nt_attr_test[:,~zero_idxs]\n",
    "dl_attr_test = dl_attr_test[:,~zero_idxs]\n",
    "gs_attr_test = gs_attr_test[:,~zero_idxs]\n",
    "fa_attr_test = fa_attr_test[:,~zero_idxs]"
   ]
  },
  {
   "cell_type": "code",
   "execution_count": 33,
   "id": "8a97acc7",
   "metadata": {},
   "outputs": [],
   "source": [
    "model = fcnn.net"
   ]
  },
  {
   "cell_type": "code",
   "execution_count": 34,
   "id": "03d2da49",
   "metadata": {},
   "outputs": [
    {
     "data": {
      "image/png": "[encoded data removed]",
      "text/plain": [
       "<Figure size 2160x720 with 1 Axes>"
      ]
     },
     "metadata": {
      "needs_background": "light"
     },
     "output_type": "display_data"
    }
   ],
   "source": [
    "x_axis_data = np.arange(X_test_nonzero.shape[1])\n",
    "x_axis_data_labels = list(map(lambda idx: idx, x_axis_data))\n",
    "\n",
    "ig_attr_test_sum = ig_attr_test.detach().numpy().sum(0)\n",
    "ig_attr_test_norm_sum = ig_attr_test_sum / np.linalg.norm(ig_attr_test_sum, ord=1)\n",
    "\n",
    "ig_nt_attr_test_sum = ig_nt_attr_test.detach().numpy().sum(0)\n",
    "ig_nt_attr_test_norm_sum = ig_nt_attr_test_sum / np.linalg.norm(ig_nt_attr_test_sum, ord=1)\n",
    "\n",
    "dl_attr_test_sum = dl_attr_test.detach().numpy().sum(0)\n",
    "dl_attr_test_norm_sum = dl_attr_test_sum / np.linalg.norm(dl_attr_test_sum, ord=1)\n",
    "\n",
    "gs_attr_test_sum = gs_attr_test.detach().numpy().sum(0)\n",
    "gs_attr_test_norm_sum = gs_attr_test_sum / np.linalg.norm(gs_attr_test_sum, ord=1)\n",
    "\n",
    "fa_attr_test_sum = fa_attr_test.detach().numpy().sum(0)\n",
    "fa_attr_test_norm_sum = fa_attr_test_sum / np.linalg.norm(fa_attr_test_sum, ord=1)\n",
    "\n",
    "lin_weight = model.layers[0][0].weight.detach().numpy()\n",
    "y_axis_lin_weight = lin_weight / np.linalg.norm(lin_weight, ord=1)\n",
    "\n",
    "width = 0.14\n",
    "legends = ['Int Grads', 'Int Grads w/SmoothGrad','DeepLift', 'GradientSHAP', 'Feature Ablation', 'Weights']\n",
    "\n",
    "plt.figure(figsize=(30, 10))\n",
    "\n",
    "ax = plt.subplot()\n",
    "ax.set_title('Comparing input feature importances across multiple algorithms and learned weights')\n",
    "ax.set_ylabel('Attributions')\n",
    "\n",
    "FONT_SIZE = 16\n",
    "plt.rc('font', size=FONT_SIZE)            # fontsize of the text sizes\n",
    "plt.rc('axes', titlesize=FONT_SIZE)       # fontsize of the axes title\n",
    "plt.rc('axes', labelsize=FONT_SIZE)       # fontsize of the x and y labels\n",
    "plt.rc('legend', fontsize=FONT_SIZE - 4)  # fontsize of the legend\n",
    "\n",
    "ax.bar(x_axis_data, ig_attr_test_norm_sum, width, align='center', alpha=0.8, color='#eb5e7c')\n",
    "ax.bar(x_axis_data + width, ig_nt_attr_test_norm_sum, width, align='center', alpha=0.7, color='#A90000')\n",
    "ax.bar(x_axis_data + 2 * width, dl_attr_test_norm_sum, width, align='center', alpha=0.6, color='#34b8e0')\n",
    "ax.bar(x_axis_data + 3 * width, gs_attr_test_norm_sum, width, align='center',  alpha=0.8, color='#4260f5')\n",
    "ax.bar(x_axis_data + 4 * width, fa_attr_test_norm_sum, width, align='center', alpha=1.0, color='#49ba81')\n",
    "\n",
    "#ax.bar(x_axis_data + 5 * width, y_axis_lin_weight, width, align='center', alpha=1.0, color='grey')\n",
    "ax.autoscale_view()\n",
    "plt.tight_layout()\n",
    "\n",
    "ax.set_xticks(x_axis_data + 0.5)\n",
    "ax.set_xticklabels(x_axis_data_labels)\n",
    "\n",
    "plt.legend(legends, loc=3)\n",
    "plt.show()"
   ]
  },
  {
   "cell_type": "code",
   "execution_count": 35,
   "id": "3a7443c1",
   "metadata": {},
   "outputs": [
    {
     "data": {
      "text/plain": [
       "0.506443"
      ]
     },
     "execution_count": 35,
     "metadata": {},
     "output_type": "execute_result"
    }
   ],
   "source": [
    "np.linalg.norm(dl_attr_test_sum, ord=1)"
   ]
  },
  {
   "cell_type": "code",
   "execution_count": 36,
   "id": "1fe1c6cb",
   "metadata": {},
   "outputs": [
    {
     "data": {
      "text/plain": [
       "array([ 1.78577974e-02,  7.52312480e-04, -2.15418749e-02,  1.60384004e-03,\n",
       "        3.93935945e-03,  2.10877899e-02,  5.00810985e-03, -4.73901583e-03,\n",
       "        9.00274515e-03, -3.54326069e-02, -4.15623412e-02, -4.89440188e-02,\n",
       "       -2.96287537e-02, -3.48007679e-02, -1.88754369e-02, -3.20775202e-03,\n",
       "        4.94512729e-03,  5.79412980e-03,  2.06019240e-03,  3.83375585e-03,\n",
       "       -1.43896366e-04,  5.30758593e-03,  4.92963661e-03, -3.56053235e-04,\n",
       "       -5.43375639e-03,  8.57877079e-03, -2.99923914e-03, -7.88905072e-06,\n",
       "        1.75159983e-02,  1.79213695e-02,  7.95027241e-03,  4.83776862e-03,\n",
       "       -7.29555869e-03,  4.20464342e-03,  1.29278135e-02,  1.96822360e-03,\n",
       "        8.37280473e-04, -3.36124818e-03, -1.34830289e-02,  7.66214449e-03,\n",
       "        1.45313442e-02,  8.65940098e-03,  5.48160682e-03,  2.26582885e-02,\n",
       "       -1.19667305e-02, -8.05790187e-04], dtype=float32)"
      ]
     },
     "execution_count": 36,
     "metadata": {},
     "output_type": "execute_result"
    }
   ],
   "source": [
    "dl_attr_test_sum"
   ]
  },
  {
   "cell_type": "code",
   "execution_count": 38,
   "id": "6309fd7a",
   "metadata": {},
   "outputs": [
    {
     "data": {
      "text/plain": [
       "tensor([ 1.7858e-02,  7.5231e-04, -2.1542e-02,  1.6038e-03,  3.9394e-03,\n",
       "         2.1088e-02,  5.0081e-03, -4.7390e-03,  9.0027e-03, -3.5433e-02,\n",
       "        -4.1562e-02, -4.8944e-02, -2.9629e-02, -3.4801e-02, -1.8875e-02,\n",
       "        -3.2078e-03,  4.9451e-03,  5.7941e-03,  2.0602e-03,  3.8338e-03,\n",
       "        -1.4390e-04,  5.3076e-03,  4.9296e-03, -3.5605e-04, -5.4338e-03,\n",
       "         8.5788e-03, -2.9992e-03, -7.8891e-06,  1.7516e-02,  1.7921e-02,\n",
       "         7.9503e-03,  4.8378e-03, -7.2956e-03,  4.2046e-03,  1.2928e-02,\n",
       "         1.9682e-03,  8.3728e-04, -3.3612e-03, -1.3483e-02,  7.6621e-03,\n",
       "         1.4531e-02,  8.6594e-03,  5.4816e-03,  2.2658e-02, -1.1967e-02,\n",
       "        -8.0579e-04], grad_fn=<SumBackward1>)"
      ]
     },
     "execution_count": 38,
     "metadata": {},
     "output_type": "execute_result"
    }
   ],
   "source": [
    "dl_attr_test.sum(0)"
   ]
  },
  {
   "cell_type": "code",
   "execution_count": null,
   "id": "7971e8ea",
   "metadata": {},
   "outputs": [],
   "source": []
  }
 ],
 "metadata": {
  "kernelspec": {
   "display_name": "Python 3 (ipykernel)",
   "language": "python",
   "name": "python3"
  },
  "language_info": {
   "codemirror_mode": {
    "name": "ipython",
    "version": 3
   },
   "file_extension": ".py",
   "mimetype": "text/x-python",
   "name": "python",
   "nbconvert_exporter": "python",
   "pygments_lexer": "ipython3",
   "version": "3.10.4"
  }
 },
 "nbformat": 4,
 "nbformat_minor": 5
}
